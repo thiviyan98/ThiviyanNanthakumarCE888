{
  "nbformat": 4,
  "nbformat_minor": 0,
  "metadata": {
    "colab": {
      "name": "bank_classification.ipynb",
      "provenance": [],
      "collapsed_sections": [],
      "authorship_tag": "ABX9TyOgScfLfsxcLMcsyTVos9fn",
      "include_colab_link": true
    },
    "kernelspec": {
      "name": "python3",
      "display_name": "Python 3"
    },
    "accelerator": "GPU"
  },
  "cells": [
    {
      "cell_type": "markdown",
      "metadata": {
        "id": "view-in-github",
        "colab_type": "text"
      },
      "source": [
        "<a href=\"https://colab.research.google.com/github/thiviyan98/ThiviyanNanthakumarCE888/blob/master/bank_classification.ipynb\" target=\"_parent\"><img src=\"https://colab.research.google.com/assets/colab-badge.svg\" alt=\"Open In Colab\"/></a>"
      ]
    },
    {
      "cell_type": "code",
      "metadata": {
        "id": "BOqswgrM41tr",
        "colab_type": "code",
        "colab": {}
      },
      "source": [
        "%matplotlib inline\n",
        "import matplotlib\n",
        "import numpy as np\n",
        "import matplotlib.pyplot as plt\n",
        "import pandas as pd\n",
        "import seaborn as sns\n",
        "import itertools\n",
        "\n",
        "from sklearn.tree import DecisionTreeRegressor\n",
        "from sklearn.ensemble import RandomForestClassifier\n",
        "from sklearn.model_selection import cross_val_score\n",
        "from sklearn.metrics import mean_squared_error as mse\n",
        "from sklearn.metrics import mean_absolute_error as mae\n",
        "from sklearn.metrics import accuracy_score as acc\n",
        "from sklearn.metrics import make_scorer, confusion_matrix\n",
        "from sklearn.dummy import DummyRegressor, DummyClassifier\n",
        "from sklearn.preprocessing import LabelEncoder"
      ],
      "execution_count": 0,
      "outputs": []
    },
    {
      "cell_type": "code",
      "metadata": {
        "id": "Fn3F66km7MB-",
        "colab_type": "code",
        "outputId": "f4f1c5a9-5141-48ea-acba-2423ba546e7a",
        "colab": {
          "base_uri": "https://localhost:8080/",
          "height": 255
        }
      },
      "source": [
        "df = pd.read_csv(\"https://raw.githubusercontent.com/albanda/CE888/master/lab4/bank-additional-full.csv\", delimiter = \";\")\n",
        "print(df)\n"
      ],
      "execution_count": 0,
      "outputs": [
        {
          "output_type": "stream",
          "text": [
            "       age          job  marital  ... euribor3m nr.employed    y\n",
            "0       56    housemaid  married  ...     4.857      5191.0   no\n",
            "1       57     services  married  ...     4.857      5191.0   no\n",
            "2       37     services  married  ...     4.857      5191.0   no\n",
            "3       40       admin.  married  ...     4.857      5191.0   no\n",
            "4       56     services  married  ...     4.857      5191.0   no\n",
            "...    ...          ...      ...  ...       ...         ...  ...\n",
            "41183   73      retired  married  ...     1.028      4963.6  yes\n",
            "41184   46  blue-collar  married  ...     1.028      4963.6   no\n",
            "41185   56      retired  married  ...     1.028      4963.6   no\n",
            "41186   44   technician  married  ...     1.028      4963.6  yes\n",
            "41187   74      retired  married  ...     1.028      4963.6   no\n",
            "\n",
            "[41188 rows x 21 columns]\n"
          ],
          "name": "stdout"
        }
      ]
    },
    {
      "cell_type": "code",
      "metadata": {
        "id": "tHrUV9WU_YUf",
        "colab_type": "code",
        "outputId": "5fb7e0e1-cb19-4928-9b66-78436f8d4351",
        "colab": {
          "base_uri": "https://localhost:8080/",
          "height": 391
        }
      },
      "source": [
        "df.nunique()"
      ],
      "execution_count": 0,
      "outputs": [
        {
          "output_type": "execute_result",
          "data": {
            "text/plain": [
              "age                 78\n",
              "job                 12\n",
              "marital              4\n",
              "education            8\n",
              "default              3\n",
              "housing              3\n",
              "loan                 3\n",
              "contact              2\n",
              "month               10\n",
              "day_of_week          5\n",
              "duration          1544\n",
              "campaign            42\n",
              "pdays               27\n",
              "previous             8\n",
              "poutcome             3\n",
              "emp.var.rate        10\n",
              "cons.price.idx      26\n",
              "cons.conf.idx       26\n",
              "euribor3m          316\n",
              "nr.employed         11\n",
              "y                    2\n",
              "dtype: int64"
            ]
          },
          "metadata": {
            "tags": []
          },
          "execution_count": 77
        }
      ]
    },
    {
      "cell_type": "code",
      "metadata": {
        "id": "Ou-xyOzCEcqw",
        "colab_type": "code",
        "outputId": "3daddc19-3527-47c6-c763-0e2de2f2e4eb",
        "colab": {
          "base_uri": "https://localhost:8080/",
          "height": 391
        }
      },
      "source": [
        "df.dtypes"
      ],
      "execution_count": 0,
      "outputs": [
        {
          "output_type": "execute_result",
          "data": {
            "text/plain": [
              "age                 int64\n",
              "job                object\n",
              "marital            object\n",
              "education          object\n",
              "default            object\n",
              "housing            object\n",
              "loan               object\n",
              "contact            object\n",
              "month              object\n",
              "day_of_week        object\n",
              "duration            int64\n",
              "campaign            int64\n",
              "pdays               int64\n",
              "previous            int64\n",
              "poutcome           object\n",
              "emp.var.rate      float64\n",
              "cons.price.idx    float64\n",
              "cons.conf.idx     float64\n",
              "euribor3m         float64\n",
              "nr.employed       float64\n",
              "y                  object\n",
              "dtype: object"
            ]
          },
          "metadata": {
            "tags": []
          },
          "execution_count": 78
        }
      ]
    },
    {
      "cell_type": "code",
      "metadata": {
        "id": "PZ_vf5YgD366",
        "colab_type": "code",
        "colab": {}
      },
      "source": [
        "df=df.apply(LabelEncoder().fit_transform)\n",
        "\n",
        "\n"
      ],
      "execution_count": 0,
      "outputs": []
    },
    {
      "cell_type": "markdown",
      "metadata": {
        "id": "48WnWr0i7L0Q",
        "colab_type": "text"
      },
      "source": [
        ""
      ]
    },
    {
      "cell_type": "code",
      "metadata": {
        "id": "-FFUklRfIDjO",
        "colab_type": "code",
        "outputId": "db4b0f84-b459-43ee-9a44-0c65abc0911f",
        "colab": {
          "base_uri": "https://localhost:8080/",
          "height": 493
        }
      },
      "source": [
        "df=df.dropna()\n",
        "n_bins=20\n",
        "xdf=df.copy()\n",
        "xdf.drop('y',axis= 1, inplace=True)\n",
        "\n",
        "print(xdf)\n",
        "outcomes=[\"y\"]\n",
        "\n",
        "ydf=df[outcomes].copy()\n",
        "\n",
        "print(ydf)\n",
        "\n",
        "#vlaues of x and y\n",
        "X=xdf.values\n",
        "Y=ydf.values.T[0]\n",
        "\n",
        "\n",
        "\n"
      ],
      "execution_count": 0,
      "outputs": [
        {
          "output_type": "stream",
          "text": [
            "       age  job  marital  ...  cons.conf.idx  euribor3m  nr.employed\n",
            "0       39    3        1  ...             16        287            8\n",
            "1       40    7        1  ...             16        287            8\n",
            "2       20    7        1  ...             16        287            8\n",
            "3       23    0        1  ...             16        287            8\n",
            "4       39    7        1  ...             16        287            8\n",
            "...    ...  ...      ...  ...            ...        ...          ...\n",
            "41183   56    5        1  ...              0        171            0\n",
            "41184   29    1        1  ...              0        171            0\n",
            "41185   39    5        1  ...              0        171            0\n",
            "41186   27    9        1  ...              0        171            0\n",
            "41187   57    5        1  ...              0        171            0\n",
            "\n",
            "[41188 rows x 20 columns]\n",
            "       y\n",
            "0      0\n",
            "1      0\n",
            "2      0\n",
            "3      0\n",
            "4      0\n",
            "...   ..\n",
            "41183  1\n",
            "41184  0\n",
            "41185  0\n",
            "41186  1\n",
            "41187  0\n",
            "\n",
            "[41188 rows x 1 columns]\n"
          ],
          "name": "stdout"
        }
      ]
    },
    {
      "cell_type": "code",
      "metadata": {
        "id": "xVxCXkJ7PhdM",
        "colab_type": "code",
        "outputId": "52c77892-1521-4222-e2f2-b0ea17bdcd69",
        "colab": {
          "base_uri": "https://localhost:8080/",
          "height": 136
        }
      },
      "source": [
        "print(X)"
      ],
      "execution_count": 0,
      "outputs": [
        {
          "output_type": "stream",
          "text": [
            "[[ 39   3   1 ...  16 287   8]\n",
            " [ 40   7   1 ...  16 287   8]\n",
            " [ 20   7   1 ...  16 287   8]\n",
            " ...\n",
            " [ 39   5   1 ...   0 171   0]\n",
            " [ 27   9   1 ...   0 171   0]\n",
            " [ 57   5   1 ...   0 171   0]]\n"
          ],
          "name": "stdout"
        }
      ]
    },
    {
      "cell_type": "code",
      "metadata": {
        "id": "v_9AT1RXI_Zv",
        "colab_type": "code",
        "outputId": "af31e853-91a2-4467-bebd-b12ab58fdd69",
        "colab": {
          "base_uri": "https://localhost:8080/",
          "height": 105
        }
      },
      "source": [
        "clf=RandomForestClassifier(n_estimators=100,max_depth=4)\n",
        "\n",
        "dummy_clf=DummyClassifier()\n",
        "\n",
        "scores=cross_val_score(clf,X,Y,cv=10,scoring=make_scorer(acc))\n",
        "\n",
        "dummy_clf.fit(X,Y)\n",
        "\n",
        "\n",
        "print(\"ACC: %0.2f +/- %0.2f\" % (scores.mean(), scores.std()))\n",
        "print(\"Dummy ACC: %0.2f\"% (acc(Y,dummy_clf.predict(X))))\n"
      ],
      "execution_count": 87,
      "outputs": [
        {
          "output_type": "stream",
          "text": [
            "ACC: 0.78 +/- 0.22\n",
            "Dummy ACC: 0.80\n"
          ],
          "name": "stdout"
        },
        {
          "output_type": "stream",
          "text": [
            "/usr/local/lib/python3.6/dist-packages/sklearn/dummy.py:132: FutureWarning: The default value of strategy will change from stratified to prior in 0.24.\n",
            "  \"stratified to prior in 0.24.\", FutureWarning)\n"
          ],
          "name": "stderr"
        }
      ]
    },
    {
      "cell_type": "code",
      "metadata": {
        "id": "0Xc8jktzMhB0",
        "colab_type": "code",
        "outputId": "5f616725-2bf0-4f1c-b198-48c19f2ab0fd",
        "colab": {
          "base_uri": "https://localhost:8080/",
          "height": 255
        }
      },
      "source": [
        "df = pd.read_csv(\"https://raw.githubusercontent.com/albanda/CE888/master/lab4/bank-additional-full.csv\", delimiter = \";\")\n",
        "df_dummies=pd.get_dummies(df)\n",
        "del df_dummies[\"y_no\"]\n",
        "del df_dummies[\"duration\"]\n",
        "\n",
        "print(df_dummies)\n",
        "\n"
      ],
      "execution_count": 0,
      "outputs": [
        {
          "output_type": "stream",
          "text": [
            "       age  campaign  pdays  ...  poutcome_nonexistent  poutcome_success  y_yes\n",
            "0       56         1    999  ...                     1                 0      0\n",
            "1       57         1    999  ...                     1                 0      0\n",
            "2       37         1    999  ...                     1                 0      0\n",
            "3       40         1    999  ...                     1                 0      0\n",
            "4       56         1    999  ...                     1                 0      0\n",
            "...    ...       ...    ...  ...                   ...               ...    ...\n",
            "41183   73         1    999  ...                     1                 0      1\n",
            "41184   46         1    999  ...                     1                 0      0\n",
            "41185   56         2    999  ...                     1                 0      0\n",
            "41186   44         1    999  ...                     1                 0      1\n",
            "41187   74         3    999  ...                     0                 0      0\n",
            "\n",
            "[41188 rows x 63 columns]\n"
          ],
          "name": "stdout"
        }
      ]
    },
    {
      "cell_type": "code",
      "metadata": {
        "id": "1u8IZ2_dS-P_",
        "colab_type": "code",
        "outputId": "271ac13a-0860-4593-939c-2c5bf89efdce",
        "colab": {
          "base_uri": "https://localhost:8080/",
          "height": 282
        }
      },
      "source": [
        "y=df_dummies[['y_yes']].values.T[0]\n",
        "sns.distplot(y,kde=False,rug=True)"
      ],
      "execution_count": 0,
      "outputs": [
        {
          "output_type": "execute_result",
          "data": {
            "text/plain": [
              "<matplotlib.axes._subplots.AxesSubplot at 0x7fe3c3684d30>"
            ]
          },
          "metadata": {
            "tags": []
          },
          "execution_count": 84
        },
        {
          "output_type": "display_data",
          "data": {
            "image/png": "[encoded data removed]",
            "text/plain": [
              "<Figure size 432x288 with 1 Axes>"
            ]
          },
          "metadata": {
            "tags": []
          }
        }
      ]
    },
    {
      "cell_type": "code",
      "metadata": {
        "id": "MsvrzZCYUXLF",
        "colab_type": "code",
        "colab": {
          "base_uri": "https://localhost:8080/",
          "height": 105
        },
        "outputId": "6c5804ab-d5b8-4163-a79b-01bede49c7ef"
      },
      "source": [
        "X=xdf.values\n",
        "Y=y\n",
        "\n",
        "clf=RandomForestClassifier(n_estimators=1000,max_depth=4)\n",
        "\n",
        "dummy_clf=DummyClassifier()\n",
        "\n",
        "scores=cross_val_score(clf,X,Y,cv=10,scoring=make_scorer(acc))\n",
        "\n",
        "dummy_clf.fit(X,Y)\n",
        "\n",
        "\n",
        "print(\"ACC: %0.2f +/- %0.2f\" % (scores.mean(), scores.std()))\n",
        "print(\"Dummy ACC: %0.2f\"% (acc(Y,dummy_clf.predict(X))))\n"
      ],
      "execution_count": 96,
      "outputs": [
        {
          "output_type": "stream",
          "text": [
            "ACC: 0.78 +/- 0.22\n",
            "Dummy ACC: 0.80\n"
          ],
          "name": "stdout"
        },
        {
          "output_type": "stream",
          "text": [
            "/usr/local/lib/python3.6/dist-packages/sklearn/dummy.py:132: FutureWarning: The default value of strategy will change from stratified to prior in 0.24.\n",
            "  \"stratified to prior in 0.24.\", FutureWarning)\n"
          ],
          "name": "stderr"
        }
      ]
    },
    {
      "cell_type": "code",
      "metadata": {
        "id": "0fN03tqkYgH8",
        "colab_type": "code",
        "colab": {}
      },
      "source": [
        "def plot_confusion_matrix(cm, classes,\n",
        "                          normalize=False,\n",
        "                          title='Confusion matrix',\n",
        "                          cmap=plt.cm.Blues):\n",
        "    \"\"\"\n",
        "    This function prints and plots the confusion matrix.\n",
        "    Normalization can be applied by setting `normalize=True`.\n",
        "    \"\"\"\n",
        "    if normalize:\n",
        "        cm = cm.astype('float') / cm.sum(axis=1)[:, np.newaxis]\n",
        "        print(\"Normalized confusion matrix\")\n",
        "    else:\n",
        "        print('Confusion matrix, without normalization')\n",
        "    plt.imshow(cm, interpolation='nearest', cmap=cmap)\n",
        "    plt.title(title)\n",
        "    plt.colorbar()\n",
        "    tick_marks = np.arange(len(classes))\n",
        "    plt.xticks(tick_marks, classes, rotation=45)\n",
        "    plt.yticks(tick_marks, classes)\n",
        "    thresh = cm.max() / 2.\n",
        "    for i, j in itertools.product(range(cm.shape[0]), range(cm.shape[1])):\n",
        "        t = \"(%.2f)\"%(cm[i, j])\n",
        "    plt.tight_layout()\n",
        "    plt.ylabel('True label')\n",
        "    plt.xlabel('Predicted label')"
      ],
      "execution_count": 0,
      "outputs": []
    },
    {
      "cell_type": "code",
      "metadata": {
        "id": "oY1e_qJtYltD",
        "colab_type": "code",
        "colab": {
          "base_uri": "https://localhost:8080/",
          "height": 328
        },
        "outputId": "cdcf6500-af26-4ffd-f90d-9c430e5c9b02"
      },
      "source": [
        "# Compute confusion matrix\n",
        "clf.fit(X,Y)\n",
        "Y_pred = clf.predict(X)\n",
        "cnf_matrix = confusion_matrix(Y, Y_pred)\n",
        "np.set_printoptions(precision=2)\n",
        "\n",
        "# Plot non-normalized confusion matrix\n",
        "plt.figure()\n",
        "plot_confusion_matrix(cnf_matrix, classes=range(len(set(Y))), normalize = True,\n",
        "                      title='Confusion matrix')\n",
        "\n",
        "#plt.savefig(\"confusion.png\",bbox_inches='tight')\n",
        "#plt.savefig(\"confusion.pdf\",bbox_inches='tight')"
      ],
      "execution_count": 95,
      "outputs": [
        {
          "output_type": "stream",
          "text": [
            "Normalized confusion matrix\n"
          ],
          "name": "stdout"
        },
        {
          "output_type": "display_data",
          "data": {
            "image/png": "[encoded data removed]",
            "text/plain": [
              "<Figure size 432x288 with 2 Axes>"
            ]
          },
          "metadata": {
            "tags": []
          }
        }
      ]
    },
    {
      "cell_type": "code",
      "metadata": {
        "id": "H0jsQoEObD6b",
        "colab_type": "code",
        "colab": {
          "base_uri": "https://localhost:8080/",
          "height": 955
        },
        "outputId": "1329de87-efef-40b8-e8a8-a43afbbf1a48"
      },
      "source": [
        "features=list(xdf.columns)\n",
        "clf.fit(X,Y)\n",
        "importances = clf.feature_importances_ \n",
        "std = np.std([tree.feature_importances_ for tree in clf.estimators_], axis=0)\n",
        "indices = np.argsort(importances)[::-1]\n",
        "print(indices)\n",
        "# Print the Sampling ranking\n",
        "print(\"Sampling ranking:\")\n",
        "\n",
        "for f in range(X.shape[1]):\n",
        "  print(\"%d. %s (%f)\" % (f + 1, features[indices[f]], importances[indices[f]]))\n",
        "\n",
        "# Plot the feature importances of the forest\n",
        "fig = plt.figure()\n",
        "plt.title(\"Feature importances\")\n",
        "plt.bar(range(X.shape[1]), importances[indices], color=\"r\", yerr=std[indices], align=\"center\")\n",
        "plt.xticks(range(X.shape[1]), np.array(X)[indices])\n",
        "plt.xlim([-1, X.shape[1]])\n",
        "fig.set_size_inches(15,8)\n",
        "axes = plt.gca()\n",
        "axes.set_ylim([0,None])\n",
        "\n",
        "# plt.savefig(\"importances.png\",bbox_inches='tight')\n",
        "# plt.savefig(\"importances.pdf\",bbox_inches='tight')"
      ],
      "execution_count": 108,
      "outputs": [
        {
          "output_type": "stream",
          "text": [
            "[10 19 18 12 14 15 17 16  8 13  0  7  9 11  4  3  1  2  6  5]\n",
            "Sampling ranking:\n",
            "1. duration (0.319505)\n",
            "2. nr.employed (0.188189)\n",
            "3. euribor3m (0.147850)\n",
            "4. pdays (0.092002)\n",
            "5. poutcome (0.068179)\n",
            "6. emp.var.rate (0.059899)\n",
            "7. cons.conf.idx (0.048894)\n",
            "8. cons.price.idx (0.030777)\n",
            "9. month (0.016347)\n",
            "10. previous (0.009600)\n",
            "11. age (0.007054)\n",
            "12. contact (0.006262)\n",
            "13. day_of_week (0.001493)\n",
            "14. campaign (0.001072)\n",
            "15. default (0.001052)\n",
            "16. education (0.000883)\n",
            "17. job (0.000477)\n",
            "18. marital (0.000259)\n",
            "19. loan (0.000118)\n",
            "20. housing (0.000089)\n"
          ],
          "name": "stdout"
        },
        {
          "output_type": "stream",
          "text": [
            "/usr/local/lib/python3.6/dist-packages/matplotlib/text.py:1150: FutureWarning: elementwise comparison failed; returning scalar instead, but in the future will perform elementwise comparison\n",
            "  if s != self._text:\n"
          ],
          "name": "stderr"
        },
        {
          "output_type": "execute_result",
          "data": {
            "text/plain": [
              "(0, 0.5202869038257734)"
            ]
          },
          "metadata": {
            "tags": []
          },
          "execution_count": 108
        },
        {
          "output_type": "display_data",
          "data": {
            "image/png": "[encoded data removed]",
            "text/plain": [
              "<Figure size 1080x576 with 1 Axes>"
            ]
          },
          "metadata": {
            "tags": []
          }
        }
      ]
    }
  ]
}