{
  "nbformat": 4,
  "nbformat_minor": 0,
  "metadata": {
    "colab": {
      "name": "Ass2Data3.ipynb",
      "provenance": [],
      "collapsed_sections": [
        "kdYaMVgDOGwr",
        "tmlMDUAKQMtb",
        "f9OC4Z1gQtkB",
        "o7-DILoeRVzs",
        "tKGH7uznRwhU"
      ],
      "authorship_tag": "ABX9TyNVoIpF4+LUZNkSmbCbYK8P",
      "include_colab_link": true
    },
    "kernelspec": {
      "name": "python3",
      "display_name": "Python 3"
    }
  },
  "cells": [
    {
      "cell_type": "markdown",
      "metadata": {
        "id": "view-in-github",
        "colab_type": "text"
      },
      "source": [
        "<a href=\"https://colab.research.google.com/github/thiviyan98/ThiviyanNanthakumarCE888/blob/master/Assignment_2/Ass2Data3.ipynb\" target=\"_parent\"><img src=\"https://colab.research.google.com/assets/colab-badge.svg\" alt=\"Open In Colab\"/></a>"
      ]
    },
    {
      "cell_type": "code",
      "metadata": {
        "id": "HmO4l63Ckz--",
        "colab_type": "code",
        "colab": {
          "base_uri": "https://localhost:8080/",
          "height": 51
        },
        "outputId": "6c11cdb5-b793-4590-f45b-3240b1567e8e"
      },
      "source": [
        "import seaborn as sns\n",
        "import numpy as np\n",
        "import pandas as pd\n",
        "import matplotlib.pyplot as plt\n",
        "from sklearn import preprocessing\n",
        "from sklearn.model_selection import train_test_split\n",
        "\n",
        "from sklearn.preprocessing import StandardScaler\n",
        "from sklearn.tree import DecisionTreeClassifier, plot_tree\n",
        "from sklearn.ensemble import RandomForestClassifier\n",
        "from sklearn.model_selection import cross_val_score , StratifiedKFold\n",
        "from sklearn.ensemble import RandomForestClassifier\n",
        "from sklearn.metrics import make_scorer, accuracy_score, precision_score, recall_score, f1_score"
      ],
      "execution_count": 2,
      "outputs": [
        {
          "output_type": "stream",
          "text": [
            "/usr/local/lib/python3.6/dist-packages/statsmodels/tools/_testing.py:19: FutureWarning: pandas.util.testing is deprecated. Use the functions in the public API at pandas.testing instead.\n",
            "  import pandas.util.testing as tm\n"
          ],
          "name": "stderr"
        }
      ]
    },
    {
      "cell_type": "markdown",
      "metadata": {
        "id": "kdYaMVgDOGwr",
        "colab_type": "text"
      },
      "source": [
        "##1.Import and Reading Dataset"
      ]
    },
    {
      "cell_type": "code",
      "metadata": {
        "id": "k97R7CE2OD91",
        "colab_type": "code",
        "colab": {}
      },
      "source": [
        "df = pd.read_csv('https://raw.githubusercontent.com/thiviyan98/ThiviyanNanthakumarCE888/master/Assignment1/Data/Contraceptive%20Method%20Choice%20Data%20Set/ContraceptiveMethodChoiceDataSet.csv',names=['Wife Age','Wife Education','Husband Education','Number of Children','Wife religion','Wife working','Husband Occupation','SOLI','Media Exposure','Contraceptive Method'] ,sep=',', quotechar='\"')"
      ],
      "execution_count": 0,
      "outputs": []
    },
    {
      "cell_type": "code",
      "metadata": {
        "id": "IKczwjgIOQRM",
        "colab_type": "code",
        "colab": {
          "base_uri": "https://localhost:8080/",
          "height": 419
        },
        "outputId": "ff38d126-a70a-49e2-ae46-9056509cc304"
      },
      "source": [
        "df"
      ],
      "execution_count": 6,
      "outputs": [
        {
          "output_type": "execute_result",
          "data": {
            "text/html": [
              "<div>\n",
              "<style scoped>\n",
              "    .dataframe tbody tr th:only-of-type {\n",
              "        vertical-align: middle;\n",
              "    }\n",
              "\n",
              "    .dataframe tbody tr th {\n",
              "        vertical-align: top;\n",
              "    }\n",
              "\n",
              "    .dataframe thead th {\n",
              "        text-align: right;\n",
              "    }\n",
              "</style>\n",
              "<table border=\"1\" class=\"dataframe\">\n",
              "  <thead>\n",
              "    <tr style=\"text-align: right;\">\n",
              "      <th></th>\n",
              "      <th>Wife Age</th>\n",
              "      <th>Wife Education</th>\n",
              "      <th>Husband Education</th>\n",
              "      <th>Number of Children</th>\n",
              "      <th>Wife religion</th>\n",
              "      <th>Wife working</th>\n",
              "      <th>Husband Occupation</th>\n",
              "      <th>SOLI</th>\n",
              "      <th>Media Exposure</th>\n",
              "      <th>Contraceptive Method</th>\n",
              "    </tr>\n",
              "  </thead>\n",
              "  <tbody>\n",
              "    <tr>\n",
              "      <th>0</th>\n",
              "      <td>24</td>\n",
              "      <td>2</td>\n",
              "      <td>3</td>\n",
              "      <td>3</td>\n",
              "      <td>1</td>\n",
              "      <td>1</td>\n",
              "      <td>2</td>\n",
              "      <td>3</td>\n",
              "      <td>0</td>\n",
              "      <td>1</td>\n",
              "    </tr>\n",
              "    <tr>\n",
              "      <th>1</th>\n",
              "      <td>45</td>\n",
              "      <td>1</td>\n",
              "      <td>3</td>\n",
              "      <td>10</td>\n",
              "      <td>1</td>\n",
              "      <td>1</td>\n",
              "      <td>3</td>\n",
              "      <td>4</td>\n",
              "      <td>0</td>\n",
              "      <td>1</td>\n",
              "    </tr>\n",
              "    <tr>\n",
              "      <th>2</th>\n",
              "      <td>43</td>\n",
              "      <td>2</td>\n",
              "      <td>3</td>\n",
              "      <td>7</td>\n",
              "      <td>1</td>\n",
              "      <td>1</td>\n",
              "      <td>3</td>\n",
              "      <td>4</td>\n",
              "      <td>0</td>\n",
              "      <td>1</td>\n",
              "    </tr>\n",
              "    <tr>\n",
              "      <th>3</th>\n",
              "      <td>42</td>\n",
              "      <td>3</td>\n",
              "      <td>2</td>\n",
              "      <td>9</td>\n",
              "      <td>1</td>\n",
              "      <td>1</td>\n",
              "      <td>3</td>\n",
              "      <td>3</td>\n",
              "      <td>0</td>\n",
              "      <td>1</td>\n",
              "    </tr>\n",
              "    <tr>\n",
              "      <th>4</th>\n",
              "      <td>36</td>\n",
              "      <td>3</td>\n",
              "      <td>3</td>\n",
              "      <td>8</td>\n",
              "      <td>1</td>\n",
              "      <td>1</td>\n",
              "      <td>3</td>\n",
              "      <td>2</td>\n",
              "      <td>0</td>\n",
              "      <td>1</td>\n",
              "    </tr>\n",
              "    <tr>\n",
              "      <th>...</th>\n",
              "      <td>...</td>\n",
              "      <td>...</td>\n",
              "      <td>...</td>\n",
              "      <td>...</td>\n",
              "      <td>...</td>\n",
              "      <td>...</td>\n",
              "      <td>...</td>\n",
              "      <td>...</td>\n",
              "      <td>...</td>\n",
              "      <td>...</td>\n",
              "    </tr>\n",
              "    <tr>\n",
              "      <th>1468</th>\n",
              "      <td>33</td>\n",
              "      <td>4</td>\n",
              "      <td>4</td>\n",
              "      <td>2</td>\n",
              "      <td>1</td>\n",
              "      <td>0</td>\n",
              "      <td>2</td>\n",
              "      <td>4</td>\n",
              "      <td>0</td>\n",
              "      <td>3</td>\n",
              "    </tr>\n",
              "    <tr>\n",
              "      <th>1469</th>\n",
              "      <td>33</td>\n",
              "      <td>4</td>\n",
              "      <td>4</td>\n",
              "      <td>3</td>\n",
              "      <td>1</td>\n",
              "      <td>1</td>\n",
              "      <td>1</td>\n",
              "      <td>4</td>\n",
              "      <td>0</td>\n",
              "      <td>3</td>\n",
              "    </tr>\n",
              "    <tr>\n",
              "      <th>1470</th>\n",
              "      <td>39</td>\n",
              "      <td>3</td>\n",
              "      <td>3</td>\n",
              "      <td>8</td>\n",
              "      <td>1</td>\n",
              "      <td>0</td>\n",
              "      <td>1</td>\n",
              "      <td>4</td>\n",
              "      <td>0</td>\n",
              "      <td>3</td>\n",
              "    </tr>\n",
              "    <tr>\n",
              "      <th>1471</th>\n",
              "      <td>33</td>\n",
              "      <td>3</td>\n",
              "      <td>3</td>\n",
              "      <td>4</td>\n",
              "      <td>1</td>\n",
              "      <td>0</td>\n",
              "      <td>2</td>\n",
              "      <td>2</td>\n",
              "      <td>0</td>\n",
              "      <td>3</td>\n",
              "    </tr>\n",
              "    <tr>\n",
              "      <th>1472</th>\n",
              "      <td>17</td>\n",
              "      <td>3</td>\n",
              "      <td>3</td>\n",
              "      <td>1</td>\n",
              "      <td>1</td>\n",
              "      <td>1</td>\n",
              "      <td>2</td>\n",
              "      <td>4</td>\n",
              "      <td>0</td>\n",
              "      <td>3</td>\n",
              "    </tr>\n",
              "  </tbody>\n",
              "</table>\n",
              "<p>1473 rows × 10 columns</p>\n",
              "</div>"
            ],
            "text/plain": [
              "      Wife Age  Wife Education  ...  Media Exposure  Contraceptive Method\n",
              "0           24               2  ...               0                     1\n",
              "1           45               1  ...               0                     1\n",
              "2           43               2  ...               0                     1\n",
              "3           42               3  ...               0                     1\n",
              "4           36               3  ...               0                     1\n",
              "...        ...             ...  ...             ...                   ...\n",
              "1468        33               4  ...               0                     3\n",
              "1469        33               4  ...               0                     3\n",
              "1470        39               3  ...               0                     3\n",
              "1471        33               3  ...               0                     3\n",
              "1472        17               3  ...               0                     3\n",
              "\n",
              "[1473 rows x 10 columns]"
            ]
          },
          "metadata": {
            "tags": []
          },
          "execution_count": 6
        }
      ]
    },
    {
      "cell_type": "code",
      "metadata": {
        "id": "XKTIqV5eOerL",
        "colab_type": "code",
        "colab": {
          "base_uri": "https://localhost:8080/",
          "height": 297
        },
        "outputId": "90e37197-22af-40e8-a51d-5a722e15ee99"
      },
      "source": [
        "#Check if there needs to be any preprocessing done\n",
        "df.describe()\n",
        "#There is no need to do preprocessing as the data has a small mean and standard deviation."
      ],
      "execution_count": 10,
      "outputs": [
        {
          "output_type": "execute_result",
          "data": {
            "text/html": [
              "<div>\n",
              "<style scoped>\n",
              "    .dataframe tbody tr th:only-of-type {\n",
              "        vertical-align: middle;\n",
              "    }\n",
              "\n",
              "    .dataframe tbody tr th {\n",
              "        vertical-align: top;\n",
              "    }\n",
              "\n",
              "    .dataframe thead th {\n",
              "        text-align: right;\n",
              "    }\n",
              "</style>\n",
              "<table border=\"1\" class=\"dataframe\">\n",
              "  <thead>\n",
              "    <tr style=\"text-align: right;\">\n",
              "      <th></th>\n",
              "      <th>Wife Age</th>\n",
              "      <th>Wife Education</th>\n",
              "      <th>Husband Education</th>\n",
              "      <th>Number of Children</th>\n",
              "      <th>Wife religion</th>\n",
              "      <th>Wife working</th>\n",
              "      <th>Husband Occupation</th>\n",
              "      <th>SOLI</th>\n",
              "      <th>Media Exposure</th>\n",
              "      <th>Contraceptive Method</th>\n",
              "    </tr>\n",
              "  </thead>\n",
              "  <tbody>\n",
              "    <tr>\n",
              "      <th>count</th>\n",
              "      <td>1473.000000</td>\n",
              "      <td>1473.000000</td>\n",
              "      <td>1473.000000</td>\n",
              "      <td>1473.000000</td>\n",
              "      <td>1473.000000</td>\n",
              "      <td>1473.000000</td>\n",
              "      <td>1473.000000</td>\n",
              "      <td>1473.000000</td>\n",
              "      <td>1473.000000</td>\n",
              "      <td>1473.000000</td>\n",
              "    </tr>\n",
              "    <tr>\n",
              "      <th>mean</th>\n",
              "      <td>32.538357</td>\n",
              "      <td>2.958588</td>\n",
              "      <td>3.429735</td>\n",
              "      <td>3.261371</td>\n",
              "      <td>0.850645</td>\n",
              "      <td>0.749491</td>\n",
              "      <td>2.137814</td>\n",
              "      <td>3.133741</td>\n",
              "      <td>0.073999</td>\n",
              "      <td>1.919891</td>\n",
              "    </tr>\n",
              "    <tr>\n",
              "      <th>std</th>\n",
              "      <td>8.227245</td>\n",
              "      <td>1.014994</td>\n",
              "      <td>0.816349</td>\n",
              "      <td>2.358549</td>\n",
              "      <td>0.356559</td>\n",
              "      <td>0.433453</td>\n",
              "      <td>0.864857</td>\n",
              "      <td>0.976161</td>\n",
              "      <td>0.261858</td>\n",
              "      <td>0.876376</td>\n",
              "    </tr>\n",
              "    <tr>\n",
              "      <th>min</th>\n",
              "      <td>16.000000</td>\n",
              "      <td>1.000000</td>\n",
              "      <td>1.000000</td>\n",
              "      <td>0.000000</td>\n",
              "      <td>0.000000</td>\n",
              "      <td>0.000000</td>\n",
              "      <td>1.000000</td>\n",
              "      <td>1.000000</td>\n",
              "      <td>0.000000</td>\n",
              "      <td>1.000000</td>\n",
              "    </tr>\n",
              "    <tr>\n",
              "      <th>25%</th>\n",
              "      <td>26.000000</td>\n",
              "      <td>2.000000</td>\n",
              "      <td>3.000000</td>\n",
              "      <td>1.000000</td>\n",
              "      <td>1.000000</td>\n",
              "      <td>0.000000</td>\n",
              "      <td>1.000000</td>\n",
              "      <td>3.000000</td>\n",
              "      <td>0.000000</td>\n",
              "      <td>1.000000</td>\n",
              "    </tr>\n",
              "    <tr>\n",
              "      <th>50%</th>\n",
              "      <td>32.000000</td>\n",
              "      <td>3.000000</td>\n",
              "      <td>4.000000</td>\n",
              "      <td>3.000000</td>\n",
              "      <td>1.000000</td>\n",
              "      <td>1.000000</td>\n",
              "      <td>2.000000</td>\n",
              "      <td>3.000000</td>\n",
              "      <td>0.000000</td>\n",
              "      <td>2.000000</td>\n",
              "    </tr>\n",
              "    <tr>\n",
              "      <th>75%</th>\n",
              "      <td>39.000000</td>\n",
              "      <td>4.000000</td>\n",
              "      <td>4.000000</td>\n",
              "      <td>4.000000</td>\n",
              "      <td>1.000000</td>\n",
              "      <td>1.000000</td>\n",
              "      <td>3.000000</td>\n",
              "      <td>4.000000</td>\n",
              "      <td>0.000000</td>\n",
              "      <td>3.000000</td>\n",
              "    </tr>\n",
              "    <tr>\n",
              "      <th>max</th>\n",
              "      <td>49.000000</td>\n",
              "      <td>4.000000</td>\n",
              "      <td>4.000000</td>\n",
              "      <td>16.000000</td>\n",
              "      <td>1.000000</td>\n",
              "      <td>1.000000</td>\n",
              "      <td>4.000000</td>\n",
              "      <td>4.000000</td>\n",
              "      <td>1.000000</td>\n",
              "      <td>3.000000</td>\n",
              "    </tr>\n",
              "  </tbody>\n",
              "</table>\n",
              "</div>"
            ],
            "text/plain": [
              "          Wife Age  Wife Education  ...  Media Exposure  Contraceptive Method\n",
              "count  1473.000000     1473.000000  ...     1473.000000           1473.000000\n",
              "mean     32.538357        2.958588  ...        0.073999              1.919891\n",
              "std       8.227245        1.014994  ...        0.261858              0.876376\n",
              "min      16.000000        1.000000  ...        0.000000              1.000000\n",
              "25%      26.000000        2.000000  ...        0.000000              1.000000\n",
              "50%      32.000000        3.000000  ...        0.000000              2.000000\n",
              "75%      39.000000        4.000000  ...        0.000000              3.000000\n",
              "max      49.000000        4.000000  ...        1.000000              3.000000\n",
              "\n",
              "[8 rows x 10 columns]"
            ]
          },
          "metadata": {
            "tags": []
          },
          "execution_count": 10
        }
      ]
    },
    {
      "cell_type": "code",
      "metadata": {
        "id": "wzifzjahOZrD",
        "colab_type": "code",
        "colab": {
          "base_uri": "https://localhost:8080/",
          "height": 306
        },
        "outputId": "3b8f7d57-ffaf-4b6d-8a85-af7934f2828d"
      },
      "source": [
        "df.info()\n",
        "#checked if there is missing values from the coloumn\n",
        "#1473 entries lot of data, 10 variable coloumns (features)"
      ],
      "execution_count": 8,
      "outputs": [
        {
          "output_type": "stream",
          "text": [
            "<class 'pandas.core.frame.DataFrame'>\n",
            "RangeIndex: 1473 entries, 0 to 1472\n",
            "Data columns (total 10 columns):\n",
            " #   Column                Non-Null Count  Dtype\n",
            "---  ------                --------------  -----\n",
            " 0   Wife Age              1473 non-null   int64\n",
            " 1   Wife Education        1473 non-null   int64\n",
            " 2   Husband Education     1473 non-null   int64\n",
            " 3   Number of Children    1473 non-null   int64\n",
            " 4   Wife religion         1473 non-null   int64\n",
            " 5   Wife working          1473 non-null   int64\n",
            " 6   Husband Occupation    1473 non-null   int64\n",
            " 7   SOLI                  1473 non-null   int64\n",
            " 8   Media Exposure        1473 non-null   int64\n",
            " 9   Contraceptive Method  1473 non-null   int64\n",
            "dtypes: int64(10)\n",
            "memory usage: 115.2 KB\n"
          ],
          "name": "stdout"
        }
      ]
    },
    {
      "cell_type": "code",
      "metadata": {
        "id": "2H5Ow7BfPKSV",
        "colab_type": "code",
        "colab": {
          "base_uri": "https://localhost:8080/",
          "height": 34
        },
        "outputId": "9e029669-8532-4068-e52e-5d4c40a09c72"
      },
      "source": [
        "#Double check if there is missing values\n",
        "df.isnull().any().sum()>0"
      ],
      "execution_count": 12,
      "outputs": [
        {
          "output_type": "execute_result",
          "data": {
            "text/plain": [
              "False"
            ]
          },
          "metadata": {
            "tags": []
          },
          "execution_count": 12
        }
      ]
    },
    {
      "cell_type": "markdown",
      "metadata": {
        "id": "K2UgRqDYQDjT",
        "colab_type": "text"
      },
      "source": [
        "####Adding ID for each wife\n"
      ]
    },
    {
      "cell_type": "code",
      "metadata": {
        "id": "m9Qap061QEKs",
        "colab_type": "code",
        "colab": {
          "base_uri": "https://localhost:8080/",
          "height": 255
        },
        "outputId": "284e6cbd-6d6d-4248-dda9-176f87a9b5fe"
      },
      "source": [
        "ID=np.array(range(len(df)))\n",
        "\n",
        "df['ID']=ID\n",
        "\n",
        "print(df)"
      ],
      "execution_count": 13,
      "outputs": [
        {
          "output_type": "stream",
          "text": [
            "      Wife Age  Wife Education  ...  Contraceptive Method    ID\n",
            "0           24               2  ...                     1     0\n",
            "1           45               1  ...                     1     1\n",
            "2           43               2  ...                     1     2\n",
            "3           42               3  ...                     1     3\n",
            "4           36               3  ...                     1     4\n",
            "...        ...             ...  ...                   ...   ...\n",
            "1468        33               4  ...                     3  1468\n",
            "1469        33               4  ...                     3  1469\n",
            "1470        39               3  ...                     3  1470\n",
            "1471        33               3  ...                     3  1471\n",
            "1472        17               3  ...                     3  1472\n",
            "\n",
            "[1473 rows x 11 columns]\n"
          ],
          "name": "stdout"
        }
      ]
    },
    {
      "cell_type": "markdown",
      "metadata": {
        "id": "1mX1bvqdQNas",
        "colab_type": "text"
      },
      "source": [
        "#### Changing the Target Class to Binary Representation"
      ]
    },
    {
      "cell_type": "code",
      "metadata": {
        "id": "gONvA_UtQKQL",
        "colab_type": "code",
        "colab": {
          "base_uri": "https://localhost:8080/",
          "height": 85
        },
        "outputId": "73d7d51c-55ad-46bb-8023-bdc3e3e7b648"
      },
      "source": [
        "df['Contraceptive Method'].value_counts()"
      ],
      "execution_count": 15,
      "outputs": [
        {
          "output_type": "execute_result",
          "data": {
            "text/plain": [
              "1    629\n",
              "3    511\n",
              "2    333\n",
              "Name: Contraceptive Method, dtype: int64"
            ]
          },
          "metadata": {
            "tags": []
          },
          "execution_count": 15
        }
      ]
    },
    {
      "cell_type": "code",
      "metadata": {
        "id": "3ZmvQWQSQTub",
        "colab_type": "code",
        "colab": {
          "base_uri": "https://localhost:8080/",
          "height": 68
        },
        "outputId": "c9d54cdc-d28b-430d-b580-e94545649eea"
      },
      "source": [
        "# binary classification 0 is not used and 1 is used contraceptive 1 is either short or long contraceptive used\n",
        "df['Contraceptive Method']=[0 if b== 1 else 1 for b in df['Contraceptive Method']]\n",
        "df['Contraceptive Method'].value_counts()"
      ],
      "execution_count": 16,
      "outputs": [
        {
          "output_type": "execute_result",
          "data": {
            "text/plain": [
              "1    844\n",
              "0    629\n",
              "Name: Contraceptive Method, dtype: int64"
            ]
          },
          "metadata": {
            "tags": []
          },
          "execution_count": 16
        }
      ]
    },
    {
      "cell_type": "code",
      "metadata": {
        "id": "k0hFLy2uQZwT",
        "colab_type": "code",
        "colab": {
          "base_uri": "https://localhost:8080/",
          "height": 255
        },
        "outputId": "ae878916-862e-4616-c882-889f1ad4051a"
      },
      "source": [
        "#Check if it worked\n",
        "print(df)"
      ],
      "execution_count": 18,
      "outputs": [
        {
          "output_type": "stream",
          "text": [
            "      Wife Age  Wife Education  ...  Contraceptive Method    ID\n",
            "0           24               2  ...                     0     0\n",
            "1           45               1  ...                     0     1\n",
            "2           43               2  ...                     0     2\n",
            "3           42               3  ...                     0     3\n",
            "4           36               3  ...                     0     4\n",
            "...        ...             ...  ...                   ...   ...\n",
            "1468        33               4  ...                     1  1468\n",
            "1469        33               4  ...                     1  1469\n",
            "1470        39               3  ...                     1  1470\n",
            "1471        33               3  ...                     1  1471\n",
            "1472        17               3  ...                     1  1472\n",
            "\n",
            "[1473 rows x 11 columns]\n"
          ],
          "name": "stdout"
        }
      ]
    },
    {
      "cell_type": "markdown",
      "metadata": {
        "id": "tmlMDUAKQMtb",
        "colab_type": "text"
      },
      "source": [
        "###Checking the imbalance"
      ]
    },
    {
      "cell_type": "markdown",
      "metadata": {
        "id": "f9OC4Z1gQtkB",
        "colab_type": "text"
      },
      "source": [
        "###Bar Graph for distribution\n",
        "##The distributions shows how skewed these features are. "
      ]
    },
    {
      "cell_type": "code",
      "metadata": {
        "id": "pK01SMaCQ7Tx",
        "colab_type": "code",
        "colab": {}
      },
      "source": [
        "#Function to plot bar chart\n",
        "def barchart(title,label,data,hue):\n",
        "  plt.title(title,fontsize=14)\n",
        "  sns.countplot(label,data=data,hue=hue)"
      ],
      "execution_count": 0,
      "outputs": []
    },
    {
      "cell_type": "code",
      "metadata": {
        "id": "msUw5FRJQpT7",
        "colab_type": "code",
        "colab": {
          "base_uri": "https://localhost:8080/",
          "height": 313
        },
        "outputId": "ae921555-3f1d-4d39-95b2-ae2a3b0193fd"
      },
      "source": [
        "###Bar Graph for distribution\n",
        "barchart('Contraceptive Method Used \\n (0: Not Used || 1: Used)',\"Contraceptive Method\",df,None)"
      ],
      "execution_count": 28,
      "outputs": [
        {
          "output_type": "display_data",
          "data": {
            "image/png": "[encoded data removed]",
            "text/plain": [
              "<Figure size 432x288 with 1 Axes>"
            ]
          },
          "metadata": {
            "tags": [],
            "needs_background": "light"
          }
        }
      ]
    },
    {
      "cell_type": "markdown",
      "metadata": {
        "id": "TmkRrSJnRMvl",
        "colab_type": "text"
      },
      "source": [
        "This shows the use of contraceptives is higher than no use."
      ]
    },
    {
      "cell_type": "markdown",
      "metadata": {
        "id": "o7-DILoeRVzs",
        "colab_type": "text"
      },
      "source": [
        "###Pie Chart Representing Percentage of Imbalance\n"
      ]
    },
    {
      "cell_type": "code",
      "metadata": {
        "id": "_QX-G_VNRR8L",
        "colab_type": "code",
        "colab": {
          "base_uri": "https://localhost:8080/",
          "height": 51
        },
        "outputId": "afc53cda-5a3a-48aa-8c7d-97b70fd758e5"
      },
      "source": [
        "noused= len(df[df['Contraceptive Method']==0])\n",
        "used=len(df[df['Contraceptive Method']==1])\n",
        "\n",
        "percentofnoused= noused/(used+noused)\n",
        "percentofused=used/(used+noused)\n",
        "\n",
        "print(\"Percentage of No Use is\", percentofnoused*100)\n",
        "print(\"Percentage of used is\", percentofused*100)"
      ],
      "execution_count": 23,
      "outputs": [
        {
          "output_type": "stream",
          "text": [
            "Percentage of No Use is 42.701968771215206\n",
            "Percentage of used is 57.298031228784794\n"
          ],
          "name": "stdout"
        }
      ]
    },
    {
      "cell_type": "code",
      "metadata": {
        "id": "HZByNosTRgWM",
        "colab_type": "code",
        "colab": {
          "base_uri": "https://localhost:8080/",
          "height": 248
        },
        "outputId": "db1e4790-47ec-44c6-c106-4d4331f871a6"
      },
      "source": [
        "labels = 'No Use','Used'\n",
        "\n",
        "sizes=[percentofnoused,percentofused]\n",
        "\n",
        "explode=(0.1,0)\n",
        "\n",
        "fig1, ax1 =plt.subplots()\n",
        "\n",
        "ax1.pie(sizes,explode=explode,labels=labels,autopct='%1.1f%%', shadow= True, startangle=90)\n",
        "\n",
        "ax1.axis('equal')\n",
        "\n",
        "plt.show()"
      ],
      "execution_count": 24,
      "outputs": [
        {
          "output_type": "display_data",
          "data": {
            "image/png": "[encoded data removed]",
            "text/plain": [
              "<Figure size 432x288 with 1 Axes>"
            ]
          },
          "metadata": {
            "tags": []
          }
        }
      ]
    },
    {
      "cell_type": "markdown",
      "metadata": {
        "id": "tKGH7uznRwhU",
        "colab_type": "text"
      },
      "source": [
        "###Inspection of Dataset"
      ]
    },
    {
      "cell_type": "code",
      "metadata": {
        "id": "jqnfMBCBXjjN",
        "colab_type": "code",
        "colab": {}
      },
      "source": [
        "#function to plot distribution\n",
        "\n",
        "def hist(title,data ,bins,kde):\n",
        "  \n",
        "  plt.figure(figsize=(10,6))\n",
        "  plt.title(title,fontsize=14)\n",
        "  sns.distplot(data,bins=bins,kde=kde)\n",
        "  "
      ],
      "execution_count": 0,
      "outputs": []
    },
    {
      "cell_type": "code",
      "metadata": {
        "id": "grvE0xZnRxWU",
        "colab_type": "code",
        "colab": {
          "base_uri": "https://localhost:8080/",
          "height": 296
        },
        "outputId": "6ed110a6-fc36-4554-d97b-38997d9832d3"
      },
      "source": [
        "#Contraceptive used based on relgion 0 being non islam and 1 being islam\n",
        "barchart('Method used based on religion',\"Contraceptive Method\",df,\"Wife religion\")"
      ],
      "execution_count": 29,
      "outputs": [
        {
          "output_type": "display_data",
          "data": {
            "image/png": "[encoded data removed]",
            "text/plain": [
              "<Figure size 432x288 with 1 Axes>"
            ]
          },
          "metadata": {
            "tags": [],
            "needs_background": "light"
          }
        }
      ]
    },
    {
      "cell_type": "markdown",
      "metadata": {
        "id": "K7G0k-iyS0xE",
        "colab_type": "text"
      },
      "source": [
        "This shows that people with faith of islam have used contraceptive more than non islam people and not used as well."
      ]
    },
    {
      "cell_type": "code",
      "metadata": {
        "id": "wzCsb4rqSyvF",
        "colab_type": "code",
        "colab": {
          "base_uri": "https://localhost:8080/",
          "height": 405
        },
        "outputId": "8a389032-ec92-4236-8ad7-ba417597cddf"
      },
      "source": [
        "plt.figure(figsize=(14,6))\n",
        "barchart('Method used based on age',\"Wife Age\",df,\"Contraceptive Method\")"
      ],
      "execution_count": 33,
      "outputs": [
        {
          "output_type": "display_data",
          "data": {
            "image/png": "[encoded data removed]",
            "text/plain": [
              "<Figure size 1008x432 with 1 Axes>"
            ]
          },
          "metadata": {
            "tags": [],
            "needs_background": "light"
          }
        }
      ]
    },
    {
      "cell_type": "code",
      "metadata": {
        "id": "XpZEzkdmWqwX",
        "colab_type": "code",
        "colab": {
          "base_uri": "https://localhost:8080/",
          "height": 405
        },
        "outputId": "f01565e9-ee87-44ef-fd45-bfe53392a5f1"
      },
      "source": [
        "#distribution of the wifes ages\n",
        "hist('Wife Age Distribution',df['Wife Age'],50,None)"
      ],
      "execution_count": 59,
      "outputs": [
        {
          "output_type": "display_data",
          "data": {
            "image/png": "[encoded data removed]",
            "text/plain": [
              "<Figure size 720x432 with 1 Axes>"
            ]
          },
          "metadata": {
            "tags": [],
            "needs_background": "light"
          }
        }
      ]
    },
    {
      "cell_type": "code",
      "metadata": {
        "id": "5UWat6D5XOBt",
        "colab_type": "code",
        "colab": {
          "base_uri": "https://localhost:8080/",
          "height": 458
        },
        "outputId": "74c3b4a1-3f83-4ba7-aef8-13f3bcc6d0a6"
      },
      "source": [
        "sns.jointplot(x='Wife Age',y='Number of Children',data=df)"
      ],
      "execution_count": 46,
      "outputs": [
        {
          "output_type": "execute_result",
          "data": {
            "text/plain": [
              "<seaborn.axisgrid.JointGrid at 0x7f837dcd8cc0>"
            ]
          },
          "metadata": {
            "tags": []
          },
          "execution_count": 46
        },
        {
          "output_type": "display_data",
          "data": {
            "image/png": "[encoded data removed]",
            "text/plain": [
              "<Figure size 432x432 with 3 Axes>"
            ]
          },
          "metadata": {
            "tags": [],
            "needs_background": "light"
          }
        }
      ]
    },
    {
      "cell_type": "code",
      "metadata": {
        "id": "0QWNAvM0Yp5u",
        "colab_type": "code",
        "colab": {
          "base_uri": "https://localhost:8080/",
          "height": 405
        },
        "outputId": "8e46c0ed-eef1-4adc-ef04-4a72cfc3bcfb"
      },
      "source": [
        "hist('Number of Children',df['Number of Children'],30,False)"
      ],
      "execution_count": 58,
      "outputs": [
        {
          "output_type": "display_data",
          "data": {
            "image/png": "[encoded data removed]",
            "text/plain": [
              "<Figure size 720x432 with 1 Axes>"
            ]
          },
          "metadata": {
            "tags": [],
            "needs_background": "light"
          }
        }
      ]
    },
    {
      "cell_type": "code",
      "metadata": {
        "id": "THHlvIgxYqo1",
        "colab_type": "code",
        "colab": {
          "base_uri": "https://localhost:8080/",
          "height": 313
        },
        "outputId": "5260e04c-9b71-4cd6-fcbb-7f94d3671e1a"
      },
      "source": [
        "barchart('Wifes religion \\n',\"Wife religion\",df,None)"
      ],
      "execution_count": 60,
      "outputs": [
        {
          "output_type": "display_data",
          "data": {
            "image/png": "[encoded data removed]",
            "text/plain": [
              "<Figure size 432x288 with 1 Axes>"
            ]
          },
          "metadata": {
            "tags": [],
            "needs_background": "light"
          }
        }
      ]
    },
    {
      "cell_type": "code",
      "metadata": {
        "id": "QCaXlpYAZ8pe",
        "colab_type": "code",
        "colab": {
          "base_uri": "https://localhost:8080/",
          "height": 296
        },
        "outputId": "ecbb6d71-af26-4b08-9c39-6ad9d9ef7f90"
      },
      "source": [
        "barchart('Media Exposure to method used','Contraceptive Method',df,\"Media Exposure\")"
      ],
      "execution_count": 63,
      "outputs": [
        {
          "output_type": "display_data",
          "data": {
            "image/png": "[encoded data removed]",
            "text/plain": [
              "<Figure size 432x288 with 1 Axes>"
            ]
          },
          "metadata": {
            "tags": [],
            "needs_background": "light"
          }
        }
      ]
    },
    {
      "cell_type": "code",
      "metadata": {
        "id": "zjj17YeCZ9GF",
        "colab_type": "code",
        "colab": {
          "base_uri": "https://localhost:8080/",
          "height": 296
        },
        "outputId": "54f5a27f-2913-4084-9e73-2d1337e480f1"
      },
      "source": [
        "barchart('Media Exposure comparing to wifes relgion','Media Exposure',df,\"Wife religion\")"
      ],
      "execution_count": 62,
      "outputs": [
        {
          "output_type": "display_data",
          "data": {
            "image/png": "[encoded data removed]",
            "text/plain": [
              "<Figure size 432x288 with 1 Axes>"
            ]
          },
          "metadata": {
            "tags": [],
            "needs_background": "light"
          }
        }
      ]
    },
    {
      "cell_type": "markdown",
      "metadata": {
        "id": "3UOcPwKma6nO",
        "colab_type": "text"
      },
      "source": [
        "##2.To establish a baseline, perform cross-validation on your dataset using a decision tree and a random forest."
      ]
    },
    {
      "cell_type": "code",
      "metadata": {
        "id": "EBz_EqdEa1y-",
        "colab_type": "code",
        "colab": {}
      },
      "source": [
        "#Function to establish a baseline\n",
        "def baseline(model,x,y):\n",
        "  Acc_scores=cross_val_score(model,x,y,cv=10,scoring=make_scorer(accuracy_score)) #calculates accuracy \n",
        "  Pre_scores=cross_val_score(model,x,y,cv=10,scoring=make_scorer(precision_score)) #calculates precision\n",
        "  Rec_scores=cross_val_score(model,x,y,cv=10,scoring=make_scorer(recall_score)) #calculates Recall\n",
        "  F1_scores=cross_val_score(model,x,y,cv=10,scoring=make_scorer(f1_score)) #calculates F1\n",
        "  print(\"Accuracy:\", Acc_scores)\n",
        "  print(\"Precision:\", Pre_scores)\n",
        "  print(\"Recall:\", Rec_scores)\n",
        "  print(\"F1 Score:\", F1_scores)\n",
        "  #Averages of the scores printed out\n",
        "  print(\"Average Accuracy: %0.2f (+/- %0.2f)\" % (Acc_scores.mean(), Acc_scores.std() * 2))\n",
        "  print(\"Average Precision: %0.2f (+/- %0.2f)\" % (Pre_scores.mean(), Pre_scores.std() * 2))\n",
        "  print(\"Average Recall: %0.2f (+/- %0.2f)\" % (Rec_scores.mean(), Rec_scores.std() * 2))\n",
        "  print(\"Average F1 Score: %0.2f (+/- %0.2f)\" % (F1_scores.mean(), F1_scores.std() * 2))"
      ],
      "execution_count": 0,
      "outputs": []
    },
    {
      "cell_type": "code",
      "metadata": {
        "id": "MJdT09AVbJLP",
        "colab_type": "code",
        "colab": {}
      },
      "source": [
        "x=df.drop('Contraceptive Method', axis=1) ##Predictors\n",
        "y=df['Contraceptive Method'] ## Target variable\n"
      ],
      "execution_count": 0,
      "outputs": []
    },
    {
      "cell_type": "code",
      "metadata": {
        "id": "8stk-q-ib-VG",
        "colab_type": "code",
        "colab": {
          "base_uri": "https://localhost:8080/",
          "height": 221
        },
        "outputId": "06366f63-37ca-4181-b8a5-c41983cf79e9"
      },
      "source": [
        "#Using the Decision Tree to perform cross validation\n",
        "decclf = DecisionTreeClassifier(random_state=0)\n",
        "baseline(decclf,x,y)"
      ],
      "execution_count": 73,
      "outputs": [
        {
          "output_type": "stream",
          "text": [
            "Accuracy: [0.70945946 1.         1.         1.         1.         1.\n",
            " 0.68027211 1.         1.         0.78911565]\n",
            "Precision: [1.         1.         1.         1.         1.         1.\n",
            " 0.75342466 1.         1.         0.73275862]\n",
            "Recall: [0.49411765 1.         1.         1.         1.         1.\n",
            " 0.6547619  1.         1.         1.        ]\n",
            "F1 Score: [0.66141732 1.         1.         1.         1.         1.\n",
            " 0.70063694 1.         1.         0.84577114]\n",
            "Average Accuracy: 0.92 (+/- 0.26)\n",
            "Average Precision: 0.95 (+/- 0.21)\n",
            "Average Recall: 0.91 (+/- 0.35)\n",
            "Average F1 Score: 0.92 (+/- 0.26)\n"
          ],
          "name": "stdout"
        }
      ]
    },
    {
      "cell_type": "code",
      "metadata": {
        "id": "EF81mtRgcEX9",
        "colab_type": "code",
        "colab": {
          "base_uri": "https://localhost:8080/",
          "height": 591
        },
        "outputId": "df63485e-981a-45ad-b80c-ed3b639bfc62"
      },
      "source": [
        "# Decision Tree graph\n",
        "plt.figure(figsize=(10,10))\n",
        "plottree=plot_tree(decclf.fit(x, y),filled=True)\n",
        "plt.title(\"Decision trees on the African Country dataset (Gini)\")\n",
        "plt.show()\n"
      ],
      "execution_count": 75,
      "outputs": [
        {
          "output_type": "display_data",
          "data": {
            "image/png": "[encoded data removed]",
            "text/plain": [
              "<Figure size 720x720 with 1 Axes>"
            ]
          },
          "metadata": {
            "tags": [],
            "needs_background": "light"
          }
        }
      ]
    },
    {
      "cell_type": "code",
      "metadata": {
        "id": "YKBXXedscMjt",
        "colab_type": "code",
        "colab": {
          "base_uri": "https://localhost:8080/",
          "height": 221
        },
        "outputId": "fd56fe3f-8a4d-45c9-edb3-36a165557c24"
      },
      "source": [
        "#Performing random forest classifier cross validation \n",
        "RFC=RandomForestClassifier()\n",
        "baseline(RFC,x,y)"
      ],
      "execution_count": 76,
      "outputs": [
        {
          "output_type": "stream",
          "text": [
            "Accuracy: [0.70945946 1.         1.         1.         1.         1.\n",
            " 0.70748299 0.95238095 0.99319728 0.85034014]\n",
            "Precision: [1.         1.         1.         1.         1.         1.\n",
            " 0.8        1.         1.         0.80769231]\n",
            "Recall: [0.49411765 1.         1.         1.         1.         1.\n",
            " 0.67857143 0.92857143 1.         0.98823529]\n",
            "F1 Score: [0.66141732 1.         1.         1.         1.         1.\n",
            " 0.7388535  0.94339623 1.         0.87958115]\n",
            "Average Accuracy: 0.92 (+/- 0.23)\n",
            "Average Precision: 0.96 (+/- 0.16)\n",
            "Average Recall: 0.91 (+/- 0.34)\n",
            "Average F1 Score: 0.92 (+/- 0.24)\n"
          ],
          "name": "stdout"
        }
      ]
    }
  ]
}