{
  "nbformat": 4,
  "nbformat_minor": 0,
  "metadata": {
    "colab": {
      "name": "Lab2.ipynb",
      "provenance": [],
      "collapsed_sections": [],
      "authorship_tag": "ABX9TyNQVBZqsqzLijqlsDHHi5KA",
      "include_colab_link": true
    },
    "kernelspec": {
      "name": "python3",
      "display_name": "Python 3"
    },
    "accelerator": "GPU"
  },
  "cells": [
    {
      "cell_type": "markdown",
      "metadata": {
        "id": "view-in-github",
        "colab_type": "text"
      },
      "source": [
        "<a href=\"https://colab.research.google.com/github/thiviyan98/ThiviyanNanthakumarCE888/blob/master/Lab2.ipynb\" target=\"_parent\"><img src=\"https://colab.research.google.com/assets/colab-badge.svg\" alt=\"Open In Colab\"/></a>"
      ]
    },
    {
      "cell_type": "code",
      "metadata": {
        "id": "94c5-XLw3CNb",
        "colab_type": "code",
        "colab": {}
      },
      "source": [
        "import matplotlib\n",
        "import pandas as pd\n",
        "import seaborn as sns\n",
        "import numpy as np"
      ],
      "execution_count": 0,
      "outputs": []
    },
    {
      "cell_type": "code",
      "metadata": {
        "id": "OrJ8l9Rl4bGy",
        "colab_type": "code",
        "colab": {}
      },
      "source": [
        "\n",
        "# Load the data\n",
        "df = pd.read_csv('https://raw.githubusercontent.com/albanda/CE888/master/lab2%20-%20bootstrap/customers.csv')\n",
        "data = df.values.T[1]\n",
        "\n"
      ],
      "execution_count": 0,
      "outputs": []
    },
    {
      "cell_type": "code",
      "metadata": {
        "id": "P4J4CH4545F8",
        "colab_type": "code",
        "colab": {}
      },
      "source": [
        "# Checking the notes from the lecture, create here your own bootstrap function:\n",
        "# 1. Create an array of samples of shape (n_iterations, sample_size)\n",
        "# 2. Calculate and save the mean of the array (this is \"data_mean\" that is returned by the function)\n",
        "# 3. In each iteration:\n",
        "# 3.1 Get the data corresponding to that iteration (new_samples[iteration, :])\n",
        "# 3.2 Calculate the mean of the iteration data and store it\n",
        "# (At this point you should have an array of n_iterations values)\n",
        "# 4. Calculate the lower and upper bounds for a 95% CI (hint: check the percentile function on Numpy)\n",
        "# 5. Return data_mean, and the lower and upper bounds of your interval\n",
        "\n",
        "def boostrap_mean(sample, sample_size, n_iterations):\n",
        "  sample_means = np.array([])\n",
        "  for i in range(n_iterations):\n",
        "    sample_data = np.random.choice(sample,sample_size)\n",
        "    sample_mean= np.mean(sample_data)\n",
        "    sample_means=np.append(sample_means,[sample_mean])\n",
        "  \n",
        "  data_mean = np.mean(sample_means)\n",
        "  sample_means = np.sort(sample_means)\n",
        "  lower = sample_means[0]\n",
        "  upper = sample_means[n_iterations-1]\n",
        "  \n",
        "  return data_mean, lower, upper\n"
      ],
      "execution_count": 0,
      "outputs": []
    },
    {
      "cell_type": "code",
      "metadata": {
        "id": "H04mmicsLW3d",
        "colab_type": "code",
        "outputId": "bd43772d-fff4-492a-b4b6-585a241b2959",
        "colab": {
          "base_uri": "https://localhost:8080/",
          "height": 368
        }
      },
      "source": [
        "# Call your bootstrap function and plot the results\n",
        "\n",
        "boots = []\n",
        "for i in range(100, 40000, 1000):\n",
        "    boot = boostrap_mean(data, data.shape[0], i)\n",
        "    boots.append([i, boot[0], \"mean\"])\n",
        "    boots.append([i, boot[1], \"lower\"])\n",
        "    boots.append([i, boot[2], \"upper\"])\n",
        "\n",
        "\n",
        "df_boot = pd.DataFrame(boots, columns=['Boostrap Iterations', 'Mean', \"Value\"])\n",
        "sns_plot = sns.lmplot(df_boot.columns[0], df_boot.columns[1], data=df_boot, fit_reg=False, hue=\"Value\")\n",
        "\n",
        "sns_plot.axes[0, 0].set_ylim(0,)\n",
        "sns_plot.axes[0, 0].set_xlim(0, 40000)\n",
        "\n",
        "sns_plot.savefig(\"bootstrap_confidence.png\", bbox_inches='tight')\n",
        "sns_plot.savefig(\"bootstrap_confidence.pdf\", bbox_inches='tight')"
      ],
      "execution_count": 6,
      "outputs": [
        {
          "output_type": "display_data",
          "data": {
            "image/png": "[encoded data removed]",
            "text/plain": [
              "<Figure size 425.125x360 with 1 Axes>"
            ]
          },
          "metadata": {
            "tags": []
          }
        }
      ]
    },
    {
      "cell_type": "code",
      "metadata": {
        "id": "pM09PScnLjKV",
        "colab_type": "code",
        "colab": {}
      },
      "source": [
        "def boostrap_mean_ci(sample, sample_size, iterations, ci):\n",
        "  sample_means = np.array([])\n",
        "  for i in range(iterations):\n",
        "    sample_data = np.random.choice(sample,sample_size)\n",
        "    sample_mean= np.mean(sample_data)\n",
        "    sample_means=np.append(sample_means,[sample_mean])\n",
        "\n",
        "  sample_means = np.sort(sample_means)\n",
        "  cl=int(((1-ci/100)*iterations)/2)\n",
        "  sample_means=sample_means[cl:-cl]\n",
        "  data_mean = np.mean(sample_means)\n",
        "  lower = sample_means[0]\n",
        "  upper = sample_means[sample_means.size-1]\n",
        "  return data_mean, lower, upper"
      ],
      "execution_count": 0,
      "outputs": []
    },
    {
      "cell_type": "code",
      "metadata": {
        "id": "Qdjw5IdaLm41",
        "colab_type": "code",
        "outputId": "4f7172be-c200-4baf-f4fb-9c83abb9e047",
        "colab": {
          "base_uri": "https://localhost:8080/",
          "height": 366
        }
      },
      "source": [
        "boots = []\n",
        "for i in range(100, 40000, 1000):\n",
        "    boot = boostrap_mean_ci(data, data.shape[0], i, 80)\n",
        "    boots.append([i, boot[0], \"mean\"])\n",
        "    boots.append([i, boot[1], \"lower\"])\n",
        "    boots.append([i, boot[2], \"upper\"])\n",
        "\n",
        "df_boot = pd.DataFrame(boots, columns=['Boostrap Iterations', 'Mean', \"Value\"])\n",
        "sns_plot = sns.lmplot(df_boot.columns[0], df_boot.columns[1], data=df_boot, fit_reg=False, hue=\"Value\")\n",
        "\n",
        "sns_plot.axes[0, 0].set_ylim(0,)\n",
        "sns_plot.axes[0, 0].set_xlim(0, 40000)\n",
        "\n",
        "sns_plot.savefig(\"bootstrap_confidence_80.png\", bbox_inches='tight')\n",
        "sns_plot.savefig(\"bootstrap_confidence_80.pdf\", bbox_inches='tight')"
      ],
      "execution_count": 8,
      "outputs": [
        {
          "output_type": "display_data",
          "data": {
            "image/png": "[encoded data removed]",
            "text/plain": [
              "<Figure size 425.125x360 with 1 Axes>"
            ]
          },
          "metadata": {
            "tags": []
          }
        }
      ]
    },
    {
      "cell_type": "markdown",
      "metadata": {
        "id": "CW4LXbehTfvK",
        "colab_type": "text"
      },
      "source": [
        "Vehicle Data Set"
      ]
    },
    {
      "cell_type": "code",
      "metadata": {
        "id": "-KoF7kYnSinB",
        "colab_type": "code",
        "outputId": "4887eedf-beec-47cb-b331-3771506e102b",
        "colab": {
          "base_uri": "https://localhost:8080/",
          "height": 408
        }
      },
      "source": [
        "# Load the data\n",
        "df = pd.read_csv('https://raw.githubusercontent.com/albanda/CE888/master/lab2%20-%20bootstrap/vehicles.csv')\n",
        "currentfleet = df.values.T[0]\n",
        "newfleet=df.values.T[1]\n",
        "newfleet=newfleet[~np.isnan(newfleet)]\n",
        "\n",
        "print(\"\\n\")\n",
        "print(currentfleet)\n",
        "print(\"\\n\")\n",
        "print(newfleet)"
      ],
      "execution_count": 9,
      "outputs": [
        {
          "output_type": "stream",
          "text": [
            "\n",
            "\n",
            "[18. 15. 18. 16. 17. 15. 14. 14. 14. 15. 15. 14. 15. 14. 22. 18. 21. 21.\n",
            " 10. 10. 11.  9. 28. 25. 19. 16. 17. 19. 18. 14. 14. 14. 14. 12. 13. 13.\n",
            " 18. 22. 19. 18. 23. 26. 25. 20. 21. 13. 14. 15. 14. 17. 11. 13. 12. 13.\n",
            " 15. 13. 13. 14. 22. 28. 13. 14. 13. 14. 15. 12. 13. 13. 14. 13. 12. 13.\n",
            " 18. 16. 18. 18. 23. 11. 12. 13. 12. 18. 21. 19. 21. 15. 16. 15. 11. 20.\n",
            " 21. 19. 15. 26. 25. 16. 16. 18. 16. 13. 14. 14. 14. 28. 19. 18. 15. 15.\n",
            " 16. 15. 16. 14. 17. 16. 15. 18. 21. 20. 13. 23. 20. 23. 18. 19. 25. 26.\n",
            " 18. 16. 16. 15. 22. 22. 24. 23. 29. 25. 20. 18. 19. 18. 27. 13. 17. 13.\n",
            " 13. 13. 30. 26. 18. 17. 16. 15. 18. 21. 19. 19. 16. 16. 16. 16. 25. 26.\n",
            " 31. 34. 36. 20. 19. 20. 19. 21. 20. 25. 21. 19. 21. 21. 19. 18. 19. 18.\n",
            " 18. 18. 30. 31. 23. 24. 22. 20. 22. 20. 21. 17. 18. 17. 18. 17. 16. 19.\n",
            " 19. 36. 27. 23. 24. 34. 35. 28. 29. 27. 34. 32. 28. 26. 24. 19. 28. 24.\n",
            " 27. 27. 26. 24. 30. 39. 35. 34. 30. 22. 27. 20. 18. 28. 27. 34. 31. 29.\n",
            " 27. 24. 23. 38. 36. 25. 38. 26. 22. 36. 27. 27. 32. 28. 31.]\n",
            "\n",
            "\n",
            "[24. 27. 27. 25. 31. 35. 24. 19. 28. 23. 27. 20. 22. 18. 20. 31. 32. 31.\n",
            " 32. 24. 26. 29. 24. 24. 33. 33. 32. 28. 19. 32. 34. 26. 30. 22. 22. 33.\n",
            " 39. 36. 28. 27. 21. 24. 30. 34. 32. 38. 37. 30. 31. 37. 32. 47. 41. 45.\n",
            " 34. 33. 24. 32. 39. 35. 32. 37. 38. 34. 34. 32. 33. 32. 25. 24. 37. 31.\n",
            " 36. 36. 34. 38. 32. 38. 32.]\n"
          ],
          "name": "stdout"
        }
      ]
    },
    {
      "cell_type": "markdown",
      "metadata": {
        "id": "mXlgShQ2UIOM",
        "colab_type": "text"
      },
      "source": [
        "Current Fleet & New Fleet"
      ]
    },
    {
      "cell_type": "markdown",
      "metadata": {
        "id": "FWv9Lznn7Rf5",
        "colab_type": "text"
      },
      "source": [
        "Histogram"
      ]
    },
    {
      "cell_type": "code",
      "metadata": {
        "id": "YVDJ_eyATxTg",
        "colab_type": "code",
        "outputId": "b7868766-b528-4a5c-d2b4-57d0437faa5c",
        "colab": {
          "base_uri": "https://localhost:8080/",
          "height": 282
        }
      },
      "source": [
        "df_data = pd.DataFrame(currentfleet,columns=[\"CurrentFleet\"])\n",
        "sns.distplot(df_data,bins=20,kde=False, rug=True)\n",
        "sns_plot.axes[0, 0].set_ylim(0,)\n",
        "sns_plot.axes[0, 0].set_xlim(0, 40)\n"
      ],
      "execution_count": 10,
      "outputs": [
        {
          "output_type": "execute_result",
          "data": {
            "text/plain": [
              "(0, 40)"
            ]
          },
          "metadata": {
            "tags": []
          },
          "execution_count": 10
        },
        {
          "output_type": "display_data",
          "data": {
            "image/png": "[encoded data removed]",
            "text/plain": [
              "<Figure size 432x288 with 1 Axes>"
            ]
          },
          "metadata": {
            "tags": []
          }
        }
      ]
    },
    {
      "cell_type": "code",
      "metadata": {
        "id": "xg8TZZSJQ4oF",
        "colab_type": "code",
        "outputId": "7b7f0c2c-1ab4-4faf-bd1f-d51024dab170",
        "colab": {
          "base_uri": "https://localhost:8080/",
          "height": 282
        }
      },
      "source": [
        "\n",
        "df_data = pd.DataFrame(newfleet,columns=['newFleet'])\n",
        "sns.distplot(df_data,bins=20,kde=False, rug=True)\n",
        "sns_plot.axes[0, 0].set_ylim(0,)\n",
        "sns_plot.axes[0, 0].set_xlim(0, 40)"
      ],
      "execution_count": 11,
      "outputs": [
        {
          "output_type": "execute_result",
          "data": {
            "text/plain": [
              "(0, 40)"
            ]
          },
          "metadata": {
            "tags": []
          },
          "execution_count": 11
        },
        {
          "output_type": "display_data",
          "data": {
            "image/png": "[encoded data removed]",
            "text/plain": [
              "<Figure size 432x288 with 1 Axes>"
            ]
          },
          "metadata": {
            "tags": []
          }
        }
      ]
    },
    {
      "cell_type": "markdown",
      "metadata": {
        "id": "zUjsNCRC7UGv",
        "colab_type": "text"
      },
      "source": [
        "Scatter Plot"
      ]
    },
    {
      "cell_type": "code",
      "metadata": {
        "id": "2pORicCY7Xnv",
        "colab_type": "code",
        "outputId": "6ab73861-24dd-40bb-a83b-52943caa0ac0",
        "colab": {
          "base_uri": "https://localhost:8080/",
          "height": 1000
        }
      },
      "source": [
        "id_cf=np.array(range(len(currentfleet)))\n",
        "id_nf=np.array(range(len(newfleet)))\n",
        "\n",
        "currentfleet_data = pd.DataFrame(currentfleet, columns=['Current Fleet'])\n",
        "currentfleet_data[\"Current Fleet Car ID\"]=id_cf\n",
        "sns_plot = sns.lmplot( currentfleet_data.columns[1],currentfleet_data.columns[0], data=currentfleet_data, fit_reg=False)\n",
        "print(currentfleet_data)\n",
        "newfleet_data = pd.DataFrame(newfleet, columns=['New Fleet'])\n",
        "newfleet_data[\"New Fleet Car ID\"]=id_nf\n",
        "sns_plot1 = sns.lmplot( newfleet_data.columns[1],newfleet_data.columns[0], data=newfleet_data, fit_reg=False)\n",
        "print(newfleet_data)\n",
        "#sns_plot1.axes[0, 0].set_ylim(0,)\n",
        "sns_plot1.axes[0, 0].set_xlim(0, 80)"
      ],
      "execution_count": 38,
      "outputs": [
        {
          "output_type": "stream",
          "text": [
            "     Current Fleet  Current Fleet Car ID\n",
            "0             18.0                     0\n",
            "1             15.0                     1\n",
            "2             18.0                     2\n",
            "3             16.0                     3\n",
            "4             17.0                     4\n",
            "..             ...                   ...\n",
            "244           27.0                   244\n",
            "245           27.0                   245\n",
            "246           32.0                   246\n",
            "247           28.0                   247\n",
            "248           31.0                   248\n",
            "\n",
            "[249 rows x 2 columns]\n",
            "    New Fleet  New Fleet Car ID\n",
            "0        24.0                 0\n",
            "1        27.0                 1\n",
            "2        27.0                 2\n",
            "3        25.0                 3\n",
            "4        31.0                 4\n",
            "..        ...               ...\n",
            "74       34.0                74\n",
            "75       38.0                75\n",
            "76       32.0                76\n",
            "77       38.0                77\n",
            "78       32.0                78\n",
            "\n",
            "[79 rows x 2 columns]\n"
          ],
          "name": "stdout"
        },
        {
          "output_type": "execute_result",
          "data": {
            "text/plain": [
              "(0, 80)"
            ]
          },
          "metadata": {
            "tags": []
          },
          "execution_count": 38
        },
        {
          "output_type": "display_data",
          "data": {
            "image/png": "[encoded data removed]",
            "text/plain": [
              "<Figure size 360x360 with 1 Axes>"
            ]
          },
          "metadata": {
            "tags": []
          }
        },
        {
          "output_type": "display_data",
          "data": {
            "image/png": "[encoded data removed]",
            "text/plain": [
              "<Figure size 360x360 with 1 Axes>"
            ]
          },
          "metadata": {
            "tags": []
          }
        }
      ]
    },
    {
      "cell_type": "markdown",
      "metadata": {
        "id": "J30AXUK0VcUw",
        "colab_type": "text"
      },
      "source": [
        "Comparing the datasets"
      ]
    },
    {
      "cell_type": "code",
      "metadata": {
        "id": "nQtAI5EuS0U0",
        "colab_type": "code",
        "outputId": "ba014533-d916-4e81-b825-22696d337ecc",
        "colab": {
          "base_uri": "https://localhost:8080/",
          "height": 1000
        }
      },
      "source": [
        "print('Mean of Current and New Fleets')\n",
        "mean_current= np.mean(currentfleet)\n",
        "mean_new=np.mean(newfleet)\n",
        "print('Current Mean', mean_current)\n",
        "print('New Mean', mean_new)\n",
        "print('\\n')\n",
        "print('Old Fleet')\n",
        "bootstrap_current=boostrap_mean(currentfleet,currentfleet.shape[0],1000) \n",
        "\n",
        "print('BS Mean', bootstrap_current[0])\n",
        "\n",
        "print('BS Lower', bootstrap_current[1])\n",
        "\n",
        "print('BS Upper', bootstrap_current[2])\n",
        "print('\\n')\n",
        "print('New Fleet')\n",
        "bootstrap_new= boostrap_mean(newfleet,newfleet.shape[0],1000)\n",
        "\n",
        "print('BS Mean', bootstrap_new[0])\n",
        "\n",
        "print('BS Lower', bootstrap_new[1])\n",
        "\n",
        "print('BS Upper', bootstrap_new[2])\n",
        "\n",
        "print('\\n')\n",
        "\n",
        "bootscurrent = []\n",
        "bootsnew=[]\n",
        "for i in range(100, 40000, 1000):\n",
        "    bootcurrent = boostrap_mean(currentfleet, currentfleet.shape[0], i)\n",
        "    bootnew = boostrap_mean(newfleet, newfleet.shape[0], i)\n",
        "    bootscurrent.append([i, bootcurrent[0], \"mean\"])\n",
        "    bootsnew.append([i, bootnew[0], \"mean\"])\n",
        "    bootscurrent.append([i, bootcurrent[1], \"lower\"])\n",
        "    bootsnew.append([i, bootnew[1], \"lower\"])\n",
        "    bootscurrent.append([i, bootcurrent[2], \"upper\"])\n",
        "    bootsnew.append([i, bootnew[2], \"upper\"])\n",
        "\n",
        "\n",
        "df_bootcurrent = pd.DataFrame(bootscurrent, columns=['Boostrap Iterations', 'Mean', \"Value\"])\n",
        "sns_plot3 = sns.lmplot(df_bootcurrent.columns[0], df_bootcurrent.columns[1], data=df_bootcurrent, fit_reg=False, hue=\"Value\")\n",
        "\n",
        "df_bootnew = pd.DataFrame(bootsnew, columns=['Boostrap Iterations', 'Mean', \"Value\"])\n",
        "sns_plot4 = sns.lmplot(df_bootnew.columns[0], df_bootnew.columns[1], data=df_bootnew, fit_reg=False, hue=\"Value\")\n",
        "\n",
        "sns_plot3.axes[0, 0].set_ylim(0,)\n",
        "sns_plot3.axes[0, 0].set_xlim(0, 40000)\n",
        "sns_plot4.axes[0, 0].set_ylim(0,)\n",
        "sns_plot4.axes[0, 0].set_xlim(0, 40000)\n",
        "\n",
        "sns_plot3.savefig(\"bootstrap_confidence.png\", bbox_inches='tight')\n",
        "sns_plot3.savefig(\"bootstrap_confidence.pdf\", bbox_inches='tight')\n",
        "sns_plot4.savefig(\"bootstrap_confidence.png\", bbox_inches='tight')\n",
        "sns_plot4.savefig(\"bootstrap_confidence.pdf\", bbox_inches='tight')"
      ],
      "execution_count": 18,
      "outputs": [
        {
          "output_type": "stream",
          "text": [
            "Mean of Current and New Fleets\n",
            "Current Mean 20.14457831325301\n",
            "New Mean 30.481012658227847\n",
            "\n",
            "\n",
            "Old Fleet\n",
            "BS Mean 20.154156626506026\n",
            "BS Lower 18.923694779116467\n",
            "BS Upper 21.42168674698795\n",
            "\n",
            "\n",
            "New Fleet\n",
            "BS Mean 30.503227848101265\n",
            "BS Lower 28.40506329113924\n",
            "BS Upper 33.0\n",
            "\n",
            "\n"
          ],
          "name": "stdout"
        },
        {
          "output_type": "display_data",
          "data": {
            "image/png": "[encoded data removed]",
            "text/plain": [
              "<Figure size 425.125x360 with 1 Axes>"
            ]
          },
          "metadata": {
            "tags": []
          }
        },
        {
          "output_type": "display_data",
          "data": {
            "image/png": "[encoded data removed]",
            "text/plain": [
              "<Figure size 425.125x360 with 1 Axes>"
            ]
          },
          "metadata": {
            "tags": []
          }
        }
      ]
    },
    {
      "cell_type": "code",
      "metadata": {
        "id": "96tmemMsmMjR",
        "colab_type": "code",
        "colab": {
          "base_uri": "https://localhost:8080/",
          "height": 374
        },
        "outputId": "8296d024-7995-4e07-a95a-f434d7d0990c"
      },
      "source": [
        "sample_datacurrent = np.random.choice(currentfleet,len(newfleet))\n",
        "\n",
        "tobs=mean_new-mean_current\n",
        "\n",
        "print('Observed Value', t_obs)\n",
        "\n",
        "concat=np.concatenate((currentfleet, newfleet))\n",
        "\n",
        "print(concat)\n",
        "\n",
        "for i in range(400000):  \n",
        "  perm=np.random.permutation(concat)\n",
        "  pold=perm[:int(len(perm)/2)]\n",
        "  pnew=perm[int(len(perm)/2):]\n",
        "\n",
        "  tperm= np.mean(pnew) - np.mean(pold)\n",
        "  count=0\n",
        "  if(tperm>tobs):\n",
        "    count+=1\n",
        "  Pvalue=count/400000\n",
        "\n",
        "print('Pvalue', Pvalue) "
      ],
      "execution_count": 29,
      "outputs": [
        {
          "output_type": "stream",
          "text": [
            "Observed Value 10.336434344974837\n",
            "[18. 15. 18. 16. 17. 15. 14. 14. 14. 15. 15. 14. 15. 14. 22. 18. 21. 21.\n",
            " 10. 10. 11.  9. 28. 25. 19. 16. 17. 19. 18. 14. 14. 14. 14. 12. 13. 13.\n",
            " 18. 22. 19. 18. 23. 26. 25. 20. 21. 13. 14. 15. 14. 17. 11. 13. 12. 13.\n",
            " 15. 13. 13. 14. 22. 28. 13. 14. 13. 14. 15. 12. 13. 13. 14. 13. 12. 13.\n",
            " 18. 16. 18. 18. 23. 11. 12. 13. 12. 18. 21. 19. 21. 15. 16. 15. 11. 20.\n",
            " 21. 19. 15. 26. 25. 16. 16. 18. 16. 13. 14. 14. 14. 28. 19. 18. 15. 15.\n",
            " 16. 15. 16. 14. 17. 16. 15. 18. 21. 20. 13. 23. 20. 23. 18. 19. 25. 26.\n",
            " 18. 16. 16. 15. 22. 22. 24. 23. 29. 25. 20. 18. 19. 18. 27. 13. 17. 13.\n",
            " 13. 13. 30. 26. 18. 17. 16. 15. 18. 21. 19. 19. 16. 16. 16. 16. 25. 26.\n",
            " 31. 34. 36. 20. 19. 20. 19. 21. 20. 25. 21. 19. 21. 21. 19. 18. 19. 18.\n",
            " 18. 18. 30. 31. 23. 24. 22. 20. 22. 20. 21. 17. 18. 17. 18. 17. 16. 19.\n",
            " 19. 36. 27. 23. 24. 34. 35. 28. 29. 27. 34. 32. 28. 26. 24. 19. 28. 24.\n",
            " 27. 27. 26. 24. 30. 39. 35. 34. 30. 22. 27. 20. 18. 28. 27. 34. 31. 29.\n",
            " 27. 24. 23. 38. 36. 25. 38. 26. 22. 36. 27. 27. 32. 28. 31. 24. 27. 27.\n",
            " 25. 31. 35. 24. 19. 28. 23. 27. 20. 22. 18. 20. 31. 32. 31. 32. 24. 26.\n",
            " 29. 24. 24. 33. 33. 32. 28. 19. 32. 34. 26. 30. 22. 22. 33. 39. 36. 28.\n",
            " 27. 21. 24. 30. 34. 32. 38. 37. 30. 31. 37. 32. 47. 41. 45. 34. 33. 24.\n",
            " 32. 39. 35. 32. 37. 38. 34. 34. 32. 33. 32. 25. 24. 37. 31. 36. 36. 34.\n",
            " 38. 32. 38. 32.]\n",
            "Pvalue 0.0\n"
          ],
          "name": "stdout"
        }
      ]
    },
    {
      "cell_type": "markdown",
      "metadata": {
        "id": "FYCxAlsbhb_p",
        "colab_type": "text"
      },
      "source": [
        "After conducting the permuatiation tests the dataset can be discussed as not being comparable, the proposed fleet is not better or worst than the current fleet. "
      ]
    }
  ]
}