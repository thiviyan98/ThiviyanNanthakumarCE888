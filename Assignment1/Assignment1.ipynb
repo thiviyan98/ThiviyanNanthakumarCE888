{
  "nbformat": 4,
  "nbformat_minor": 0,
  "metadata": {
    "colab": {
      "name": "Assignment1.ipynb",
      "provenance": [],
      "collapsed_sections": [
        "kgq70e15BS8P",
        "p9G0489pBuq8",
        "93scMCrbCXjk",
        "fp8b_jL6CgFr"
      ],
      "authorship_tag": "ABX9TyO73c1XIN34kBB7gwW6TI3G",
      "include_colab_link": true
    },
    "kernelspec": {
      "name": "python3",
      "display_name": "Python 3"
    },
    "accelerator": "GPU"
  },
  "cells": [
    {
      "cell_type": "markdown",
      "metadata": {
        "id": "view-in-github",
        "colab_type": "text"
      },
      "source": [
        "<a href=\"https://colab.research.google.com/github/thiviyan98/ThiviyanNanthakumarCE888/blob/master/Assignment1/Assignment1.ipynb\" target=\"_parent\"><img src=\"https://colab.research.google.com/assets/colab-badge.svg\" alt=\"Open In Colab\"/></a>"
      ]
    },
    {
      "cell_type": "markdown",
      "metadata": {
        "id": "h6SJCZltBNsU",
        "colab_type": "text"
      },
      "source": [
        "#Assignment 1"
      ]
    },
    {
      "cell_type": "code",
      "metadata": {
        "id": "m15NVbHoLPgD",
        "colab_type": "code",
        "colab": {}
      },
      "source": [
        " import seaborn as sns\n",
        " import numpy as np\n",
        " import pandas as pd\n",
        " import matplotlib.pyplot as plt\n"
      ],
      "execution_count": 0,
      "outputs": []
    },
    {
      "cell_type": "markdown",
      "metadata": {
        "id": "xgUA1g_MlH-V",
        "colab_type": "text"
      },
      "source": [
        "##Import and Reading Dataset"
      ]
    },
    {
      "cell_type": "code",
      "metadata": {
        "id": "ilnY5kuDmsnz",
        "colab_type": "code",
        "colab": {}
      },
      "source": [
        "africadf = pd.read_csv('https://raw.githubusercontent.com/thiviyan98/ThiviyanNanthakumarCE888/master/Assignment1/Data/african-country-recession-dataset-2000-to-2017/africa_recession.csv', sep=',', quotechar='\"')\n",
        "\n",
        "medicaldf = pd.read_csv('https://raw.githubusercontent.com/thiviyan98/ThiviyanNanthakumarCE888/master/Assignment1/Data/noshowappointments/KaggleV2-May-2016.csv', sep=',', quotechar='\"')\n",
        "\n",
        "conceptdf = pd.read_csv('https://raw.githubusercontent.com/thiviyan98/ThiviyanNanthakumarCE888/master/Assignment1/Data/Contraceptive%20Method%20Choice%20Data%20Set/ContraceptiveMethodChoiceDataSet.csv', sep=',', quotechar='\"')\n"
      ],
      "execution_count": 0,
      "outputs": []
    },
    {
      "cell_type": "markdown",
      "metadata": {
        "id": "kgq70e15BS8P",
        "colab_type": "text"
      },
      "source": [
        "### Printing and getting info for Africa Dataset"
      ]
    },
    {
      "cell_type": "code",
      "metadata": {
        "id": "WYBiZs-qt6Ve",
        "colab_type": "code",
        "colab": {
          "base_uri": "https://localhost:8080/",
          "height": 255
        },
        "outputId": "e81bd32d-cfce-4f4d-b860-510508941eee"
      },
      "source": [
        "print(africadf)"
      ],
      "execution_count": 35,
      "outputs": [
        {
          "output_type": "stream",
          "text": [
            "           pop        emp  ...  fish_change  growthbucket\n",
            "0    28.849621   6.914298  ...     0.007576             0\n",
            "1    45.728313  13.623806  ...     0.007576             0\n",
            "2    33.262043  13.323813  ...     0.007576             0\n",
            "3     8.025703   3.869000  ...     0.007576             0\n",
            "4     1.061468   0.243000  ...     0.007576             0\n",
            "..         ...        ...  ...          ...           ...\n",
            "481  12.208407   6.215000  ...     0.026477             0\n",
            "482  29.784193  15.389316  ...     0.026477             1\n",
            "483  55.797787  25.301973  ...     0.026477             0\n",
            "484  15.850567   5.277823  ...     0.026477             0\n",
            "485   7.797694   3.468000  ...     0.026477             0\n",
            "\n",
            "[486 rows x 50 columns]\n"
          ],
          "name": "stdout"
        }
      ]
    },
    {
      "cell_type": "code",
      "metadata": {
        "id": "KGQszXgNttVo",
        "colab_type": "code",
        "colab": {
          "base_uri": "https://localhost:8080/",
          "height": 952
        },
        "outputId": "26a4af3d-3bd6-466e-e9cc-f892e3b90eaa"
      },
      "source": [
        "africadf.info()\n",
        "\n",
        "#486 entries lot of data, 50 variable coloumns (features)"
      ],
      "execution_count": 37,
      "outputs": [
        {
          "output_type": "stream",
          "text": [
            "<class 'pandas.core.frame.DataFrame'>\n",
            "RangeIndex: 486 entries, 0 to 485\n",
            "Data columns (total 50 columns):\n",
            "pop                       486 non-null float64\n",
            "emp                       486 non-null float64\n",
            "emp_to_pop_ratio          486 non-null float64\n",
            "hc                        486 non-null float64\n",
            "ccon                      486 non-null float64\n",
            "cda                       486 non-null float64\n",
            "cn                        486 non-null float64\n",
            "ck                        486 non-null float64\n",
            "ctfp                      486 non-null float64\n",
            "cwtfp                     486 non-null float64\n",
            "rconna                    486 non-null float64\n",
            "rdana                     486 non-null float64\n",
            "rnna                      486 non-null float64\n",
            "rkna                      486 non-null float64\n",
            "rtfpna                    486 non-null float64\n",
            "rwtfpna                   486 non-null float64\n",
            "labsh                     486 non-null float64\n",
            "irr                       486 non-null float64\n",
            "delta                     486 non-null float64\n",
            "xr                        486 non-null float64\n",
            "pl_con                    486 non-null float64\n",
            "pl_da                     486 non-null float64\n",
            "pl_gdpo                   486 non-null float64\n",
            "csh_c                     486 non-null float64\n",
            "csh_i                     486 non-null float64\n",
            "csh_g                     486 non-null float64\n",
            "csh_x                     486 non-null float64\n",
            "csh_m                     486 non-null float64\n",
            "csh_r                     486 non-null float64\n",
            "pl_c                      486 non-null float64\n",
            "pl_i                      486 non-null float64\n",
            "pl_g                      486 non-null float64\n",
            "pl_x                      486 non-null float64\n",
            "pl_m                      486 non-null float64\n",
            "pl_n                      486 non-null float64\n",
            "total                     486 non-null float64\n",
            "excl_energy               486 non-null float64\n",
            "energy                    486 non-null float64\n",
            "metals_minerals           486 non-null float64\n",
            "forestry                  486 non-null float64\n",
            "agriculture               486 non-null float64\n",
            "fish                      486 non-null float64\n",
            "total_change              486 non-null float64\n",
            "excl_energy_change        486 non-null float64\n",
            "energy_change             486 non-null float64\n",
            "metals_minerals_change    486 non-null float64\n",
            "forestry_change           486 non-null float64\n",
            "agriculture_change        486 non-null float64\n",
            "fish_change               486 non-null float64\n",
            "growthbucket              486 non-null int64\n",
            "dtypes: float64(49), int64(1)\n",
            "memory usage: 190.0 KB\n"
          ],
          "name": "stdout"
        }
      ]
    },
    {
      "cell_type": "code",
      "metadata": {
        "id": "G-8tcCsUxrix",
        "colab_type": "code",
        "colab": {
          "base_uri": "https://localhost:8080/",
          "height": 68
        },
        "outputId": "d20e4c6d-2ff5-43ba-ccfa-9f25e77872ea"
      },
      "source": [
        "africadf['growthbucket'].value_counts()"
      ],
      "execution_count": 43,
      "outputs": [
        {
          "output_type": "execute_result",
          "data": {
            "text/plain": [
              "0    448\n",
              "1     38\n",
              "Name: growthbucket, dtype: int64"
            ]
          },
          "metadata": {
            "tags": []
          },
          "execution_count": 43
        }
      ]
    },
    {
      "cell_type": "markdown",
      "metadata": {
        "id": "p9G0489pBuq8",
        "colab_type": "text"
      },
      "source": [
        "### Printing and getting info for Medical Dataset"
      ]
    },
    {
      "cell_type": "code",
      "metadata": {
        "id": "BxPf93HOqZC1",
        "colab_type": "code",
        "colab": {
          "base_uri": "https://localhost:8080/",
          "height": 255
        },
        "outputId": "03e09f0f-cf3d-44d9-8704-6ea1747657b7"
      },
      "source": [
        "print(medicaldf)"
      ],
      "execution_count": 30,
      "outputs": [
        {
          "output_type": "stream",
          "text": [
            "           PatientId  AppointmentID Gender  ... Handcap SMS_received  No-show\n",
            "0       2.987250e+13        5642903      F  ...       0            0       No\n",
            "1       5.589978e+14        5642503      M  ...       0            0       No\n",
            "2       4.262962e+12        5642549      F  ...       0            0       No\n",
            "3       8.679512e+11        5642828      F  ...       0            0       No\n",
            "4       8.841186e+12        5642494      F  ...       0            0       No\n",
            "...              ...            ...    ...  ...     ...          ...      ...\n",
            "110522  2.572134e+12        5651768      F  ...       0            1       No\n",
            "110523  3.596266e+12        5650093      F  ...       0            1       No\n",
            "110524  1.557663e+13        5630692      F  ...       0            1       No\n",
            "110525  9.213493e+13        5630323      F  ...       0            1       No\n",
            "110526  3.775115e+14        5629448      F  ...       0            1       No\n",
            "\n",
            "[110527 rows x 14 columns]\n"
          ],
          "name": "stdout"
        }
      ]
    },
    {
      "cell_type": "code",
      "metadata": {
        "id": "bLlOozUvuCe-",
        "colab_type": "code",
        "colab": {
          "base_uri": "https://localhost:8080/",
          "height": 340
        },
        "outputId": "35fd6849-15e3-4ab7-cd09-e6a8e9da5777"
      },
      "source": [
        "medicaldf.info()\n",
        "#110527 entries lot of data, 14 variable coloumns (features)"
      ],
      "execution_count": 38,
      "outputs": [
        {
          "output_type": "stream",
          "text": [
            "<class 'pandas.core.frame.DataFrame'>\n",
            "RangeIndex: 110527 entries, 0 to 110526\n",
            "Data columns (total 14 columns):\n",
            "PatientId         110527 non-null float64\n",
            "AppointmentID     110527 non-null int64\n",
            "Gender            110527 non-null object\n",
            "ScheduledDay      110527 non-null object\n",
            "AppointmentDay    110527 non-null object\n",
            "Age               110527 non-null int64\n",
            "Neighbourhood     110527 non-null object\n",
            "Scholarship       110527 non-null int64\n",
            "Hipertension      110527 non-null int64\n",
            "Diabetes          110527 non-null int64\n",
            "Alcoholism        110527 non-null int64\n",
            "Handcap           110527 non-null int64\n",
            "SMS_received      110527 non-null int64\n",
            "No-show           110527 non-null object\n",
            "dtypes: float64(1), int64(8), object(5)\n",
            "memory usage: 11.8+ MB\n"
          ],
          "name": "stdout"
        }
      ]
    },
    {
      "cell_type": "code",
      "metadata": {
        "id": "teZULNWPx1Di",
        "colab_type": "code",
        "colab": {
          "base_uri": "https://localhost:8080/",
          "height": 68
        },
        "outputId": "2b49a3b3-546f-4441-9334-6e7c8175713c"
      },
      "source": [
        "medicaldf['No-show'].value_counts()"
      ],
      "execution_count": 45,
      "outputs": [
        {
          "output_type": "execute_result",
          "data": {
            "text/plain": [
              "No     88208\n",
              "Yes    22319\n",
              "Name: No-show, dtype: int64"
            ]
          },
          "metadata": {
            "tags": []
          },
          "execution_count": 45
        }
      ]
    },
    {
      "cell_type": "markdown",
      "metadata": {
        "id": "2LXH2eiiCFOT",
        "colab_type": "text"
      },
      "source": [
        "#### Changing the Target Class to Binary Representation"
      ]
    },
    {
      "cell_type": "code",
      "metadata": {
        "id": "husYA1U32w8j",
        "colab_type": "code",
        "colab": {
          "base_uri": "https://localhost:8080/",
          "height": 68
        },
        "outputId": "621b7f75-bf89-4773-8b06-d91a0a497a95"
      },
      "source": [
        "# binary classification 1 is No and 0 is Yes\n",
        "medicaldf['No-show']=[0 if b== 'Yes' else 1 for b in medicaldf['No-show']]\n",
        "medicaldf['No-show'].value_counts()"
      ],
      "execution_count": 68,
      "outputs": [
        {
          "output_type": "execute_result",
          "data": {
            "text/plain": [
              "1    88208\n",
              "0    22319\n",
              "Name: No-show, dtype: int64"
            ]
          },
          "metadata": {
            "tags": []
          },
          "execution_count": 68
        }
      ]
    },
    {
      "cell_type": "code",
      "metadata": {
        "id": "jR58SEDE5P4L",
        "colab_type": "code",
        "colab": {
          "base_uri": "https://localhost:8080/",
          "height": 255
        },
        "outputId": "0c93ee28-e808-445e-cfda-7465e29e3233"
      },
      "source": [
        "print(medicaldf)"
      ],
      "execution_count": 69,
      "outputs": [
        {
          "output_type": "stream",
          "text": [
            "           PatientId  AppointmentID Gender  ... Handcap SMS_received  No-show\n",
            "0       2.987250e+13        5642903      F  ...       0            0        1\n",
            "1       5.589978e+14        5642503      M  ...       0            0        1\n",
            "2       4.262962e+12        5642549      F  ...       0            0        1\n",
            "3       8.679512e+11        5642828      F  ...       0            0        1\n",
            "4       8.841186e+12        5642494      F  ...       0            0        1\n",
            "...              ...            ...    ...  ...     ...          ...      ...\n",
            "110522  2.572134e+12        5651768      F  ...       0            1        1\n",
            "110523  3.596266e+12        5650093      F  ...       0            1        1\n",
            "110524  1.557663e+13        5630692      F  ...       0            1        1\n",
            "110525  9.213493e+13        5630323      F  ...       0            1        1\n",
            "110526  3.775115e+14        5629448      F  ...       0            1        1\n",
            "\n",
            "[110527 rows x 14 columns]\n"
          ],
          "name": "stdout"
        }
      ]
    },
    {
      "cell_type": "markdown",
      "metadata": {
        "id": "93scMCrbCXjk",
        "colab_type": "text"
      },
      "source": [
        "### Printing and getting info for Contraceptive Dataset"
      ]
    },
    {
      "cell_type": "code",
      "metadata": {
        "id": "57cU2fMGrbQy",
        "colab_type": "code",
        "colab": {
          "base_uri": "https://localhost:8080/",
          "height": 255
        },
        "outputId": "23807b4d-eb02-415e-f0f0-458702e53601"
      },
      "source": [
        "print(conceptdf)"
      ],
      "execution_count": 31,
      "outputs": [
        {
          "output_type": "stream",
          "text": [
            "      Wife's Age  Wife's education  ...  Media exposure   Contraceptive method used\n",
            "0             24                 2  ...                0                          1\n",
            "1             45                 1  ...                0                          1\n",
            "2             43                 2  ...                0                          1\n",
            "3             42                 3  ...                0                          1\n",
            "4             36                 3  ...                0                          1\n",
            "...          ...               ...  ...              ...                        ...\n",
            "1468          33                 4  ...                0                          3\n",
            "1469          33                 4  ...                0                          3\n",
            "1470          39                 3  ...                0                          3\n",
            "1471          33                 3  ...                0                          3\n",
            "1472          17                 3  ...                0                          3\n",
            "\n",
            "[1473 rows x 10 columns]\n"
          ],
          "name": "stdout"
        }
      ]
    },
    {
      "cell_type": "code",
      "metadata": {
        "id": "hcU0ql86uO6_",
        "colab_type": "code",
        "colab": {
          "base_uri": "https://localhost:8080/",
          "height": 272
        },
        "outputId": "cf62cd56-1606-49ed-82a6-0e49c5b539e9"
      },
      "source": [
        "conceptdf.info()\n",
        "#1473 entries lot of data, 10 variable coloumns (features)"
      ],
      "execution_count": 39,
      "outputs": [
        {
          "output_type": "stream",
          "text": [
            "<class 'pandas.core.frame.DataFrame'>\n",
            "RangeIndex: 1473 entries, 0 to 1472\n",
            "Data columns (total 10 columns):\n",
            "Wife's Age                      1473 non-null int64\n",
            "Wife's education                1473 non-null int64\n",
            "Husband's education             1473 non-null int64\n",
            "Number of children ever born    1473 non-null int64\n",
            "Wife's religion                 1473 non-null int64\n",
            "Wife's now working?             1473 non-null int64\n",
            "Husband's occupation            1473 non-null int64\n",
            "Standard-of-living index        1473 non-null int64\n",
            "Media exposure                  1473 non-null int64\n",
            "Contraceptive method used       1473 non-null int64\n",
            "dtypes: int64(10)\n",
            "memory usage: 115.2 KB\n"
          ],
          "name": "stdout"
        }
      ]
    },
    {
      "cell_type": "code",
      "metadata": {
        "id": "tBoamjiFyH-a",
        "colab_type": "code",
        "colab": {
          "base_uri": "https://localhost:8080/",
          "height": 85
        },
        "outputId": "b6d10bff-9d5f-428d-d6f7-3ed074404cab"
      },
      "source": [
        "conceptdf['Contraceptive method used'].value_counts()"
      ],
      "execution_count": 46,
      "outputs": [
        {
          "output_type": "execute_result",
          "data": {
            "text/plain": [
              "1    629\n",
              "3    511\n",
              "2    333\n",
              "Name: Contraceptive method used, dtype: int64"
            ]
          },
          "metadata": {
            "tags": []
          },
          "execution_count": 46
        }
      ]
    },
    {
      "cell_type": "markdown",
      "metadata": {
        "id": "fp8b_jL6CgFr",
        "colab_type": "text"
      },
      "source": [
        "#### Changing the Target Class to Binary Representation"
      ]
    },
    {
      "cell_type": "code",
      "metadata": {
        "id": "OKw_GHUNyaGR",
        "colab_type": "code",
        "colab": {
          "base_uri": "https://localhost:8080/",
          "height": 68
        },
        "outputId": "ca452d5f-c61a-4e82-86bf-79f885c29ce7"
      },
      "source": [
        "# binary classification 0 is not used and 1 is used contraceptive\n",
        "conceptdf['Contraceptive method used']=[0 if b== 1 else 1 for b in conceptdf['Contraceptive method used']]\n",
        "conceptdf['Contraceptive method used'].value_counts()\n"
      ],
      "execution_count": 60,
      "outputs": [
        {
          "output_type": "execute_result",
          "data": {
            "text/plain": [
              "1    844\n",
              "0    629\n",
              "Name: Contraceptive method used, dtype: int64"
            ]
          },
          "metadata": {
            "tags": []
          },
          "execution_count": 60
        }
      ]
    },
    {
      "cell_type": "code",
      "metadata": {
        "id": "USeAfBkj0aFj",
        "colab_type": "code",
        "colab": {
          "base_uri": "https://localhost:8080/",
          "height": 255
        },
        "outputId": "1806aab2-7b6b-4839-8a90-bc96b904e13a"
      },
      "source": [
        "print(conceptdf)"
      ],
      "execution_count": 61,
      "outputs": [
        {
          "output_type": "stream",
          "text": [
            "      Wife's Age  Wife's education  ...  Media exposure   Contraceptive method used\n",
            "0             24                 2  ...                0                          0\n",
            "1             45                 1  ...                0                          0\n",
            "2             43                 2  ...                0                          0\n",
            "3             42                 3  ...                0                          0\n",
            "4             36                 3  ...                0                          0\n",
            "...          ...               ...  ...              ...                        ...\n",
            "1468          33                 4  ...                0                          1\n",
            "1469          33                 4  ...                0                          1\n",
            "1470          39                 3  ...                0                          1\n",
            "1471          33                 3  ...                0                          1\n",
            "1472          17                 3  ...                0                          1\n",
            "\n",
            "[1473 rows x 10 columns]\n"
          ],
          "name": "stdout"
        }
      ]
    },
    {
      "cell_type": "markdown",
      "metadata": {
        "id": "girYkRa_vca4",
        "colab_type": "text"
      },
      "source": [
        "##Checking the imbalance distribution"
      ]
    },
    {
      "cell_type": "markdown",
      "metadata": {
        "id": "ut-Xkr1pvovA",
        "colab_type": "text"
      },
      "source": [
        "###Bar Graph"
      ]
    },
    {
      "cell_type": "code",
      "metadata": {
        "id": "VJh3RcfUvC4Z",
        "colab_type": "code",
        "colab": {
          "base_uri": "https://localhost:8080/",
          "height": 330
        },
        "outputId": "46d50572-bbad-4074-e165-0fd4c8f411ff"
      },
      "source": [
        "plt.title('GrowthBucket Distribution \\n (0: No_Recession || 1: Recession)', fontsize=14)\n",
        "sns.countplot(\"growthbucket\",data=africadf)"
      ],
      "execution_count": 42,
      "outputs": [
        {
          "output_type": "execute_result",
          "data": {
            "text/plain": [
              "<matplotlib.axes._subplots.AxesSubplot at 0x7f47889a2748>"
            ]
          },
          "metadata": {
            "tags": []
          },
          "execution_count": 42
        },
        {
          "output_type": "display_data",
          "data": {
            "image/png": "[encoded data removed]",
            "text/plain": [
              "<Figure size 432x288 with 1 Axes>"
            ]
          },
          "metadata": {
            "tags": []
          }
        }
      ]
    },
    {
      "cell_type": "code",
      "metadata": {
        "id": "oCqWahhH8Sft",
        "colab_type": "code",
        "colab": {
          "base_uri": "https://localhost:8080/",
          "height": 330
        },
        "outputId": "43b0adb9-ec21-4900-b559-779a7af28033"
      },
      "source": [
        "plt.title('No Show for Appointment \\n (0: No Showed || 1: Showed up)', fontsize=14)\n",
        "sns.countplot(\"No-show\",data=medicaldf)"
      ],
      "execution_count": 71,
      "outputs": [
        {
          "output_type": "execute_result",
          "data": {
            "text/plain": [
              "<matplotlib.axes._subplots.AxesSubplot at 0x7f4788b3d048>"
            ]
          },
          "metadata": {
            "tags": []
          },
          "execution_count": 71
        },
        {
          "output_type": "display_data",
          "data": {
            "image/png": "[encoded data removed]",
            "text/plain": [
              "<Figure size 432x288 with 1 Axes>"
            ]
          },
          "metadata": {
            "tags": []
          }
        }
      ]
    },
    {
      "cell_type": "code",
      "metadata": {
        "id": "WuGMsgAsvuT4",
        "colab_type": "code",
        "colab": {
          "base_uri": "https://localhost:8080/",
          "height": 330
        },
        "outputId": "446b8473-72b7-47a5-946b-4517c3657f96"
      },
      "source": [
        "plt.title('Contraceptive Method Used \\n (0: Not Used || 1: Used)', fontsize=14)\n",
        "sns.countplot(\"Contraceptive method used\",data=conceptdf)"
      ],
      "execution_count": 62,
      "outputs": [
        {
          "output_type": "execute_result",
          "data": {
            "text/plain": [
              "<matplotlib.axes._subplots.AxesSubplot at 0x7f4786fe0d68>"
            ]
          },
          "metadata": {
            "tags": []
          },
          "execution_count": 62
        },
        {
          "output_type": "display_data",
          "data": {
            "image/png": "[encoded data removed]",
            "text/plain": [
              "<Figure size 432x288 with 1 Axes>"
            ]
          },
          "metadata": {
            "tags": []
          }
        }
      ]
    },
    {
      "cell_type": "markdown",
      "metadata": {
        "id": "hwWK5ngiD2fL",
        "colab_type": "text"
      },
      "source": [
        "###Percentage\n"
      ]
    },
    {
      "cell_type": "code",
      "metadata": {
        "id": "wkWj6zLiD5Cr",
        "colab_type": "code",
        "colab": {
          "base_uri": "https://localhost:8080/",
          "height": 51
        },
        "outputId": "2daa779e-961d-4eb8-88d2-18a1e4a1d0f2"
      },
      "source": [
        "recession= len(africadf[africadf['growthbucket']==1])\n",
        "no_recession=len(africadf[africadf['growthbucket']==0])\n",
        "\n",
        "percentofrecession= recession/(recession+no_recession)\n",
        "percentofnorecession= no_recession/(recession+no_recession)\n",
        "\n",
        "print(\"Percentage of Recession is\", percentofrecession*100)\n",
        "print(\"Percentage of No Recession is\", percentofnorecession*100)\n"
      ],
      "execution_count": 77,
      "outputs": [
        {
          "output_type": "stream",
          "text": [
            "Percentage of Recession is 7.818930041152264\n",
            "Percentage of No Recession is 92.18106995884774\n"
          ],
          "name": "stdout"
        }
      ]
    },
    {
      "cell_type": "code",
      "metadata": {
        "id": "K1CPTQpNIEts",
        "colab_type": "code",
        "colab": {
          "base_uri": "https://localhost:8080/",
          "height": 250
        },
        "outputId": "72d41fc4-f945-4f10-a8de-da231fa5f342"
      },
      "source": [
        "labels = 'Recession','No Recession'\n",
        "\n",
        "sizes=[percentofrecession,percentofnorecession]\n",
        "\n",
        "explode=(0.2,0)\n",
        "\n",
        "fig1, ax1 =plt.subplots()\n",
        "\n",
        "ax1.pie(sizes,explode=explode,labels=labels,autopct='%1.1f%%', shadow= True, startangle=90)\n",
        "\n",
        "ax1.axis('equal')\n",
        "\n",
        "plt.show()"
      ],
      "execution_count": 81,
      "outputs": [
        {
          "output_type": "display_data",
          "data": {
            "image/png": "[encoded data removed]",
            "text/plain": [
              "<Figure size 432x288 with 1 Axes>"
            ]
          },
          "metadata": {
            "tags": []
          }
        }
      ]
    }
  ]
}