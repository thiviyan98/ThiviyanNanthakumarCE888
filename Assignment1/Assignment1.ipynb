{
  "nbformat": 4,
  "nbformat_minor": 0,
  "metadata": {
    "colab": {
      "name": "Assignment1.ipynb",
      "provenance": [],
      "collapsed_sections": [
        "kgq70e15BS8P",
        "p9G0489pBuq8",
        "1SEc8pkEMgeY",
        "2LXH2eiiCFOT",
        "xS1dV3qdNcBB",
        "vS5EZZRUNhuY",
        "ugDP5JMeNsc4",
        "tzIJzJt4N1yh",
        "u087DbsxUL2y",
        "QUuqeaOJUTjy"
      ],
      "authorship_tag": "ABX9TyNN5g09HIscXKK/FnxcYphQ",
      "include_colab_link": true
    },
    "kernelspec": {
      "name": "python3",
      "display_name": "Python 3"
    },
    "accelerator": "GPU"
  },
  "cells": [
    {
      "cell_type": "markdown",
      "metadata": {
        "id": "view-in-github",
        "colab_type": "text"
      },
      "source": [
        "<a href=\"https://colab.research.google.com/github/thiviyan98/ThiviyanNanthakumarCE888/blob/master/Assignment1/Assignment1.ipynb\" target=\"_parent\"><img src=\"https://colab.research.google.com/assets/colab-badge.svg\" alt=\"Open In Colab\"/></a>"
      ]
    },
    {
      "cell_type": "markdown",
      "metadata": {
        "id": "h6SJCZltBNsU",
        "colab_type": "text"
      },
      "source": [
        "#Assignment 1"
      ]
    },
    {
      "cell_type": "code",
      "metadata": {
        "id": "m15NVbHoLPgD",
        "colab_type": "code",
        "colab": {}
      },
      "source": [
        "import seaborn as sns\n",
        "import numpy as np\n",
        "import pandas as pd\n",
        "import matplotlib.pyplot as plt\n",
        "from sklearn.preprocessing import LabelEncoder\n"
      ],
      "execution_count": 0,
      "outputs": []
    },
    {
      "cell_type": "markdown",
      "metadata": {
        "id": "xgUA1g_MlH-V",
        "colab_type": "text"
      },
      "source": [
        "##Import and Reading Dataset"
      ]
    },
    {
      "cell_type": "code",
      "metadata": {
        "id": "ilnY5kuDmsnz",
        "colab_type": "code",
        "colab": {}
      },
      "source": [
        "africadf = pd.read_csv('https://raw.githubusercontent.com/thiviyan98/ThiviyanNanthakumarCE888/master/Assignment1/Data/african-country-recession-dataset-2000-to-2017/africa_recession.csv', sep=',', quotechar='\"')\n",
        "\n",
        "medicaldf = pd.read_csv('https://raw.githubusercontent.com/thiviyan98/ThiviyanNanthakumarCE888/master/Assignment1/Data/noshowappointments/KaggleV2-May-2016.csv', sep=',', quotechar='\"')\n",
        "\n",
        "conceptdf = pd.read_csv('https://raw.githubusercontent.com/thiviyan98/ThiviyanNanthakumarCE888/master/Assignment1/Data/Contraceptive%20Method%20Choice%20Data%20Set/ContraceptiveMethodChoiceDataSet.csv',names=['Wife Age','Wife Education','Husband Education','Number of Children','Wife religion','Wife working','Husband Occupation','SOLI','Media Exposure','Contraceptive Method'] ,sep=',', quotechar='\"')\n"
      ],
      "execution_count": 0,
      "outputs": []
    },
    {
      "cell_type": "markdown",
      "metadata": {
        "id": "kgq70e15BS8P",
        "colab_type": "text"
      },
      "source": [
        "### Printing and getting info for Africa Dataset"
      ]
    },
    {
      "cell_type": "code",
      "metadata": {
        "id": "WYBiZs-qt6Ve",
        "colab_type": "code",
        "outputId": "f5699b98-934a-4713-8ee1-2ef4e1fda418",
        "colab": {
          "base_uri": "https://localhost:8080/",
          "height": 0
        }
      },
      "source": [
        "print(africadf)"
      ],
      "execution_count": 906,
      "outputs": [
        {
          "output_type": "stream",
          "text": [
            "           pop        emp  ...  fish_change  growthbucket\n",
            "0    28.849621   6.914298  ...     0.007576             0\n",
            "1    45.728313  13.623806  ...     0.007576             0\n",
            "2    33.262043  13.323813  ...     0.007576             0\n",
            "3     8.025703   3.869000  ...     0.007576             0\n",
            "4     1.061468   0.243000  ...     0.007576             0\n",
            "..         ...        ...  ...          ...           ...\n",
            "481  12.208407   6.215000  ...     0.026477             0\n",
            "482  29.784193  15.389316  ...     0.026477             1\n",
            "483  55.797787  25.301973  ...     0.026477             0\n",
            "484  15.850567   5.277823  ...     0.026477             0\n",
            "485   7.797694   3.468000  ...     0.026477             0\n",
            "\n",
            "[486 rows x 50 columns]\n"
          ],
          "name": "stdout"
        }
      ]
    },
    {
      "cell_type": "code",
      "metadata": {
        "id": "KGQszXgNttVo",
        "colab_type": "code",
        "outputId": "b06c8817-0c20-40ea-8b4a-fb75ce34ab66",
        "colab": {
          "base_uri": "https://localhost:8080/",
          "height": 0
        }
      },
      "source": [
        "africadf.info()\n",
        "#checked if there is missing values from the coloumn\n",
        "#486 entries lot of data, 50 variable coloumns (features)"
      ],
      "execution_count": 907,
      "outputs": [
        {
          "output_type": "stream",
          "text": [
            "<class 'pandas.core.frame.DataFrame'>\n",
            "RangeIndex: 486 entries, 0 to 485\n",
            "Data columns (total 50 columns):\n",
            "pop                       486 non-null float64\n",
            "emp                       486 non-null float64\n",
            "emp_to_pop_ratio          486 non-null float64\n",
            "hc                        486 non-null float64\n",
            "ccon                      486 non-null float64\n",
            "cda                       486 non-null float64\n",
            "cn                        486 non-null float64\n",
            "ck                        486 non-null float64\n",
            "ctfp                      486 non-null float64\n",
            "cwtfp                     486 non-null float64\n",
            "rconna                    486 non-null float64\n",
            "rdana                     486 non-null float64\n",
            "rnna                      486 non-null float64\n",
            "rkna                      486 non-null float64\n",
            "rtfpna                    486 non-null float64\n",
            "rwtfpna                   486 non-null float64\n",
            "labsh                     486 non-null float64\n",
            "irr                       486 non-null float64\n",
            "delta                     486 non-null float64\n",
            "xr                        486 non-null float64\n",
            "pl_con                    486 non-null float64\n",
            "pl_da                     486 non-null float64\n",
            "pl_gdpo                   486 non-null float64\n",
            "csh_c                     486 non-null float64\n",
            "csh_i                     486 non-null float64\n",
            "csh_g                     486 non-null float64\n",
            "csh_x                     486 non-null float64\n",
            "csh_m                     486 non-null float64\n",
            "csh_r                     486 non-null float64\n",
            "pl_c                      486 non-null float64\n",
            "pl_i                      486 non-null float64\n",
            "pl_g                      486 non-null float64\n",
            "pl_x                      486 non-null float64\n",
            "pl_m                      486 non-null float64\n",
            "pl_n                      486 non-null float64\n",
            "total                     486 non-null float64\n",
            "excl_energy               486 non-null float64\n",
            "energy                    486 non-null float64\n",
            "metals_minerals           486 non-null float64\n",
            "forestry                  486 non-null float64\n",
            "agriculture               486 non-null float64\n",
            "fish                      486 non-null float64\n",
            "total_change              486 non-null float64\n",
            "excl_energy_change        486 non-null float64\n",
            "energy_change             486 non-null float64\n",
            "metals_minerals_change    486 non-null float64\n",
            "forestry_change           486 non-null float64\n",
            "agriculture_change        486 non-null float64\n",
            "fish_change               486 non-null float64\n",
            "growthbucket              486 non-null int64\n",
            "dtypes: float64(49), int64(1)\n",
            "memory usage: 190.0 KB\n"
          ],
          "name": "stdout"
        }
      ]
    },
    {
      "cell_type": "code",
      "metadata": {
        "id": "_-ArHv59AnQi",
        "colab_type": "code",
        "outputId": "0f912fad-2d19-4e69-a88d-3d2c5d96c0cd",
        "colab": {
          "base_uri": "https://localhost:8080/",
          "height": 0
        }
      },
      "source": [
        "#Double check if there is missing values\n",
        "africadf.isnull().any().sum()>0"
      ],
      "execution_count": 908,
      "outputs": [
        {
          "output_type": "execute_result",
          "data": {
            "text/plain": [
              "False"
            ]
          },
          "metadata": {
            "tags": []
          },
          "execution_count": 908
        }
      ]
    },
    {
      "cell_type": "markdown",
      "metadata": {
        "id": "gv3-TRZUSpwy",
        "colab_type": "text"
      },
      "source": [
        "Adding ID"
      ]
    },
    {
      "cell_type": "code",
      "metadata": {
        "id": "DXY5WeywSsjb",
        "colab_type": "code",
        "outputId": "272b6504-08f6-4978-920c-a5a8dfd87553",
        "colab": {
          "base_uri": "https://localhost:8080/",
          "height": 0
        }
      },
      "source": [
        "countryID=np.array(range(len(africadf)))\n",
        "\n",
        "africadf['CountryID']=countryID\n",
        "\n",
        "print(africadf)"
      ],
      "execution_count": 909,
      "outputs": [
        {
          "output_type": "stream",
          "text": [
            "           pop        emp  ...  growthbucket  CountryID\n",
            "0    28.849621   6.914298  ...             0          0\n",
            "1    45.728313  13.623806  ...             0          1\n",
            "2    33.262043  13.323813  ...             0          2\n",
            "3     8.025703   3.869000  ...             0          3\n",
            "4     1.061468   0.243000  ...             0          4\n",
            "..         ...        ...  ...           ...        ...\n",
            "481  12.208407   6.215000  ...             0        481\n",
            "482  29.784193  15.389316  ...             1        482\n",
            "483  55.797787  25.301973  ...             0        483\n",
            "484  15.850567   5.277823  ...             0        484\n",
            "485   7.797694   3.468000  ...             0        485\n",
            "\n",
            "[486 rows x 51 columns]\n"
          ],
          "name": "stdout"
        }
      ]
    },
    {
      "cell_type": "code",
      "metadata": {
        "id": "G-8tcCsUxrix",
        "colab_type": "code",
        "outputId": "c200cbf1-8cc9-4827-e70d-2aff289dd051",
        "colab": {
          "base_uri": "https://localhost:8080/",
          "height": 0
        }
      },
      "source": [
        "africadf['growthbucket'].value_counts() ##finding the target variable "
      ],
      "execution_count": 910,
      "outputs": [
        {
          "output_type": "execute_result",
          "data": {
            "text/plain": [
              "0    448\n",
              "1     38\n",
              "Name: growthbucket, dtype: int64"
            ]
          },
          "metadata": {
            "tags": []
          },
          "execution_count": 910
        }
      ]
    },
    {
      "cell_type": "code",
      "metadata": {
        "id": "iGdi9G-_QK2j",
        "colab_type": "code",
        "colab": {
          "base_uri": "https://localhost:8080/",
          "height": 0
        },
        "outputId": "7aa6931c-6f62-4112-8350-44fbbf234ca0"
      },
      "source": [
        "africadf.describe()"
      ],
      "execution_count": 911,
      "outputs": [
        {
          "output_type": "execute_result",
          "data": {
            "text/html": [
              "<div>\n",
              "<style scoped>\n",
              "    .dataframe tbody tr th:only-of-type {\n",
              "        vertical-align: middle;\n",
              "    }\n",
              "\n",
              "    .dataframe tbody tr th {\n",
              "        vertical-align: top;\n",
              "    }\n",
              "\n",
              "    .dataframe thead th {\n",
              "        text-align: right;\n",
              "    }\n",
              "</style>\n",
              "<table border=\"1\" class=\"dataframe\">\n",
              "  <thead>\n",
              "    <tr style=\"text-align: right;\">\n",
              "      <th></th>\n",
              "      <th>pop</th>\n",
              "      <th>emp</th>\n",
              "      <th>emp_to_pop_ratio</th>\n",
              "      <th>hc</th>\n",
              "      <th>ccon</th>\n",
              "      <th>cda</th>\n",
              "      <th>cn</th>\n",
              "      <th>ck</th>\n",
              "      <th>ctfp</th>\n",
              "      <th>cwtfp</th>\n",
              "      <th>rconna</th>\n",
              "      <th>rdana</th>\n",
              "      <th>rnna</th>\n",
              "      <th>rkna</th>\n",
              "      <th>rtfpna</th>\n",
              "      <th>rwtfpna</th>\n",
              "      <th>labsh</th>\n",
              "      <th>irr</th>\n",
              "      <th>delta</th>\n",
              "      <th>xr</th>\n",
              "      <th>pl_con</th>\n",
              "      <th>pl_da</th>\n",
              "      <th>pl_gdpo</th>\n",
              "      <th>csh_c</th>\n",
              "      <th>csh_i</th>\n",
              "      <th>csh_g</th>\n",
              "      <th>csh_x</th>\n",
              "      <th>csh_m</th>\n",
              "      <th>csh_r</th>\n",
              "      <th>pl_c</th>\n",
              "      <th>pl_i</th>\n",
              "      <th>pl_g</th>\n",
              "      <th>pl_x</th>\n",
              "      <th>pl_m</th>\n",
              "      <th>pl_n</th>\n",
              "      <th>total</th>\n",
              "      <th>excl_energy</th>\n",
              "      <th>energy</th>\n",
              "      <th>metals_minerals</th>\n",
              "      <th>forestry</th>\n",
              "      <th>agriculture</th>\n",
              "      <th>fish</th>\n",
              "      <th>total_change</th>\n",
              "      <th>excl_energy_change</th>\n",
              "      <th>energy_change</th>\n",
              "      <th>metals_minerals_change</th>\n",
              "      <th>forestry_change</th>\n",
              "      <th>agriculture_change</th>\n",
              "      <th>fish_change</th>\n",
              "      <th>growthbucket</th>\n",
              "      <th>CountryID</th>\n",
              "    </tr>\n",
              "  </thead>\n",
              "  <tbody>\n",
              "    <tr>\n",
              "      <th>count</th>\n",
              "      <td>486.000000</td>\n",
              "      <td>486.000000</td>\n",
              "      <td>486.000000</td>\n",
              "      <td>486.000000</td>\n",
              "      <td>486.000000</td>\n",
              "      <td>486.000000</td>\n",
              "      <td>4.860000e+02</td>\n",
              "      <td>486.000000</td>\n",
              "      <td>486.000000</td>\n",
              "      <td>486.000000</td>\n",
              "      <td>486.000000</td>\n",
              "      <td>486.000000</td>\n",
              "      <td>4.860000e+02</td>\n",
              "      <td>486.000000</td>\n",
              "      <td>486.000000</td>\n",
              "      <td>486.000000</td>\n",
              "      <td>486.000000</td>\n",
              "      <td>486.000000</td>\n",
              "      <td>486.000000</td>\n",
              "      <td>486.000000</td>\n",
              "      <td>486.000000</td>\n",
              "      <td>486.000000</td>\n",
              "      <td>486.000000</td>\n",
              "      <td>486.000000</td>\n",
              "      <td>486.000000</td>\n",
              "      <td>486.000000</td>\n",
              "      <td>486.000000</td>\n",
              "      <td>486.000000</td>\n",
              "      <td>486.000000</td>\n",
              "      <td>486.000000</td>\n",
              "      <td>486.000000</td>\n",
              "      <td>486.000000</td>\n",
              "      <td>486.000000</td>\n",
              "      <td>486.000000</td>\n",
              "      <td>486.000000</td>\n",
              "      <td>486.000000</td>\n",
              "      <td>486.000000</td>\n",
              "      <td>486.00000</td>\n",
              "      <td>486.000000</td>\n",
              "      <td>486.000000</td>\n",
              "      <td>486.000000</td>\n",
              "      <td>486.000000</td>\n",
              "      <td>486.000000</td>\n",
              "      <td>486.000000</td>\n",
              "      <td>486.000000</td>\n",
              "      <td>486.000000</td>\n",
              "      <td>486.000000</td>\n",
              "      <td>486.000000</td>\n",
              "      <td>486.000000</td>\n",
              "      <td>486.000000</td>\n",
              "      <td>486.000000</td>\n",
              "    </tr>\n",
              "    <tr>\n",
              "      <th>mean</th>\n",
              "      <td>20.185755</td>\n",
              "      <td>7.121089</td>\n",
              "      <td>0.357865</td>\n",
              "      <td>1.777389</td>\n",
              "      <td>64361.006942</td>\n",
              "      <td>80885.988722</td>\n",
              "      <td>2.442244e+05</td>\n",
              "      <td>0.004583</td>\n",
              "      <td>0.454419</td>\n",
              "      <td>0.453431</td>\n",
              "      <td>68169.779343</td>\n",
              "      <td>86894.648830</td>\n",
              "      <td>2.960933e+05</td>\n",
              "      <td>0.922019</td>\n",
              "      <td>0.988884</td>\n",
              "      <td>0.956187</td>\n",
              "      <td>0.513159</td>\n",
              "      <td>0.115962</td>\n",
              "      <td>0.048087</td>\n",
              "      <td>447.069460</td>\n",
              "      <td>0.420510</td>\n",
              "      <td>0.425005</td>\n",
              "      <td>0.411562</td>\n",
              "      <td>0.679354</td>\n",
              "      <td>0.206769</td>\n",
              "      <td>0.174061</td>\n",
              "      <td>0.168543</td>\n",
              "      <td>-0.225677</td>\n",
              "      <td>-0.003049</td>\n",
              "      <td>0.430719</td>\n",
              "      <td>0.474535</td>\n",
              "      <td>0.407058</td>\n",
              "      <td>0.623058</td>\n",
              "      <td>0.592560</td>\n",
              "      <td>0.394489</td>\n",
              "      <td>480.433333</td>\n",
              "      <td>315.391667</td>\n",
              "      <td>1205.33000</td>\n",
              "      <td>512.912222</td>\n",
              "      <td>322.411667</td>\n",
              "      <td>221.326667</td>\n",
              "      <td>1009.445556</td>\n",
              "      <td>0.044535</td>\n",
              "      <td>0.030346</td>\n",
              "      <td>0.082411</td>\n",
              "      <td>0.058144</td>\n",
              "      <td>0.024774</td>\n",
              "      <td>0.033930</td>\n",
              "      <td>0.023741</td>\n",
              "      <td>0.078189</td>\n",
              "      <td>242.500000</td>\n",
              "    </tr>\n",
              "    <tr>\n",
              "      <th>std</th>\n",
              "      <td>30.037490</td>\n",
              "      <td>9.921471</td>\n",
              "      <td>0.080541</td>\n",
              "      <td>0.446339</td>\n",
              "      <td>129634.856793</td>\n",
              "      <td>156740.416624</td>\n",
              "      <td>4.725163e+05</td>\n",
              "      <td>0.008210</td>\n",
              "      <td>0.206562</td>\n",
              "      <td>0.203056</td>\n",
              "      <td>136352.268853</td>\n",
              "      <td>164892.302342</td>\n",
              "      <td>5.126251e+05</td>\n",
              "      <td>0.340277</td>\n",
              "      <td>0.143482</td>\n",
              "      <td>0.140860</td>\n",
              "      <td>0.148923</td>\n",
              "      <td>0.073690</td>\n",
              "      <td>0.012163</td>\n",
              "      <td>797.259327</td>\n",
              "      <td>0.126245</td>\n",
              "      <td>0.117072</td>\n",
              "      <td>0.117266</td>\n",
              "      <td>0.158903</td>\n",
              "      <td>0.088993</td>\n",
              "      <td>0.063082</td>\n",
              "      <td>0.142386</td>\n",
              "      <td>0.132546</td>\n",
              "      <td>0.090130</td>\n",
              "      <td>0.136076</td>\n",
              "      <td>0.142659</td>\n",
              "      <td>0.160308</td>\n",
              "      <td>0.104425</td>\n",
              "      <td>0.076358</td>\n",
              "      <td>0.386874</td>\n",
              "      <td>132.323682</td>\n",
              "      <td>65.322380</td>\n",
              "      <td>416.62894</td>\n",
              "      <td>173.040876</td>\n",
              "      <td>44.315222</td>\n",
              "      <td>49.803981</td>\n",
              "      <td>140.125951</td>\n",
              "      <td>0.184025</td>\n",
              "      <td>0.105616</td>\n",
              "      <td>0.288454</td>\n",
              "      <td>0.151285</td>\n",
              "      <td>0.129924</td>\n",
              "      <td>0.127101</td>\n",
              "      <td>0.076937</td>\n",
              "      <td>0.268746</td>\n",
              "      <td>140.440379</td>\n",
              "    </tr>\n",
              "    <tr>\n",
              "      <th>min</th>\n",
              "      <td>1.061468</td>\n",
              "      <td>0.243000</td>\n",
              "      <td>0.198212</td>\n",
              "      <td>1.069451</td>\n",
              "      <td>2781.259277</td>\n",
              "      <td>2984.366943</td>\n",
              "      <td>5.790397e+03</td>\n",
              "      <td>0.000124</td>\n",
              "      <td>0.098622</td>\n",
              "      <td>0.107790</td>\n",
              "      <td>2786.592285</td>\n",
              "      <td>2978.288574</td>\n",
              "      <td>8.735905e+03</td>\n",
              "      <td>0.136824</td>\n",
              "      <td>0.429515</td>\n",
              "      <td>0.382910</td>\n",
              "      <td>0.164316</td>\n",
              "      <td>0.010000</td>\n",
              "      <td>0.024867</td>\n",
              "      <td>1.000000</td>\n",
              "      <td>0.150231</td>\n",
              "      <td>0.146762</td>\n",
              "      <td>0.128689</td>\n",
              "      <td>0.223663</td>\n",
              "      <td>0.049954</td>\n",
              "      <td>0.016554</td>\n",
              "      <td>0.012206</td>\n",
              "      <td>-0.784460</td>\n",
              "      <td>-0.652756</td>\n",
              "      <td>0.154627</td>\n",
              "      <td>0.030470</td>\n",
              "      <td>0.044227</td>\n",
              "      <td>0.375171</td>\n",
              "      <td>0.432636</td>\n",
              "      <td>0.062744</td>\n",
              "      <td>274.690000</td>\n",
              "      <td>205.270000</td>\n",
              "      <td>586.13000</td>\n",
              "      <td>241.900000</td>\n",
              "      <td>245.560000</td>\n",
              "      <td>149.370000</td>\n",
              "      <td>843.660000</td>\n",
              "      <td>-0.359446</td>\n",
              "      <td>-0.173741</td>\n",
              "      <td>-0.477017</td>\n",
              "      <td>-0.157564</td>\n",
              "      <td>-0.174550</td>\n",
              "      <td>-0.225998</td>\n",
              "      <td>-0.113858</td>\n",
              "      <td>0.000000</td>\n",
              "      <td>0.000000</td>\n",
              "    </tr>\n",
              "    <tr>\n",
              "      <th>25%</th>\n",
              "      <td>3.830730</td>\n",
              "      <td>1.048750</td>\n",
              "      <td>0.297922</td>\n",
              "      <td>1.445886</td>\n",
              "      <td>9117.209716</td>\n",
              "      <td>11081.697755</td>\n",
              "      <td>2.429231e+04</td>\n",
              "      <td>0.000514</td>\n",
              "      <td>0.301179</td>\n",
              "      <td>0.295615</td>\n",
              "      <td>8797.567871</td>\n",
              "      <td>10660.792725</td>\n",
              "      <td>3.465814e+04</td>\n",
              "      <td>0.709967</td>\n",
              "      <td>0.946962</td>\n",
              "      <td>0.900594</td>\n",
              "      <td>0.426136</td>\n",
              "      <td>0.063373</td>\n",
              "      <td>0.041254</td>\n",
              "      <td>8.609180</td>\n",
              "      <td>0.338547</td>\n",
              "      <td>0.349186</td>\n",
              "      <td>0.329368</td>\n",
              "      <td>0.594391</td>\n",
              "      <td>0.142124</td>\n",
              "      <td>0.132076</td>\n",
              "      <td>0.059928</td>\n",
              "      <td>-0.299666</td>\n",
              "      <td>-0.034658</td>\n",
              "      <td>0.346740</td>\n",
              "      <td>0.383279</td>\n",
              "      <td>0.299052</td>\n",
              "      <td>0.536308</td>\n",
              "      <td>0.541171</td>\n",
              "      <td>0.294728</td>\n",
              "      <td>355.210000</td>\n",
              "      <td>271.740000</td>\n",
              "      <td>801.96000</td>\n",
              "      <td>331.440000</td>\n",
              "      <td>289.580000</td>\n",
              "      <td>185.770000</td>\n",
              "      <td>899.190000</td>\n",
              "      <td>-0.058931</td>\n",
              "      <td>-0.044322</td>\n",
              "      <td>-0.102940</td>\n",
              "      <td>-0.053405</td>\n",
              "      <td>-0.060792</td>\n",
              "      <td>-0.026451</td>\n",
              "      <td>-0.020995</td>\n",
              "      <td>0.000000</td>\n",
              "      <td>121.250000</td>\n",
              "    </tr>\n",
              "    <tr>\n",
              "      <th>50%</th>\n",
              "      <td>10.868272</td>\n",
              "      <td>4.184000</td>\n",
              "      <td>0.368841</td>\n",
              "      <td>1.689902</td>\n",
              "      <td>17471.495120</td>\n",
              "      <td>22228.022460</td>\n",
              "      <td>6.432356e+04</td>\n",
              "      <td>0.001355</td>\n",
              "      <td>0.400647</td>\n",
              "      <td>0.405870</td>\n",
              "      <td>16610.300780</td>\n",
              "      <td>21656.230470</td>\n",
              "      <td>7.413105e+04</td>\n",
              "      <td>0.933401</td>\n",
              "      <td>1.000000</td>\n",
              "      <td>0.978814</td>\n",
              "      <td>0.523287</td>\n",
              "      <td>0.107553</td>\n",
              "      <td>0.046315</td>\n",
              "      <td>152.079811</td>\n",
              "      <td>0.409295</td>\n",
              "      <td>0.422608</td>\n",
              "      <td>0.408461</td>\n",
              "      <td>0.708287</td>\n",
              "      <td>0.193263</td>\n",
              "      <td>0.168642</td>\n",
              "      <td>0.136851</td>\n",
              "      <td>-0.186369</td>\n",
              "      <td>0.000000</td>\n",
              "      <td>0.416230</td>\n",
              "      <td>0.471758</td>\n",
              "      <td>0.383152</td>\n",
              "      <td>0.640564</td>\n",
              "      <td>0.607994</td>\n",
              "      <td>0.357652</td>\n",
              "      <td>485.785000</td>\n",
              "      <td>326.945000</td>\n",
              "      <td>1285.16500</td>\n",
              "      <td>562.320000</td>\n",
              "      <td>328.020000</td>\n",
              "      <td>213.095000</td>\n",
              "      <td>948.745000</td>\n",
              "      <td>0.061860</td>\n",
              "      <td>0.019950</td>\n",
              "      <td>0.054933</td>\n",
              "      <td>0.046808</td>\n",
              "      <td>0.003277</td>\n",
              "      <td>0.038444</td>\n",
              "      <td>0.006529</td>\n",
              "      <td>0.000000</td>\n",
              "      <td>242.500000</td>\n",
              "    </tr>\n",
              "    <tr>\n",
              "      <th>75%</th>\n",
              "      <td>24.220695</td>\n",
              "      <td>8.517560</td>\n",
              "      <td>0.416717</td>\n",
              "      <td>2.117452</td>\n",
              "      <td>58016.873047</td>\n",
              "      <td>69676.791020</td>\n",
              "      <td>1.886244e+05</td>\n",
              "      <td>0.003227</td>\n",
              "      <td>0.616736</td>\n",
              "      <td>0.603459</td>\n",
              "      <td>61146.049805</td>\n",
              "      <td>81660.662112</td>\n",
              "      <td>2.488039e+05</td>\n",
              "      <td>1.037367</td>\n",
              "      <td>1.038464</td>\n",
              "      <td>1.015393</td>\n",
              "      <td>0.612079</td>\n",
              "      <td>0.161361</td>\n",
              "      <td>0.052742</td>\n",
              "      <td>550.521500</td>\n",
              "      <td>0.490157</td>\n",
              "      <td>0.489201</td>\n",
              "      <td>0.487113</td>\n",
              "      <td>0.792734</td>\n",
              "      <td>0.268336</td>\n",
              "      <td>0.208797</td>\n",
              "      <td>0.221857</td>\n",
              "      <td>-0.126700</td>\n",
              "      <td>0.041204</td>\n",
              "      <td>0.495139</td>\n",
              "      <td>0.558896</td>\n",
              "      <td>0.497188</td>\n",
              "      <td>0.715812</td>\n",
              "      <td>0.645224</td>\n",
              "      <td>0.433157</td>\n",
              "      <td>611.580000</td>\n",
              "      <td>363.530000</td>\n",
              "      <td>1555.86000</td>\n",
              "      <td>642.820000</td>\n",
              "      <td>348.510000</td>\n",
              "      <td>265.400000</td>\n",
              "      <td>1095.320000</td>\n",
              "      <td>0.208732</td>\n",
              "      <td>0.105791</td>\n",
              "      <td>0.245094</td>\n",
              "      <td>0.154531</td>\n",
              "      <td>0.096810</td>\n",
              "      <td>0.112793</td>\n",
              "      <td>0.047421</td>\n",
              "      <td>0.000000</td>\n",
              "      <td>363.750000</td>\n",
              "    </tr>\n",
              "    <tr>\n",
              "      <th>max</th>\n",
              "      <td>190.886307</td>\n",
              "      <td>65.156548</td>\n",
              "      <td>0.555433</td>\n",
              "      <td>2.885300</td>\n",
              "      <td>758455.187500</td>\n",
              "      <td>896604.812500</td>\n",
              "      <td>2.886312e+06</td>\n",
              "      <td>0.041835</td>\n",
              "      <td>0.998187</td>\n",
              "      <td>1.031707</td>\n",
              "      <td>762126.937500</td>\n",
              "      <td>908560.687500</td>\n",
              "      <td>2.592378e+06</td>\n",
              "      <td>3.033909</td>\n",
              "      <td>1.956830</td>\n",
              "      <td>1.447288</td>\n",
              "      <td>0.837299</td>\n",
              "      <td>0.430071</td>\n",
              "      <td>0.093944</td>\n",
              "      <td>7384.432129</td>\n",
              "      <td>0.928638</td>\n",
              "      <td>0.866256</td>\n",
              "      <td>0.809904</td>\n",
              "      <td>0.999501</td>\n",
              "      <td>0.556026</td>\n",
              "      <td>0.406014</td>\n",
              "      <td>0.843246</td>\n",
              "      <td>-0.017928</td>\n",
              "      <td>0.634478</td>\n",
              "      <td>0.983001</td>\n",
              "      <td>1.183658</td>\n",
              "      <td>1.205253</td>\n",
              "      <td>1.143190</td>\n",
              "      <td>1.077168</td>\n",
              "      <td>6.048152</td>\n",
              "      <td>689.920000</td>\n",
              "      <td>415.180000</td>\n",
              "      <td>1985.48000</td>\n",
              "      <td>775.130000</td>\n",
              "      <td>417.580000</td>\n",
              "      <td>308.050000</td>\n",
              "      <td>1276.530000</td>\n",
              "      <td>0.264843</td>\n",
              "      <td>0.218346</td>\n",
              "      <td>0.717188</td>\n",
              "      <td>0.476204</td>\n",
              "      <td>0.300217</td>\n",
              "      <td>0.320880</td>\n",
              "      <td>0.165440</td>\n",
              "      <td>1.000000</td>\n",
              "      <td>485.000000</td>\n",
              "    </tr>\n",
              "  </tbody>\n",
              "</table>\n",
              "</div>"
            ],
            "text/plain": [
              "              pop         emp  ...  growthbucket   CountryID\n",
              "count  486.000000  486.000000  ...    486.000000  486.000000\n",
              "mean    20.185755    7.121089  ...      0.078189  242.500000\n",
              "std     30.037490    9.921471  ...      0.268746  140.440379\n",
              "min      1.061468    0.243000  ...      0.000000    0.000000\n",
              "25%      3.830730    1.048750  ...      0.000000  121.250000\n",
              "50%     10.868272    4.184000  ...      0.000000  242.500000\n",
              "75%     24.220695    8.517560  ...      0.000000  363.750000\n",
              "max    190.886307   65.156548  ...      1.000000  485.000000\n",
              "\n",
              "[8 rows x 51 columns]"
            ]
          },
          "metadata": {
            "tags": []
          },
          "execution_count": 911
        }
      ]
    },
    {
      "cell_type": "markdown",
      "metadata": {
        "id": "p9G0489pBuq8",
        "colab_type": "text"
      },
      "source": [
        "### Printing and getting info for Medical Dataset"
      ]
    },
    {
      "cell_type": "code",
      "metadata": {
        "id": "BxPf93HOqZC1",
        "colab_type": "code",
        "outputId": "af0ed4c9-7478-4371-8013-e97ffe050e7b",
        "colab": {
          "base_uri": "https://localhost:8080/",
          "height": 0
        }
      },
      "source": [
        "print(medicaldf)"
      ],
      "execution_count": 912,
      "outputs": [
        {
          "output_type": "stream",
          "text": [
            "           PatientId  AppointmentID Gender  ... Handcap SMS_received  No-show\n",
            "0       2.987250e+13        5642903      F  ...       0            0       No\n",
            "1       5.589978e+14        5642503      M  ...       0            0       No\n",
            "2       4.262962e+12        5642549      F  ...       0            0       No\n",
            "3       8.679512e+11        5642828      F  ...       0            0       No\n",
            "4       8.841186e+12        5642494      F  ...       0            0       No\n",
            "...              ...            ...    ...  ...     ...          ...      ...\n",
            "110522  2.572134e+12        5651768      F  ...       0            1       No\n",
            "110523  3.596266e+12        5650093      F  ...       0            1       No\n",
            "110524  1.557663e+13        5630692      F  ...       0            1       No\n",
            "110525  9.213493e+13        5630323      F  ...       0            1       No\n",
            "110526  3.775115e+14        5629448      F  ...       0            1       No\n",
            "\n",
            "[110527 rows x 14 columns]\n"
          ],
          "name": "stdout"
        }
      ]
    },
    {
      "cell_type": "code",
      "metadata": {
        "id": "bLlOozUvuCe-",
        "colab_type": "code",
        "outputId": "cbd3e5bf-d639-4440-bc63-b1734f6deb66",
        "colab": {
          "base_uri": "https://localhost:8080/",
          "height": 0
        }
      },
      "source": [
        "medicaldf.info()\n",
        "#checked if there is missing values from the coloumn\n",
        "#110527 entries lot of data, 14 variable coloumns (features)"
      ],
      "execution_count": 913,
      "outputs": [
        {
          "output_type": "stream",
          "text": [
            "<class 'pandas.core.frame.DataFrame'>\n",
            "RangeIndex: 110527 entries, 0 to 110526\n",
            "Data columns (total 14 columns):\n",
            "PatientId         110527 non-null float64\n",
            "AppointmentID     110527 non-null int64\n",
            "Gender            110527 non-null object\n",
            "ScheduledDay      110527 non-null object\n",
            "AppointmentDay    110527 non-null object\n",
            "Age               110527 non-null int64\n",
            "Neighbourhood     110527 non-null object\n",
            "Scholarship       110527 non-null int64\n",
            "Hipertension      110527 non-null int64\n",
            "Diabetes          110527 non-null int64\n",
            "Alcoholism        110527 non-null int64\n",
            "Handcap           110527 non-null int64\n",
            "SMS_received      110527 non-null int64\n",
            "No-show           110527 non-null object\n",
            "dtypes: float64(1), int64(8), object(5)\n",
            "memory usage: 11.8+ MB\n"
          ],
          "name": "stdout"
        }
      ]
    },
    {
      "cell_type": "code",
      "metadata": {
        "id": "EZlT6W-jEtLx",
        "colab_type": "code",
        "outputId": "9aed2d5c-188b-4d41-cee4-b87d79a5d2f8",
        "colab": {
          "base_uri": "https://localhost:8080/",
          "height": 0
        }
      },
      "source": [
        "#Double check if there is missing values\n",
        "medicaldf.isnull().any().sum()>0"
      ],
      "execution_count": 914,
      "outputs": [
        {
          "output_type": "execute_result",
          "data": {
            "text/plain": [
              "False"
            ]
          },
          "metadata": {
            "tags": []
          },
          "execution_count": 914
        }
      ]
    },
    {
      "cell_type": "markdown",
      "metadata": {
        "id": "1SEc8pkEMgeY",
        "colab_type": "text"
      },
      "source": [
        "####Cleaning up the data"
      ]
    },
    {
      "cell_type": "code",
      "metadata": {
        "id": "NOJ5f-OHMhWB",
        "colab_type": "code",
        "colab": {}
      },
      "source": [
        "medicaldf.drop(medicaldf[medicaldf['Age']<0].index,inplace=True) #dropping wrong data"
      ],
      "execution_count": 0,
      "outputs": []
    },
    {
      "cell_type": "code",
      "metadata": {
        "id": "EfuilHqTMpMo",
        "colab_type": "code",
        "colab": {
          "base_uri": "https://localhost:8080/",
          "height": 0
        },
        "outputId": "8d9e2419-7f05-41a0-e033-0caa5f7e2ab6"
      },
      "source": [
        "#deleted some rows on the handicap section as the perso nwho set it said its only true or false so the values that are gonna be kept is 0 or 1 however, the dataset has it from 0 to 4. in this case i dropped them.\n",
        "medicaldf.Handcap.value_counts()"
      ],
      "execution_count": 916,
      "outputs": [
        {
          "output_type": "execute_result",
          "data": {
            "text/plain": [
              "0    108285\n",
              "1      2042\n",
              "2       183\n",
              "3        13\n",
              "4         3\n",
              "Name: Handcap, dtype: int64"
            ]
          },
          "metadata": {
            "tags": []
          },
          "execution_count": 916
        }
      ]
    },
    {
      "cell_type": "code",
      "metadata": {
        "id": "B5011JuyNdzb",
        "colab_type": "code",
        "colab": {}
      },
      "source": [
        "medicaldf.drop(medicaldf[medicaldf.Handcap > 1].index, inplace=True)"
      ],
      "execution_count": 0,
      "outputs": []
    },
    {
      "cell_type": "code",
      "metadata": {
        "id": "htTfxK6AJb_3",
        "colab_type": "code",
        "colab": {}
      },
      "source": [
        "medicaldf[[\"Gender\"]]=medicaldf[[\"Gender\"]].apply(LabelEncoder().fit_transform) # 0 is female 1 is male\n",
        "#dropped these as they were type str and was not necessary\n"
      ],
      "execution_count": 0,
      "outputs": []
    },
    {
      "cell_type": "code",
      "metadata": {
        "id": "f_LOcrzkecIe",
        "colab_type": "code",
        "colab": {
          "base_uri": "https://localhost:8080/",
          "height": 0
        },
        "outputId": "9d815fd8-ec2c-4aa2-d346-b901575917aa"
      },
      "source": [
        "medicaldf.info()"
      ],
      "execution_count": 919,
      "outputs": [
        {
          "output_type": "stream",
          "text": [
            "<class 'pandas.core.frame.DataFrame'>\n",
            "Int64Index: 110327 entries, 0 to 110526\n",
            "Data columns (total 14 columns):\n",
            "PatientId         110327 non-null float64\n",
            "AppointmentID     110327 non-null int64\n",
            "Gender            110327 non-null int64\n",
            "ScheduledDay      110327 non-null object\n",
            "AppointmentDay    110327 non-null object\n",
            "Age               110327 non-null int64\n",
            "Neighbourhood     110327 non-null object\n",
            "Scholarship       110327 non-null int64\n",
            "Hipertension      110327 non-null int64\n",
            "Diabetes          110327 non-null int64\n",
            "Alcoholism        110327 non-null int64\n",
            "Handcap           110327 non-null int64\n",
            "SMS_received      110327 non-null int64\n",
            "No-show           110327 non-null object\n",
            "dtypes: float64(1), int64(9), object(4)\n",
            "memory usage: 12.6+ MB\n"
          ],
          "name": "stdout"
        }
      ]
    },
    {
      "cell_type": "code",
      "metadata": {
        "id": "pyU1ZIzfeWqd",
        "colab_type": "code",
        "colab": {
          "base_uri": "https://localhost:8080/",
          "height": 0
        },
        "outputId": "64828424-5742-47d7-e51a-e5138a65b79c"
      },
      "source": [
        "medicaldf.drop(columns=['ScheduledDay','AppointmentDay'])\n",
        "\n"
      ],
      "execution_count": 920,
      "outputs": [
        {
          "output_type": "execute_result",
          "data": {
            "text/html": [
              "<div>\n",
              "<style scoped>\n",
              "    .dataframe tbody tr th:only-of-type {\n",
              "        vertical-align: middle;\n",
              "    }\n",
              "\n",
              "    .dataframe tbody tr th {\n",
              "        vertical-align: top;\n",
              "    }\n",
              "\n",
              "    .dataframe thead th {\n",
              "        text-align: right;\n",
              "    }\n",
              "</style>\n",
              "<table border=\"1\" class=\"dataframe\">\n",
              "  <thead>\n",
              "    <tr style=\"text-align: right;\">\n",
              "      <th></th>\n",
              "      <th>PatientId</th>\n",
              "      <th>AppointmentID</th>\n",
              "      <th>Gender</th>\n",
              "      <th>Age</th>\n",
              "      <th>Neighbourhood</th>\n",
              "      <th>Scholarship</th>\n",
              "      <th>Hipertension</th>\n",
              "      <th>Diabetes</th>\n",
              "      <th>Alcoholism</th>\n",
              "      <th>Handcap</th>\n",
              "      <th>SMS_received</th>\n",
              "      <th>No-show</th>\n",
              "    </tr>\n",
              "  </thead>\n",
              "  <tbody>\n",
              "    <tr>\n",
              "      <th>0</th>\n",
              "      <td>2.987250e+13</td>\n",
              "      <td>5642903</td>\n",
              "      <td>0</td>\n",
              "      <td>62</td>\n",
              "      <td>JARDIM DA PENHA</td>\n",
              "      <td>0</td>\n",
              "      <td>1</td>\n",
              "      <td>0</td>\n",
              "      <td>0</td>\n",
              "      <td>0</td>\n",
              "      <td>0</td>\n",
              "      <td>No</td>\n",
              "    </tr>\n",
              "    <tr>\n",
              "      <th>1</th>\n",
              "      <td>5.589978e+14</td>\n",
              "      <td>5642503</td>\n",
              "      <td>1</td>\n",
              "      <td>56</td>\n",
              "      <td>JARDIM DA PENHA</td>\n",
              "      <td>0</td>\n",
              "      <td>0</td>\n",
              "      <td>0</td>\n",
              "      <td>0</td>\n",
              "      <td>0</td>\n",
              "      <td>0</td>\n",
              "      <td>No</td>\n",
              "    </tr>\n",
              "    <tr>\n",
              "      <th>2</th>\n",
              "      <td>4.262962e+12</td>\n",
              "      <td>5642549</td>\n",
              "      <td>0</td>\n",
              "      <td>62</td>\n",
              "      <td>MATA DA PRAIA</td>\n",
              "      <td>0</td>\n",
              "      <td>0</td>\n",
              "      <td>0</td>\n",
              "      <td>0</td>\n",
              "      <td>0</td>\n",
              "      <td>0</td>\n",
              "      <td>No</td>\n",
              "    </tr>\n",
              "    <tr>\n",
              "      <th>3</th>\n",
              "      <td>8.679512e+11</td>\n",
              "      <td>5642828</td>\n",
              "      <td>0</td>\n",
              "      <td>8</td>\n",
              "      <td>PONTAL DE CAMBURI</td>\n",
              "      <td>0</td>\n",
              "      <td>0</td>\n",
              "      <td>0</td>\n",
              "      <td>0</td>\n",
              "      <td>0</td>\n",
              "      <td>0</td>\n",
              "      <td>No</td>\n",
              "    </tr>\n",
              "    <tr>\n",
              "      <th>4</th>\n",
              "      <td>8.841186e+12</td>\n",
              "      <td>5642494</td>\n",
              "      <td>0</td>\n",
              "      <td>56</td>\n",
              "      <td>JARDIM DA PENHA</td>\n",
              "      <td>0</td>\n",
              "      <td>1</td>\n",
              "      <td>1</td>\n",
              "      <td>0</td>\n",
              "      <td>0</td>\n",
              "      <td>0</td>\n",
              "      <td>No</td>\n",
              "    </tr>\n",
              "    <tr>\n",
              "      <th>...</th>\n",
              "      <td>...</td>\n",
              "      <td>...</td>\n",
              "      <td>...</td>\n",
              "      <td>...</td>\n",
              "      <td>...</td>\n",
              "      <td>...</td>\n",
              "      <td>...</td>\n",
              "      <td>...</td>\n",
              "      <td>...</td>\n",
              "      <td>...</td>\n",
              "      <td>...</td>\n",
              "      <td>...</td>\n",
              "    </tr>\n",
              "    <tr>\n",
              "      <th>110522</th>\n",
              "      <td>2.572134e+12</td>\n",
              "      <td>5651768</td>\n",
              "      <td>0</td>\n",
              "      <td>56</td>\n",
              "      <td>MARIA ORTIZ</td>\n",
              "      <td>0</td>\n",
              "      <td>0</td>\n",
              "      <td>0</td>\n",
              "      <td>0</td>\n",
              "      <td>0</td>\n",
              "      <td>1</td>\n",
              "      <td>No</td>\n",
              "    </tr>\n",
              "    <tr>\n",
              "      <th>110523</th>\n",
              "      <td>3.596266e+12</td>\n",
              "      <td>5650093</td>\n",
              "      <td>0</td>\n",
              "      <td>51</td>\n",
              "      <td>MARIA ORTIZ</td>\n",
              "      <td>0</td>\n",
              "      <td>0</td>\n",
              "      <td>0</td>\n",
              "      <td>0</td>\n",
              "      <td>0</td>\n",
              "      <td>1</td>\n",
              "      <td>No</td>\n",
              "    </tr>\n",
              "    <tr>\n",
              "      <th>110524</th>\n",
              "      <td>1.557663e+13</td>\n",
              "      <td>5630692</td>\n",
              "      <td>0</td>\n",
              "      <td>21</td>\n",
              "      <td>MARIA ORTIZ</td>\n",
              "      <td>0</td>\n",
              "      <td>0</td>\n",
              "      <td>0</td>\n",
              "      <td>0</td>\n",
              "      <td>0</td>\n",
              "      <td>1</td>\n",
              "      <td>No</td>\n",
              "    </tr>\n",
              "    <tr>\n",
              "      <th>110525</th>\n",
              "      <td>9.213493e+13</td>\n",
              "      <td>5630323</td>\n",
              "      <td>0</td>\n",
              "      <td>38</td>\n",
              "      <td>MARIA ORTIZ</td>\n",
              "      <td>0</td>\n",
              "      <td>0</td>\n",
              "      <td>0</td>\n",
              "      <td>0</td>\n",
              "      <td>0</td>\n",
              "      <td>1</td>\n",
              "      <td>No</td>\n",
              "    </tr>\n",
              "    <tr>\n",
              "      <th>110526</th>\n",
              "      <td>3.775115e+14</td>\n",
              "      <td>5629448</td>\n",
              "      <td>0</td>\n",
              "      <td>54</td>\n",
              "      <td>MARIA ORTIZ</td>\n",
              "      <td>0</td>\n",
              "      <td>0</td>\n",
              "      <td>0</td>\n",
              "      <td>0</td>\n",
              "      <td>0</td>\n",
              "      <td>1</td>\n",
              "      <td>No</td>\n",
              "    </tr>\n",
              "  </tbody>\n",
              "</table>\n",
              "<p>110327 rows × 12 columns</p>\n",
              "</div>"
            ],
            "text/plain": [
              "           PatientId  AppointmentID  Gender  ...  Handcap SMS_received  No-show\n",
              "0       2.987250e+13        5642903       0  ...        0            0       No\n",
              "1       5.589978e+14        5642503       1  ...        0            0       No\n",
              "2       4.262962e+12        5642549       0  ...        0            0       No\n",
              "3       8.679512e+11        5642828       0  ...        0            0       No\n",
              "4       8.841186e+12        5642494       0  ...        0            0       No\n",
              "...              ...            ...     ...  ...      ...          ...      ...\n",
              "110522  2.572134e+12        5651768       0  ...        0            1       No\n",
              "110523  3.596266e+12        5650093       0  ...        0            1       No\n",
              "110524  1.557663e+13        5630692       0  ...        0            1       No\n",
              "110525  9.213493e+13        5630323       0  ...        0            1       No\n",
              "110526  3.775115e+14        5629448       0  ...        0            1       No\n",
              "\n",
              "[110327 rows x 12 columns]"
            ]
          },
          "metadata": {
            "tags": []
          },
          "execution_count": 920
        }
      ]
    },
    {
      "cell_type": "code",
      "metadata": {
        "id": "3BWDDewnP5eF",
        "colab_type": "code",
        "colab": {
          "base_uri": "https://localhost:8080/",
          "height": 0
        },
        "outputId": "1075be96-a1b9-4a8f-bbda-b52ae4395dcf"
      },
      "source": [
        "medicaldf.describe() ## shows eerything is cleaned up"
      ],
      "execution_count": 921,
      "outputs": [
        {
          "output_type": "execute_result",
          "data": {
            "text/html": [
              "<div>\n",
              "<style scoped>\n",
              "    .dataframe tbody tr th:only-of-type {\n",
              "        vertical-align: middle;\n",
              "    }\n",
              "\n",
              "    .dataframe tbody tr th {\n",
              "        vertical-align: top;\n",
              "    }\n",
              "\n",
              "    .dataframe thead th {\n",
              "        text-align: right;\n",
              "    }\n",
              "</style>\n",
              "<table border=\"1\" class=\"dataframe\">\n",
              "  <thead>\n",
              "    <tr style=\"text-align: right;\">\n",
              "      <th></th>\n",
              "      <th>PatientId</th>\n",
              "      <th>AppointmentID</th>\n",
              "      <th>Gender</th>\n",
              "      <th>Age</th>\n",
              "      <th>Scholarship</th>\n",
              "      <th>Hipertension</th>\n",
              "      <th>Diabetes</th>\n",
              "      <th>Alcoholism</th>\n",
              "      <th>Handcap</th>\n",
              "      <th>SMS_received</th>\n",
              "    </tr>\n",
              "  </thead>\n",
              "  <tbody>\n",
              "    <tr>\n",
              "      <th>count</th>\n",
              "      <td>1.103270e+05</td>\n",
              "      <td>1.103270e+05</td>\n",
              "      <td>110327.000000</td>\n",
              "      <td>110327.000000</td>\n",
              "      <td>110327.000000</td>\n",
              "      <td>110327.000000</td>\n",
              "      <td>110327.000000</td>\n",
              "      <td>110327.000000</td>\n",
              "      <td>110327.000000</td>\n",
              "      <td>110327.000000</td>\n",
              "    </tr>\n",
              "    <tr>\n",
              "      <th>mean</th>\n",
              "      <td>1.475245e+14</td>\n",
              "      <td>5.675298e+06</td>\n",
              "      <td>0.349842</td>\n",
              "      <td>37.070753</td>\n",
              "      <td>0.098281</td>\n",
              "      <td>0.196833</td>\n",
              "      <td>0.071605</td>\n",
              "      <td>0.030382</td>\n",
              "      <td>0.018509</td>\n",
              "      <td>0.321182</td>\n",
              "    </tr>\n",
              "    <tr>\n",
              "      <th>std</th>\n",
              "      <td>2.561388e+14</td>\n",
              "      <td>7.129883e+04</td>\n",
              "      <td>0.476922</td>\n",
              "      <td>23.098052</td>\n",
              "      <td>0.297695</td>\n",
              "      <td>0.397607</td>\n",
              "      <td>0.257834</td>\n",
              "      <td>0.171638</td>\n",
              "      <td>0.134782</td>\n",
              "      <td>0.466932</td>\n",
              "    </tr>\n",
              "    <tr>\n",
              "      <th>min</th>\n",
              "      <td>3.921784e+04</td>\n",
              "      <td>5.030230e+06</td>\n",
              "      <td>0.000000</td>\n",
              "      <td>0.000000</td>\n",
              "      <td>0.000000</td>\n",
              "      <td>0.000000</td>\n",
              "      <td>0.000000</td>\n",
              "      <td>0.000000</td>\n",
              "      <td>0.000000</td>\n",
              "      <td>0.000000</td>\n",
              "    </tr>\n",
              "    <tr>\n",
              "      <th>25%</th>\n",
              "      <td>4.174584e+12</td>\n",
              "      <td>5.640278e+06</td>\n",
              "      <td>0.000000</td>\n",
              "      <td>18.000000</td>\n",
              "      <td>0.000000</td>\n",
              "      <td>0.000000</td>\n",
              "      <td>0.000000</td>\n",
              "      <td>0.000000</td>\n",
              "      <td>0.000000</td>\n",
              "      <td>0.000000</td>\n",
              "    </tr>\n",
              "    <tr>\n",
              "      <th>50%</th>\n",
              "      <td>3.175389e+13</td>\n",
              "      <td>5.680567e+06</td>\n",
              "      <td>0.000000</td>\n",
              "      <td>37.000000</td>\n",
              "      <td>0.000000</td>\n",
              "      <td>0.000000</td>\n",
              "      <td>0.000000</td>\n",
              "      <td>0.000000</td>\n",
              "      <td>0.000000</td>\n",
              "      <td>0.000000</td>\n",
              "    </tr>\n",
              "    <tr>\n",
              "      <th>75%</th>\n",
              "      <td>9.439381e+13</td>\n",
              "      <td>5.725508e+06</td>\n",
              "      <td>1.000000</td>\n",
              "      <td>55.000000</td>\n",
              "      <td>0.000000</td>\n",
              "      <td>0.000000</td>\n",
              "      <td>0.000000</td>\n",
              "      <td>0.000000</td>\n",
              "      <td>0.000000</td>\n",
              "      <td>1.000000</td>\n",
              "    </tr>\n",
              "    <tr>\n",
              "      <th>max</th>\n",
              "      <td>9.999816e+14</td>\n",
              "      <td>5.790484e+06</td>\n",
              "      <td>1.000000</td>\n",
              "      <td>115.000000</td>\n",
              "      <td>1.000000</td>\n",
              "      <td>1.000000</td>\n",
              "      <td>1.000000</td>\n",
              "      <td>1.000000</td>\n",
              "      <td>1.000000</td>\n",
              "      <td>1.000000</td>\n",
              "    </tr>\n",
              "  </tbody>\n",
              "</table>\n",
              "</div>"
            ],
            "text/plain": [
              "          PatientId  AppointmentID  ...        Handcap   SMS_received\n",
              "count  1.103270e+05   1.103270e+05  ...  110327.000000  110327.000000\n",
              "mean   1.475245e+14   5.675298e+06  ...       0.018509       0.321182\n",
              "std    2.561388e+14   7.129883e+04  ...       0.134782       0.466932\n",
              "min    3.921784e+04   5.030230e+06  ...       0.000000       0.000000\n",
              "25%    4.174584e+12   5.640278e+06  ...       0.000000       0.000000\n",
              "50%    3.175389e+13   5.680567e+06  ...       0.000000       0.000000\n",
              "75%    9.439381e+13   5.725508e+06  ...       0.000000       1.000000\n",
              "max    9.999816e+14   5.790484e+06  ...       1.000000       1.000000\n",
              "\n",
              "[8 rows x 10 columns]"
            ]
          },
          "metadata": {
            "tags": []
          },
          "execution_count": 921
        }
      ]
    },
    {
      "cell_type": "markdown",
      "metadata": {
        "id": "2LXH2eiiCFOT",
        "colab_type": "text"
      },
      "source": [
        "#### Changing the Target Class to Binary Representation"
      ]
    },
    {
      "cell_type": "code",
      "metadata": {
        "id": "teZULNWPx1Di",
        "colab_type": "code",
        "outputId": "238d8ab4-539e-4571-b00e-95b5f4dd6789",
        "colab": {
          "base_uri": "https://localhost:8080/",
          "height": 0
        }
      },
      "source": [
        "medicaldf['No-show'].value_counts()"
      ],
      "execution_count": 922,
      "outputs": [
        {
          "output_type": "execute_result",
          "data": {
            "text/plain": [
              "No     88049\n",
              "Yes    22278\n",
              "Name: No-show, dtype: int64"
            ]
          },
          "metadata": {
            "tags": []
          },
          "execution_count": 922
        }
      ]
    },
    {
      "cell_type": "code",
      "metadata": {
        "id": "husYA1U32w8j",
        "colab_type": "code",
        "outputId": "c6b14887-513d-4eb7-b9f5-f4577c9188f0",
        "colab": {
          "base_uri": "https://localhost:8080/",
          "height": 0
        }
      },
      "source": [
        "# binary classification 1 is No Show and 0 is Show\n",
        "medicaldf['No-show']=[1 if b== 'Yes' else 0 for b in medicaldf['No-show']]\n",
        "medicaldf['No-show'].value_counts()"
      ],
      "execution_count": 923,
      "outputs": [
        {
          "output_type": "execute_result",
          "data": {
            "text/plain": [
              "0    88049\n",
              "1    22278\n",
              "Name: No-show, dtype: int64"
            ]
          },
          "metadata": {
            "tags": []
          },
          "execution_count": 923
        }
      ]
    },
    {
      "cell_type": "code",
      "metadata": {
        "id": "jR58SEDE5P4L",
        "colab_type": "code",
        "outputId": "685c9a9d-2ab3-4dc8-addc-ce66df9e0057",
        "colab": {
          "base_uri": "https://localhost:8080/",
          "height": 0
        }
      },
      "source": [
        "print(medicaldf)"
      ],
      "execution_count": 924,
      "outputs": [
        {
          "output_type": "stream",
          "text": [
            "           PatientId  AppointmentID  Gender  ... Handcap SMS_received  No-show\n",
            "0       2.987250e+13        5642903       0  ...       0            0        0\n",
            "1       5.589978e+14        5642503       1  ...       0            0        0\n",
            "2       4.262962e+12        5642549       0  ...       0            0        0\n",
            "3       8.679512e+11        5642828       0  ...       0            0        0\n",
            "4       8.841186e+12        5642494       0  ...       0            0        0\n",
            "...              ...            ...     ...  ...     ...          ...      ...\n",
            "110522  2.572134e+12        5651768       0  ...       0            1        0\n",
            "110523  3.596266e+12        5650093       0  ...       0            1        0\n",
            "110524  1.557663e+13        5630692       0  ...       0            1        0\n",
            "110525  9.213493e+13        5630323       0  ...       0            1        0\n",
            "110526  3.775115e+14        5629448       0  ...       0            1        0\n",
            "\n",
            "[110327 rows x 14 columns]\n"
          ],
          "name": "stdout"
        }
      ]
    },
    {
      "cell_type": "markdown",
      "metadata": {
        "id": "93scMCrbCXjk",
        "colab_type": "text"
      },
      "source": [
        "### Printing and getting info for Contraceptive Dataset"
      ]
    },
    {
      "cell_type": "code",
      "metadata": {
        "id": "57cU2fMGrbQy",
        "colab_type": "code",
        "outputId": "146d47cb-d3d9-4c54-bfe5-d827c6d4df47",
        "colab": {
          "base_uri": "https://localhost:8080/",
          "height": 255
        }
      },
      "source": [
        "print(conceptdf)"
      ],
      "execution_count": 925,
      "outputs": [
        {
          "output_type": "stream",
          "text": [
            "      Wife Age  Wife Education  ...  Media Exposure  Contraceptive Method\n",
            "0           24               2  ...               0                     1\n",
            "1           45               1  ...               0                     1\n",
            "2           43               2  ...               0                     1\n",
            "3           42               3  ...               0                     1\n",
            "4           36               3  ...               0                     1\n",
            "...        ...             ...  ...             ...                   ...\n",
            "1468        33               4  ...               0                     3\n",
            "1469        33               4  ...               0                     3\n",
            "1470        39               3  ...               0                     3\n",
            "1471        33               3  ...               0                     3\n",
            "1472        17               3  ...               0                     3\n",
            "\n",
            "[1473 rows x 10 columns]\n"
          ],
          "name": "stdout"
        }
      ]
    },
    {
      "cell_type": "code",
      "metadata": {
        "id": "hcU0ql86uO6_",
        "colab_type": "code",
        "outputId": "44fee54f-8504-4b5a-e030-953ca8efe6dc",
        "colab": {
          "base_uri": "https://localhost:8080/",
          "height": 272
        }
      },
      "source": [
        "conceptdf.info()\n",
        "#checked if there is missing values from the coloumn\n",
        "#1473 entries lot of data, 10 variable coloumns (features)"
      ],
      "execution_count": 926,
      "outputs": [
        {
          "output_type": "stream",
          "text": [
            "<class 'pandas.core.frame.DataFrame'>\n",
            "RangeIndex: 1473 entries, 0 to 1472\n",
            "Data columns (total 10 columns):\n",
            "Wife Age                1473 non-null int64\n",
            "Wife Education          1473 non-null int64\n",
            "Husband Education       1473 non-null int64\n",
            "Number of Children      1473 non-null int64\n",
            "Wife religion           1473 non-null int64\n",
            "Wife working            1473 non-null int64\n",
            "Husband Occupation      1473 non-null int64\n",
            "SOLI                    1473 non-null int64\n",
            "Media Exposure          1473 non-null int64\n",
            "Contraceptive Method    1473 non-null int64\n",
            "dtypes: int64(10)\n",
            "memory usage: 115.2 KB\n"
          ],
          "name": "stdout"
        }
      ]
    },
    {
      "cell_type": "code",
      "metadata": {
        "id": "wDh3ljCzE5vo",
        "colab_type": "code",
        "outputId": "bf0310e9-2b8c-4ea5-e14e-7259219b9559",
        "colab": {
          "base_uri": "https://localhost:8080/",
          "height": 34
        }
      },
      "source": [
        "#Double check if there is missing values\n",
        "conceptdf.isnull().any().sum()>0"
      ],
      "execution_count": 927,
      "outputs": [
        {
          "output_type": "execute_result",
          "data": {
            "text/plain": [
              "False"
            ]
          },
          "metadata": {
            "tags": []
          },
          "execution_count": 927
        }
      ]
    },
    {
      "cell_type": "code",
      "metadata": {
        "id": "NsgQAhdgQeya",
        "colab_type": "code",
        "colab": {
          "base_uri": "https://localhost:8080/",
          "height": 334
        },
        "outputId": "d14508c8-1b14-4575-d376-c96121ca06fc"
      },
      "source": [
        "conceptdf.describe() ## everything seems good as described by the creator of the dataset"
      ],
      "execution_count": 928,
      "outputs": [
        {
          "output_type": "execute_result",
          "data": {
            "text/html": [
              "<div>\n",
              "<style scoped>\n",
              "    .dataframe tbody tr th:only-of-type {\n",
              "        vertical-align: middle;\n",
              "    }\n",
              "\n",
              "    .dataframe tbody tr th {\n",
              "        vertical-align: top;\n",
              "    }\n",
              "\n",
              "    .dataframe thead th {\n",
              "        text-align: right;\n",
              "    }\n",
              "</style>\n",
              "<table border=\"1\" class=\"dataframe\">\n",
              "  <thead>\n",
              "    <tr style=\"text-align: right;\">\n",
              "      <th></th>\n",
              "      <th>Wife Age</th>\n",
              "      <th>Wife Education</th>\n",
              "      <th>Husband Education</th>\n",
              "      <th>Number of Children</th>\n",
              "      <th>Wife religion</th>\n",
              "      <th>Wife working</th>\n",
              "      <th>Husband Occupation</th>\n",
              "      <th>SOLI</th>\n",
              "      <th>Media Exposure</th>\n",
              "      <th>Contraceptive Method</th>\n",
              "    </tr>\n",
              "  </thead>\n",
              "  <tbody>\n",
              "    <tr>\n",
              "      <th>count</th>\n",
              "      <td>1473.000000</td>\n",
              "      <td>1473.000000</td>\n",
              "      <td>1473.000000</td>\n",
              "      <td>1473.000000</td>\n",
              "      <td>1473.000000</td>\n",
              "      <td>1473.000000</td>\n",
              "      <td>1473.000000</td>\n",
              "      <td>1473.000000</td>\n",
              "      <td>1473.000000</td>\n",
              "      <td>1473.000000</td>\n",
              "    </tr>\n",
              "    <tr>\n",
              "      <th>mean</th>\n",
              "      <td>32.538357</td>\n",
              "      <td>2.958588</td>\n",
              "      <td>3.429735</td>\n",
              "      <td>3.261371</td>\n",
              "      <td>0.850645</td>\n",
              "      <td>0.749491</td>\n",
              "      <td>2.137814</td>\n",
              "      <td>3.133741</td>\n",
              "      <td>0.073999</td>\n",
              "      <td>1.919891</td>\n",
              "    </tr>\n",
              "    <tr>\n",
              "      <th>std</th>\n",
              "      <td>8.227245</td>\n",
              "      <td>1.014994</td>\n",
              "      <td>0.816349</td>\n",
              "      <td>2.358549</td>\n",
              "      <td>0.356559</td>\n",
              "      <td>0.433453</td>\n",
              "      <td>0.864857</td>\n",
              "      <td>0.976161</td>\n",
              "      <td>0.261858</td>\n",
              "      <td>0.876376</td>\n",
              "    </tr>\n",
              "    <tr>\n",
              "      <th>min</th>\n",
              "      <td>16.000000</td>\n",
              "      <td>1.000000</td>\n",
              "      <td>1.000000</td>\n",
              "      <td>0.000000</td>\n",
              "      <td>0.000000</td>\n",
              "      <td>0.000000</td>\n",
              "      <td>1.000000</td>\n",
              "      <td>1.000000</td>\n",
              "      <td>0.000000</td>\n",
              "      <td>1.000000</td>\n",
              "    </tr>\n",
              "    <tr>\n",
              "      <th>25%</th>\n",
              "      <td>26.000000</td>\n",
              "      <td>2.000000</td>\n",
              "      <td>3.000000</td>\n",
              "      <td>1.000000</td>\n",
              "      <td>1.000000</td>\n",
              "      <td>0.000000</td>\n",
              "      <td>1.000000</td>\n",
              "      <td>3.000000</td>\n",
              "      <td>0.000000</td>\n",
              "      <td>1.000000</td>\n",
              "    </tr>\n",
              "    <tr>\n",
              "      <th>50%</th>\n",
              "      <td>32.000000</td>\n",
              "      <td>3.000000</td>\n",
              "      <td>4.000000</td>\n",
              "      <td>3.000000</td>\n",
              "      <td>1.000000</td>\n",
              "      <td>1.000000</td>\n",
              "      <td>2.000000</td>\n",
              "      <td>3.000000</td>\n",
              "      <td>0.000000</td>\n",
              "      <td>2.000000</td>\n",
              "    </tr>\n",
              "    <tr>\n",
              "      <th>75%</th>\n",
              "      <td>39.000000</td>\n",
              "      <td>4.000000</td>\n",
              "      <td>4.000000</td>\n",
              "      <td>4.000000</td>\n",
              "      <td>1.000000</td>\n",
              "      <td>1.000000</td>\n",
              "      <td>3.000000</td>\n",
              "      <td>4.000000</td>\n",
              "      <td>0.000000</td>\n",
              "      <td>3.000000</td>\n",
              "    </tr>\n",
              "    <tr>\n",
              "      <th>max</th>\n",
              "      <td>49.000000</td>\n",
              "      <td>4.000000</td>\n",
              "      <td>4.000000</td>\n",
              "      <td>16.000000</td>\n",
              "      <td>1.000000</td>\n",
              "      <td>1.000000</td>\n",
              "      <td>4.000000</td>\n",
              "      <td>4.000000</td>\n",
              "      <td>1.000000</td>\n",
              "      <td>3.000000</td>\n",
              "    </tr>\n",
              "  </tbody>\n",
              "</table>\n",
              "</div>"
            ],
            "text/plain": [
              "          Wife Age  Wife Education  ...  Media Exposure  Contraceptive Method\n",
              "count  1473.000000     1473.000000  ...     1473.000000           1473.000000\n",
              "mean     32.538357        2.958588  ...        0.073999              1.919891\n",
              "std       8.227245        1.014994  ...        0.261858              0.876376\n",
              "min      16.000000        1.000000  ...        0.000000              1.000000\n",
              "25%      26.000000        2.000000  ...        0.000000              1.000000\n",
              "50%      32.000000        3.000000  ...        0.000000              2.000000\n",
              "75%      39.000000        4.000000  ...        0.000000              3.000000\n",
              "max      49.000000        4.000000  ...        1.000000              3.000000\n",
              "\n",
              "[8 rows x 10 columns]"
            ]
          },
          "metadata": {
            "tags": []
          },
          "execution_count": 928
        }
      ]
    },
    {
      "cell_type": "markdown",
      "metadata": {
        "id": "jnmH5U7JQ7-h",
        "colab_type": "text"
      },
      "source": [
        "####Adding ID for each wife\n",
        "\n"
      ]
    },
    {
      "cell_type": "code",
      "metadata": {
        "id": "KvyuQhIiQ7Y6",
        "colab_type": "code",
        "outputId": "c404a6f7-96e3-4fcc-ec17-f0b33bc96f12",
        "colab": {
          "base_uri": "https://localhost:8080/",
          "height": 255
        }
      },
      "source": [
        "ID=np.array(range(len(conceptdf)))\n",
        "\n",
        "conceptdf['ID']=ID\n",
        "\n",
        "print(conceptdf)"
      ],
      "execution_count": 929,
      "outputs": [
        {
          "output_type": "stream",
          "text": [
            "      Wife Age  Wife Education  ...  Contraceptive Method    ID\n",
            "0           24               2  ...                     1     0\n",
            "1           45               1  ...                     1     1\n",
            "2           43               2  ...                     1     2\n",
            "3           42               3  ...                     1     3\n",
            "4           36               3  ...                     1     4\n",
            "...        ...             ...  ...                   ...   ...\n",
            "1468        33               4  ...                     3  1468\n",
            "1469        33               4  ...                     3  1469\n",
            "1470        39               3  ...                     3  1470\n",
            "1471        33               3  ...                     3  1471\n",
            "1472        17               3  ...                     3  1472\n",
            "\n",
            "[1473 rows x 11 columns]\n"
          ],
          "name": "stdout"
        }
      ]
    },
    {
      "cell_type": "markdown",
      "metadata": {
        "id": "fp8b_jL6CgFr",
        "colab_type": "text"
      },
      "source": [
        "#### Changing the Target Class to Binary Representation"
      ]
    },
    {
      "cell_type": "code",
      "metadata": {
        "id": "tBoamjiFyH-a",
        "colab_type": "code",
        "outputId": "6e3ed53c-2079-4469-b89f-085fd9348963",
        "colab": {
          "base_uri": "https://localhost:8080/",
          "height": 85
        }
      },
      "source": [
        "conceptdf['Contraceptive Method'].value_counts()"
      ],
      "execution_count": 930,
      "outputs": [
        {
          "output_type": "execute_result",
          "data": {
            "text/plain": [
              "1    629\n",
              "3    511\n",
              "2    333\n",
              "Name: Contraceptive Method, dtype: int64"
            ]
          },
          "metadata": {
            "tags": []
          },
          "execution_count": 930
        }
      ]
    },
    {
      "cell_type": "code",
      "metadata": {
        "id": "OKw_GHUNyaGR",
        "colab_type": "code",
        "outputId": "acbe1be8-0b01-4ec7-a20e-db4d74c9538f",
        "colab": {
          "base_uri": "https://localhost:8080/",
          "height": 68
        }
      },
      "source": [
        "# binary classification 0 is not used and 1 is used contraceptive\n",
        "conceptdf['Contraceptive Method']=[0 if b== 1 else 1 for b in conceptdf['Contraceptive Method']]\n",
        "conceptdf['Contraceptive Method'].value_counts()\n"
      ],
      "execution_count": 931,
      "outputs": [
        {
          "output_type": "execute_result",
          "data": {
            "text/plain": [
              "1    844\n",
              "0    629\n",
              "Name: Contraceptive Method, dtype: int64"
            ]
          },
          "metadata": {
            "tags": []
          },
          "execution_count": 931
        }
      ]
    },
    {
      "cell_type": "code",
      "metadata": {
        "id": "USeAfBkj0aFj",
        "colab_type": "code",
        "outputId": "832b3442-d78c-4ba9-a6e6-d9119174fc62",
        "colab": {
          "base_uri": "https://localhost:8080/",
          "height": 255
        }
      },
      "source": [
        "print(conceptdf)"
      ],
      "execution_count": 932,
      "outputs": [
        {
          "output_type": "stream",
          "text": [
            "      Wife Age  Wife Education  ...  Contraceptive Method    ID\n",
            "0           24               2  ...                     0     0\n",
            "1           45               1  ...                     0     1\n",
            "2           43               2  ...                     0     2\n",
            "3           42               3  ...                     0     3\n",
            "4           36               3  ...                     0     4\n",
            "...        ...             ...  ...                   ...   ...\n",
            "1468        33               4  ...                     1  1468\n",
            "1469        33               4  ...                     1  1469\n",
            "1470        39               3  ...                     1  1470\n",
            "1471        33               3  ...                     1  1471\n",
            "1472        17               3  ...                     1  1472\n",
            "\n",
            "[1473 rows x 11 columns]\n"
          ],
          "name": "stdout"
        }
      ]
    },
    {
      "cell_type": "markdown",
      "metadata": {
        "id": "girYkRa_vca4",
        "colab_type": "text"
      },
      "source": [
        "##Checking the imbalance"
      ]
    },
    {
      "cell_type": "markdown",
      "metadata": {
        "id": "ut-Xkr1pvovA",
        "colab_type": "text"
      },
      "source": [
        "###Bar Graph for distribution"
      ]
    },
    {
      "cell_type": "markdown",
      "metadata": {
        "id": "RxzpAlZWDE7U",
        "colab_type": "text"
      },
      "source": [
        "The distributions shows how skewed these features are. "
      ]
    },
    {
      "cell_type": "markdown",
      "metadata": {
        "id": "xS1dV3qdNcBB",
        "colab_type": "text"
      },
      "source": [
        "#####Africa Dataset"
      ]
    },
    {
      "cell_type": "code",
      "metadata": {
        "id": "VJh3RcfUvC4Z",
        "colab_type": "code",
        "outputId": "3b7b9cfe-f750-4d08-cd1b-dcbb0582399d",
        "colab": {
          "base_uri": "https://localhost:8080/",
          "height": 0
        }
      },
      "source": [
        "plt.title('GrowthBucket Distribution \\n (0: No_Recession || 1: Recession)', fontsize=14)\n",
        "sns.countplot(\"growthbucket\",data=africadf)"
      ],
      "execution_count": 933,
      "outputs": [
        {
          "output_type": "execute_result",
          "data": {
            "text/plain": [
              "<matplotlib.axes._subplots.AxesSubplot at 0x7f1ad134e0f0>"
            ]
          },
          "metadata": {
            "tags": []
          },
          "execution_count": 933
        },
        {
          "output_type": "display_data",
          "data": {
            "image/png": "[encoded data removed]",
            "text/plain": [
              "<Figure size 432x288 with 1 Axes>"
            ]
          },
          "metadata": {
            "tags": []
          }
        }
      ]
    },
    {
      "cell_type": "markdown",
      "metadata": {
        "id": "vS5EZZRUNhuY",
        "colab_type": "text"
      },
      "source": [
        "#####Medical Dataset"
      ]
    },
    {
      "cell_type": "code",
      "metadata": {
        "id": "oCqWahhH8Sft",
        "colab_type": "code",
        "outputId": "90ef4b33-7eb6-4c61-f9ce-526cb3f332fe",
        "colab": {
          "base_uri": "https://localhost:8080/",
          "height": 0
        }
      },
      "source": [
        "plt.title('No Show for Appointment \\n (0: No Showed || 1: Showed up)', fontsize=14)\n",
        "sns.countplot(\"No-show\",data=medicaldf)"
      ],
      "execution_count": 934,
      "outputs": [
        {
          "output_type": "execute_result",
          "data": {
            "text/plain": [
              "<matplotlib.axes._subplots.AxesSubplot at 0x7f1ace0ccef0>"
            ]
          },
          "metadata": {
            "tags": []
          },
          "execution_count": 934
        },
        {
          "output_type": "display_data",
          "data": {
            "image/png": "[encoded data removed]",
            "text/plain": [
              "<Figure size 432x288 with 1 Axes>"
            ]
          },
          "metadata": {
            "tags": []
          }
        }
      ]
    },
    {
      "cell_type": "markdown",
      "metadata": {
        "id": "mWEOZn2mNmOg",
        "colab_type": "text"
      },
      "source": [
        "#####Contraceptive Dataset"
      ]
    },
    {
      "cell_type": "code",
      "metadata": {
        "id": "WuGMsgAsvuT4",
        "colab_type": "code",
        "outputId": "56016453-a856-45e6-d91d-cbe495272c64",
        "colab": {
          "base_uri": "https://localhost:8080/",
          "height": 330
        }
      },
      "source": [
        "plt.title('Contraceptive Method Used \\n (0: Not Used || 1: Used)', fontsize=14)\n",
        "sns.countplot(\"Contraceptive Method\",data=conceptdf)"
      ],
      "execution_count": 935,
      "outputs": [
        {
          "output_type": "execute_result",
          "data": {
            "text/plain": [
              "<matplotlib.axes._subplots.AxesSubplot at 0x7f1acdf32940>"
            ]
          },
          "metadata": {
            "tags": []
          },
          "execution_count": 935
        },
        {
          "output_type": "display_data",
          "data": {
            "image/png": "[encoded data removed]",
            "text/plain": [
              "<Figure size 432x288 with 1 Axes>"
            ]
          },
          "metadata": {
            "tags": []
          }
        }
      ]
    },
    {
      "cell_type": "markdown",
      "metadata": {
        "id": "hwWK5ngiD2fL",
        "colab_type": "text"
      },
      "source": [
        "###Pie Chart Representing Percentage of Imbalance\n"
      ]
    },
    {
      "cell_type": "markdown",
      "metadata": {
        "id": "ugDP5JMeNsc4",
        "colab_type": "text"
      },
      "source": [
        "####Africa Dataset\n"
      ]
    },
    {
      "cell_type": "code",
      "metadata": {
        "id": "wkWj6zLiD5Cr",
        "colab_type": "code",
        "outputId": "cb10cba1-7deb-4920-e8a8-87c63d202cd1",
        "colab": {
          "base_uri": "https://localhost:8080/",
          "height": 0
        }
      },
      "source": [
        "recession= len(africadf[africadf['growthbucket']==1])\n",
        "no_recession=len(africadf[africadf['growthbucket']==0])\n",
        "\n",
        "percentofrecession= recession/(recession+no_recession)\n",
        "percentofnorecession= no_recession/(recession+no_recession)\n",
        "\n",
        "print(\"Percentage of Recession is\", percentofrecession*100)\n",
        "print(\"Percentage of No Recession is\", percentofnorecession*100)\n"
      ],
      "execution_count": 936,
      "outputs": [
        {
          "output_type": "stream",
          "text": [
            "Percentage of Recession is 7.818930041152264\n",
            "Percentage of No Recession is 92.18106995884774\n"
          ],
          "name": "stdout"
        }
      ]
    },
    {
      "cell_type": "code",
      "metadata": {
        "id": "K1CPTQpNIEts",
        "colab_type": "code",
        "outputId": "91eb1303-9396-4033-d8f7-89a992a52e9a",
        "colab": {
          "base_uri": "https://localhost:8080/",
          "height": 0
        }
      },
      "source": [
        "\n",
        "labels = 'Recession','No Recession'\n",
        "\n",
        "sizes=[percentofrecession,percentofnorecession]\n",
        "\n",
        "explode=(0.2,0)\n",
        "\n",
        "fig1, ax1 =plt.subplots()\n",
        "\n",
        "ax1.pie(sizes,explode=explode,labels=labels,autopct='%1.1f%%', shadow= True, startangle=90)\n",
        "\n",
        "ax1.axis('equal')\n",
        "\n",
        "plt.show()"
      ],
      "execution_count": 937,
      "outputs": [
        {
          "output_type": "display_data",
          "data": {
            "image/png": "[encoded data removed]",
            "text/plain": [
              "<Figure size 432x288 with 1 Axes>"
            ]
          },
          "metadata": {
            "tags": []
          }
        }
      ]
    },
    {
      "cell_type": "markdown",
      "metadata": {
        "id": "tzIJzJt4N1yh",
        "colab_type": "text"
      },
      "source": [
        "####Medical Dataset"
      ]
    },
    {
      "cell_type": "code",
      "metadata": {
        "id": "1lCkyuNWtQ6l",
        "colab_type": "code",
        "outputId": "f42b58a3-3d88-4c43-93a4-c0cc0cd0dc10",
        "colab": {
          "base_uri": "https://localhost:8080/",
          "height": 0
        }
      },
      "source": [
        "show= len(medicaldf[medicaldf['No-show']==0])\n",
        "noshow=len(medicaldf[medicaldf['No-show']==1])\n",
        "\n",
        "percentofnoshow= noshow/(show+noshow)\n",
        "percentofshow=show/(show+noshow)\n",
        "\n",
        "print(\"Percentage of No Show is\", percentofnoshow*100)\n",
        "print(\"Percentage of Show is\", percentofshow*100)"
      ],
      "execution_count": 938,
      "outputs": [
        {
          "output_type": "stream",
          "text": [
            "Percentage of No Show is 20.19269988307486\n",
            "Percentage of Show is 79.80730011692513\n"
          ],
          "name": "stdout"
        }
      ]
    },
    {
      "cell_type": "code",
      "metadata": {
        "id": "I4J78DTZuUxF",
        "colab_type": "code",
        "outputId": "f52eb170-ba37-4f5b-8293-5085d05e4a02",
        "colab": {
          "base_uri": "https://localhost:8080/",
          "height": 0
        }
      },
      "source": [
        "labels = 'No Show','Show'\n",
        "\n",
        "sizes=[percentofnoshow,percentofshow]\n",
        "\n",
        "explode=(0.1,0)\n",
        "\n",
        "fig1, ax1 =plt.subplots()\n",
        "\n",
        "ax1.pie(sizes,explode=explode,labels=labels,autopct='%1.1f%%', shadow= True, startangle=90)\n",
        "\n",
        "ax1.axis('equal')\n",
        "\n",
        "plt.show()"
      ],
      "execution_count": 939,
      "outputs": [
        {
          "output_type": "display_data",
          "data": {
            "image/png": "[encoded data removed]",
            "text/plain": [
              "<Figure size 432x288 with 1 Axes>"
            ]
          },
          "metadata": {
            "tags": []
          }
        }
      ]
    },
    {
      "cell_type": "markdown",
      "metadata": {
        "id": "Zf8bBeg2N7Ag",
        "colab_type": "text"
      },
      "source": [
        "####Contraceptive Dataset"
      ]
    },
    {
      "cell_type": "code",
      "metadata": {
        "id": "zudCL91_veNF",
        "colab_type": "code",
        "outputId": "3a2a23dd-dd3f-4409-cf08-a1bb2324a159",
        "colab": {
          "base_uri": "https://localhost:8080/",
          "height": 51
        }
      },
      "source": [
        "noused= len(conceptdf[conceptdf['Contraceptive Method']==0])\n",
        "used=len(conceptdf[conceptdf['Contraceptive Method']==1])\n",
        "\n",
        "percentofnoused= noused/(used+noused)\n",
        "percentofused=used/(used+noused)\n",
        "\n",
        "print(\"Percentage of No Use is\", percentofnoused*100)\n",
        "print(\"Percentage of used is\", percentofused*100)"
      ],
      "execution_count": 940,
      "outputs": [
        {
          "output_type": "stream",
          "text": [
            "Percentage of No Use is 42.701968771215206\n",
            "Percentage of used is 57.298031228784794\n"
          ],
          "name": "stdout"
        }
      ]
    },
    {
      "cell_type": "code",
      "metadata": {
        "id": "CtQ1PrOGzW-O",
        "colab_type": "code",
        "outputId": "1ce64e9c-88da-44c6-e3fc-62bac447d688",
        "colab": {
          "base_uri": "https://localhost:8080/",
          "height": 248
        }
      },
      "source": [
        "labels = 'No Use','Used'\n",
        "\n",
        "sizes=[percentofnoused,percentofused]\n",
        "\n",
        "explode=(0.1,0)\n",
        "\n",
        "fig1, ax1 =plt.subplots()\n",
        "\n",
        "ax1.pie(sizes,explode=explode,labels=labels,autopct='%1.1f%%', shadow= True, startangle=90)\n",
        "\n",
        "ax1.axis('equal')\n",
        "\n",
        "plt.show()"
      ],
      "execution_count": 941,
      "outputs": [
        {
          "output_type": "display_data",
          "data": {
            "image/png": "[encoded data removed]",
            "text/plain": [
              "<Figure size 432x288 with 1 Axes>"
            ]
          },
          "metadata": {
            "tags": []
          }
        }
      ]
    },
    {
      "cell_type": "code",
      "metadata": {
        "id": "J7o85SLYq78B",
        "colab_type": "code",
        "colab": {
          "base_uri": "https://localhost:8080/",
          "height": 334
        },
        "outputId": "51700584-6c43-4b01-c53c-293f3c0c0ec6"
      },
      "source": [
        "conceptdf.describe()"
      ],
      "execution_count": 942,
      "outputs": [
        {
          "output_type": "execute_result",
          "data": {
            "text/html": [
              "<div>\n",
              "<style scoped>\n",
              "    .dataframe tbody tr th:only-of-type {\n",
              "        vertical-align: middle;\n",
              "    }\n",
              "\n",
              "    .dataframe tbody tr th {\n",
              "        vertical-align: top;\n",
              "    }\n",
              "\n",
              "    .dataframe thead th {\n",
              "        text-align: right;\n",
              "    }\n",
              "</style>\n",
              "<table border=\"1\" class=\"dataframe\">\n",
              "  <thead>\n",
              "    <tr style=\"text-align: right;\">\n",
              "      <th></th>\n",
              "      <th>Wife Age</th>\n",
              "      <th>Wife Education</th>\n",
              "      <th>Husband Education</th>\n",
              "      <th>Number of Children</th>\n",
              "      <th>Wife religion</th>\n",
              "      <th>Wife working</th>\n",
              "      <th>Husband Occupation</th>\n",
              "      <th>SOLI</th>\n",
              "      <th>Media Exposure</th>\n",
              "      <th>Contraceptive Method</th>\n",
              "      <th>ID</th>\n",
              "    </tr>\n",
              "  </thead>\n",
              "  <tbody>\n",
              "    <tr>\n",
              "      <th>count</th>\n",
              "      <td>1473.000000</td>\n",
              "      <td>1473.000000</td>\n",
              "      <td>1473.000000</td>\n",
              "      <td>1473.000000</td>\n",
              "      <td>1473.000000</td>\n",
              "      <td>1473.000000</td>\n",
              "      <td>1473.000000</td>\n",
              "      <td>1473.000000</td>\n",
              "      <td>1473.000000</td>\n",
              "      <td>1473.000000</td>\n",
              "      <td>1473.000000</td>\n",
              "    </tr>\n",
              "    <tr>\n",
              "      <th>mean</th>\n",
              "      <td>32.538357</td>\n",
              "      <td>2.958588</td>\n",
              "      <td>3.429735</td>\n",
              "      <td>3.261371</td>\n",
              "      <td>0.850645</td>\n",
              "      <td>0.749491</td>\n",
              "      <td>2.137814</td>\n",
              "      <td>3.133741</td>\n",
              "      <td>0.073999</td>\n",
              "      <td>0.572980</td>\n",
              "      <td>736.000000</td>\n",
              "    </tr>\n",
              "    <tr>\n",
              "      <th>std</th>\n",
              "      <td>8.227245</td>\n",
              "      <td>1.014994</td>\n",
              "      <td>0.816349</td>\n",
              "      <td>2.358549</td>\n",
              "      <td>0.356559</td>\n",
              "      <td>0.433453</td>\n",
              "      <td>0.864857</td>\n",
              "      <td>0.976161</td>\n",
              "      <td>0.261858</td>\n",
              "      <td>0.494813</td>\n",
              "      <td>425.362786</td>\n",
              "    </tr>\n",
              "    <tr>\n",
              "      <th>min</th>\n",
              "      <td>16.000000</td>\n",
              "      <td>1.000000</td>\n",
              "      <td>1.000000</td>\n",
              "      <td>0.000000</td>\n",
              "      <td>0.000000</td>\n",
              "      <td>0.000000</td>\n",
              "      <td>1.000000</td>\n",
              "      <td>1.000000</td>\n",
              "      <td>0.000000</td>\n",
              "      <td>0.000000</td>\n",
              "      <td>0.000000</td>\n",
              "    </tr>\n",
              "    <tr>\n",
              "      <th>25%</th>\n",
              "      <td>26.000000</td>\n",
              "      <td>2.000000</td>\n",
              "      <td>3.000000</td>\n",
              "      <td>1.000000</td>\n",
              "      <td>1.000000</td>\n",
              "      <td>0.000000</td>\n",
              "      <td>1.000000</td>\n",
              "      <td>3.000000</td>\n",
              "      <td>0.000000</td>\n",
              "      <td>0.000000</td>\n",
              "      <td>368.000000</td>\n",
              "    </tr>\n",
              "    <tr>\n",
              "      <th>50%</th>\n",
              "      <td>32.000000</td>\n",
              "      <td>3.000000</td>\n",
              "      <td>4.000000</td>\n",
              "      <td>3.000000</td>\n",
              "      <td>1.000000</td>\n",
              "      <td>1.000000</td>\n",
              "      <td>2.000000</td>\n",
              "      <td>3.000000</td>\n",
              "      <td>0.000000</td>\n",
              "      <td>1.000000</td>\n",
              "      <td>736.000000</td>\n",
              "    </tr>\n",
              "    <tr>\n",
              "      <th>75%</th>\n",
              "      <td>39.000000</td>\n",
              "      <td>4.000000</td>\n",
              "      <td>4.000000</td>\n",
              "      <td>4.000000</td>\n",
              "      <td>1.000000</td>\n",
              "      <td>1.000000</td>\n",
              "      <td>3.000000</td>\n",
              "      <td>4.000000</td>\n",
              "      <td>0.000000</td>\n",
              "      <td>1.000000</td>\n",
              "      <td>1104.000000</td>\n",
              "    </tr>\n",
              "    <tr>\n",
              "      <th>max</th>\n",
              "      <td>49.000000</td>\n",
              "      <td>4.000000</td>\n",
              "      <td>4.000000</td>\n",
              "      <td>16.000000</td>\n",
              "      <td>1.000000</td>\n",
              "      <td>1.000000</td>\n",
              "      <td>4.000000</td>\n",
              "      <td>4.000000</td>\n",
              "      <td>1.000000</td>\n",
              "      <td>1.000000</td>\n",
              "      <td>1472.000000</td>\n",
              "    </tr>\n",
              "  </tbody>\n",
              "</table>\n",
              "</div>"
            ],
            "text/plain": [
              "          Wife Age  Wife Education  ...  Contraceptive Method           ID\n",
              "count  1473.000000     1473.000000  ...           1473.000000  1473.000000\n",
              "mean     32.538357        2.958588  ...              0.572980   736.000000\n",
              "std       8.227245        1.014994  ...              0.494813   425.362786\n",
              "min      16.000000        1.000000  ...              0.000000     0.000000\n",
              "25%      26.000000        2.000000  ...              0.000000   368.000000\n",
              "50%      32.000000        3.000000  ...              1.000000   736.000000\n",
              "75%      39.000000        4.000000  ...              1.000000  1104.000000\n",
              "max      49.000000        4.000000  ...              1.000000  1472.000000\n",
              "\n",
              "[8 rows x 11 columns]"
            ]
          },
          "metadata": {
            "tags": []
          },
          "execution_count": 942
        }
      ]
    },
    {
      "cell_type": "markdown",
      "metadata": {
        "id": "fnj2lPWRT9tE",
        "colab_type": "text"
      },
      "source": [
        "##Inspection of Dataset"
      ]
    },
    {
      "cell_type": "markdown",
      "metadata": {
        "id": "u087DbsxUL2y",
        "colab_type": "text"
      },
      "source": [
        "###Africa Dataset"
      ]
    },
    {
      "cell_type": "code",
      "metadata": {
        "id": "ntSfirK7UEAh",
        "colab_type": "code",
        "outputId": "ba1ba92a-ba30-40af-823c-7152c89aff26",
        "colab": {
          "base_uri": "https://localhost:8080/",
          "height": 0
        }
      },
      "source": [
        "##Distribution of the population of the countries\n",
        "population=africadf['pop'].values\n",
        "sns.distplot(population)"
      ],
      "execution_count": 943,
      "outputs": [
        {
          "output_type": "execute_result",
          "data": {
            "text/plain": [
              "<matplotlib.axes._subplots.AxesSubplot at 0x7f1acdf41ef0>"
            ]
          },
          "metadata": {
            "tags": []
          },
          "execution_count": 943
        },
        {
          "output_type": "display_data",
          "data": {
            "image/png": "[encoded data removed]",
            "text/plain": [
              "<Figure size 432x288 with 1 Axes>"
            ]
          },
          "metadata": {
            "tags": []
          }
        }
      ]
    },
    {
      "cell_type": "code",
      "metadata": {
        "id": "lBpXqUmWXHqk",
        "colab_type": "code",
        "outputId": "875c49ce-69f3-42e0-b518-6d6ca4ec89c2",
        "colab": {
          "base_uri": "https://localhost:8080/",
          "height": 0
        }
      },
      "source": [
        "## the population of each country in scatter graph form\n",
        "sns.relplot(x=\"CountryID\", y=\"pop\",data=africadf);\n"
      ],
      "execution_count": 944,
      "outputs": [
        {
          "output_type": "display_data",
          "data": {
            "image/png": "[encoded data removed]",
            "text/plain": [
              "<Figure size 360x360 with 1 Axes>"
            ]
          },
          "metadata": {
            "tags": []
          }
        }
      ]
    },
    {
      "cell_type": "code",
      "metadata": {
        "id": "sTNEZQ1-VVKI",
        "colab_type": "code",
        "outputId": "8c9a64d8-3144-47cc-bd3a-2e07c0aad0a2",
        "colab": {
          "base_uri": "https://localhost:8080/",
          "height": 0
        }
      },
      "source": [
        "# countries currency exchange \n",
        "sns.relplot(x=\"CountryID\", y=\"xr\",data=africadf);\n"
      ],
      "execution_count": 945,
      "outputs": [
        {
          "output_type": "display_data",
          "data": {
            "image/png": "[encoded data removed]",
            "text/plain": [
              "<Figure size 360x360 with 1 Axes>"
            ]
          },
          "metadata": {
            "tags": []
          }
        }
      ]
    },
    {
      "cell_type": "code",
      "metadata": {
        "id": "lC3qaitIcz3C",
        "colab_type": "code",
        "outputId": "20583fc3-ef72-4cd3-c2d8-dd7bfaf8ed05",
        "colab": {
          "base_uri": "https://localhost:8080/",
          "height": 0
        }
      },
      "source": [
        "depreciationofcaptialstock=africadf['delta'].values\n",
        "sns.distplot(depreciationofcaptialstock)"
      ],
      "execution_count": 946,
      "outputs": [
        {
          "output_type": "execute_result",
          "data": {
            "text/plain": [
              "<matplotlib.axes._subplots.AxesSubplot at 0x7f1ace170630>"
            ]
          },
          "metadata": {
            "tags": []
          },
          "execution_count": 946
        },
        {
          "output_type": "display_data",
          "data": {
            "image/png": "[encoded data removed]",
            "text/plain": [
              "<Figure size 432x288 with 1 Axes>"
            ]
          },
          "metadata": {
            "tags": []
          }
        }
      ]
    },
    {
      "cell_type": "code",
      "metadata": {
        "id": "WYVr6tQAdH2a",
        "colab_type": "code",
        "outputId": "05b53490-6243-446a-ac06-2717f6e7f8b5",
        "colab": {
          "base_uri": "https://localhost:8080/",
          "height": 0
        }
      },
      "source": [
        "##distribution of the countries employment rate\n",
        "employed=africadf['emp_to_pop_ratio'].values\n",
        "sns.distplot(employed)"
      ],
      "execution_count": 947,
      "outputs": [
        {
          "output_type": "execute_result",
          "data": {
            "text/plain": [
              "<matplotlib.axes._subplots.AxesSubplot at 0x7f1acd49a940>"
            ]
          },
          "metadata": {
            "tags": []
          },
          "execution_count": 947
        },
        {
          "output_type": "display_data",
          "data": {
            "image/png": "[encoded data removed]",
            "text/plain": [
              "<Figure size 432x288 with 1 Axes>"
            ]
          },
          "metadata": {
            "tags": []
          }
        }
      ]
    },
    {
      "cell_type": "code",
      "metadata": {
        "id": "5JPo631CdUTT",
        "colab_type": "code",
        "outputId": "db09c4af-a6d6-4f6a-cb64-45caec6411a1",
        "colab": {
          "base_uri": "https://localhost:8080/",
          "height": 0
        }
      },
      "source": [
        "sns.relplot(x=\"CountryID\", y=\"emp_to_pop_ratio\",data=africadf); ##scatter graph of the employement ratio rate"
      ],
      "execution_count": 948,
      "outputs": [
        {
          "output_type": "display_data",
          "data": {
            "image/png": "[encoded data removed]",
            "text/plain": [
              "<Figure size 360x360 with 1 Axes>"
            ]
          },
          "metadata": {
            "tags": []
          }
        }
      ]
    },
    {
      "cell_type": "code",
      "metadata": {
        "id": "vJvuH_ymG7FO",
        "colab_type": "code",
        "colab": {
          "base_uri": "https://localhost:8080/",
          "height": 0
        },
        "outputId": "259421bd-520e-4234-ba4a-0fe9676878dd"
      },
      "source": [
        "#Heatmap shows the correlation between each feature \n",
        "plt.figure(figsize=(15,12))\n",
        "sns.heatmap(data=africadf.corr())"
      ],
      "execution_count": 949,
      "outputs": [
        {
          "output_type": "execute_result",
          "data": {
            "text/plain": [
              "<matplotlib.axes._subplots.AxesSubplot at 0x7f1ace38fe80>"
            ]
          },
          "metadata": {
            "tags": []
          },
          "execution_count": 949
        },
        {
          "output_type": "display_data",
          "data": {
            "image/png": "[encoded data removed]",
            "text/plain": [
              "<Figure size 1080x864 with 2 Axes>"
            ]
          },
          "metadata": {
            "tags": []
          }
        }
      ]
    },
    {
      "cell_type": "markdown",
      "metadata": {
        "id": "QUuqeaOJUTjy",
        "colab_type": "text"
      },
      "source": [
        "###Medical Dataset"
      ]
    },
    {
      "cell_type": "code",
      "metadata": {
        "id": "sUr52thRUeR7",
        "colab_type": "code",
        "outputId": "331751a4-15e6-4317-e9ae-ab35bcf44e6c",
        "colab": {
          "base_uri": "https://localhost:8080/",
          "height": 0
        }
      },
      "source": [
        "plt.title('Gender of patients \\n (0: Female || 1: Male)', fontsize=14)\n",
        "sns.countplot(\"Gender\",data=medicaldf)"
      ],
      "execution_count": 950,
      "outputs": [
        {
          "output_type": "execute_result",
          "data": {
            "text/plain": [
              "<matplotlib.axes._subplots.AxesSubplot at 0x7f1acd4675f8>"
            ]
          },
          "metadata": {
            "tags": []
          },
          "execution_count": 950
        },
        {
          "output_type": "display_data",
          "data": {
            "image/png": "[encoded data removed]",
            "text/plain": [
              "<Figure size 432x288 with 1 Axes>"
            ]
          },
          "metadata": {
            "tags": []
          }
        }
      ]
    },
    {
      "cell_type": "code",
      "metadata": {
        "id": "TYVvNFqaQ_0s",
        "colab_type": "code",
        "colab": {
          "base_uri": "https://localhost:8080/",
          "height": 0
        },
        "outputId": "f1e79b50-b67b-426b-c589-7d3c06ee693a"
      },
      "source": [
        "#Gender No Show relationship\n",
        "gendernoshow=medicaldf.groupby('Gender').sum()['No-show']\n",
        "\n",
        "gendernoshow.plot.pie(figsize=(5,5),title='Gender distribution on NoShow 0:Female||1:Male')"
      ],
      "execution_count": 951,
      "outputs": [
        {
          "output_type": "execute_result",
          "data": {
            "text/plain": [
              "<matplotlib.axes._subplots.AxesSubplot at 0x7f1ace4869e8>"
            ]
          },
          "metadata": {
            "tags": []
          },
          "execution_count": 951
        },
        {
          "output_type": "display_data",
          "data": {
            "image/png": "[encoded data removed]",
            "text/plain": [
              "<Figure size 360x360 with 1 Axes>"
            ]
          },
          "metadata": {
            "tags": []
          }
        }
      ]
    },
    {
      "cell_type": "code",
      "metadata": {
        "id": "5pmrgvf1eQtu",
        "colab_type": "code",
        "outputId": "62eab026-7341-43af-f6ab-f50ef53f20c3",
        "colab": {
          "base_uri": "https://localhost:8080/",
          "height": 0
        }
      },
      "source": [
        "plt.title('Sms_Recieved \\n (0: No || 1: Yes)', fontsize=14)\n",
        "sns.countplot(\"SMS_received\",data=medicaldf)"
      ],
      "execution_count": 952,
      "outputs": [
        {
          "output_type": "execute_result",
          "data": {
            "text/plain": [
              "<matplotlib.axes._subplots.AxesSubplot at 0x7f1ace486278>"
            ]
          },
          "metadata": {
            "tags": []
          },
          "execution_count": 952
        },
        {
          "output_type": "display_data",
          "data": {
            "image/png": "[encoded data removed]",
            "text/plain": [
              "<Figure size 432x288 with 1 Axes>"
            ]
          },
          "metadata": {
            "tags": []
          }
        }
      ]
    },
    {
      "cell_type": "code",
      "metadata": {
        "id": "jmkkhbbnSND4",
        "colab_type": "code",
        "colab": {
          "base_uri": "https://localhost:8080/",
          "height": 0
        },
        "outputId": "8cf66158-93a7-4462-ddaf-e9a50fa800f5"
      },
      "source": [
        "#SMS No Show ratio\n",
        "smsnoshow=medicaldf.groupby('SMS_received').sum()['No-show']\n",
        "print(smsnoshow)\n",
        "smsnoshow.plot.pie(figsize=(5,5),title='SMS received distribution on NoShow')"
      ],
      "execution_count": 953,
      "outputs": [
        {
          "output_type": "stream",
          "text": [
            "SMS_received\n",
            "0    12503\n",
            "1     9775\n",
            "Name: No-show, dtype: int64\n"
          ],
          "name": "stdout"
        },
        {
          "output_type": "execute_result",
          "data": {
            "text/plain": [
              "<matplotlib.axes._subplots.AxesSubplot at 0x7f1acd4670f0>"
            ]
          },
          "metadata": {
            "tags": []
          },
          "execution_count": 953
        },
        {
          "output_type": "display_data",
          "data": {
            "image/png": "[encoded data removed]",
            "text/plain": [
              "<Figure size 360x360 with 1 Axes>"
            ]
          },
          "metadata": {
            "tags": []
          }
        }
      ]
    },
    {
      "cell_type": "code",
      "metadata": {
        "id": "NI7jWX6pSdlu",
        "colab_type": "code",
        "colab": {
          "base_uri": "https://localhost:8080/",
          "height": 0
        },
        "outputId": "8a25e53a-d857-4e5c-8d79-1ae8e6ae9764"
      },
      "source": [
        "agenoshow=medicaldf.groupby('Age').sum()['No-show']\n",
        "\n",
        "print(agenoshow)\n",
        "\n",
        "agenoshow.plot(kind='bar',figsize=(20,10),title='No-Show of patients age')"
      ],
      "execution_count": 954,
      "outputs": [
        {
          "output_type": "stream",
          "text": [
            "Age\n",
            "0      639\n",
            "1      415\n",
            "2      252\n",
            "3      277\n",
            "4      282\n",
            "      ... \n",
            "98       1\n",
            "99       0\n",
            "100      0\n",
            "102      0\n",
            "115      3\n",
            "Name: No-show, Length: 103, dtype: int64\n"
          ],
          "name": "stdout"
        },
        {
          "output_type": "execute_result",
          "data": {
            "text/plain": [
              "<matplotlib.axes._subplots.AxesSubplot at 0x7f1acfaad4e0>"
            ]
          },
          "metadata": {
            "tags": []
          },
          "execution_count": 954
        },
        {
          "output_type": "display_data",
          "data": {
            "image/png": "[encoded data removed]",
            "text/plain": [
              "<Figure size 1440x720 with 1 Axes>"
            ]
          },
          "metadata": {
            "tags": []
          }
        }
      ]
    },
    {
      "cell_type": "code",
      "metadata": {
        "id": "i2bAXa6vXymx",
        "colab_type": "code",
        "colab": {
          "base_uri": "https://localhost:8080/",
          "height": 0
        },
        "outputId": "c96382b0-e1e1-4ea0-9426-90d0dae1e195"
      },
      "source": [
        "neighbournoshow=medicaldf.groupby('Neighbourhood').sum()['No-show'].sort_values(ascending=False) \n",
        "# number of no show patients in each hospital\n",
        "print(neighbournoshow)\n",
        "neighbournoshow.plot(kind='bar',figsize=(20,5),title='Number of patients no show in neighbourhood')"
      ],
      "execution_count": 955,
      "outputs": [
        {
          "output_type": "stream",
          "text": [
            "Neighbourhood\n",
            "JARDIM CAMBURI                 1465\n",
            "MARIA ORTIZ                    1219\n",
            "ITARARÉ                         921\n",
            "RESISTÊNCIA                     903\n",
            "CENTRO                          701\n",
            "                               ... \n",
            "ILHA DO BOI                       3\n",
            "ILHAS OCEÂNICAS DE TRINDADE       2\n",
            "ILHA DO FRADE                     2\n",
            "AEROPORTO                         1\n",
            "PARQUE INDUSTRIAL                 0\n",
            "Name: No-show, Length: 81, dtype: int64\n"
          ],
          "name": "stdout"
        },
        {
          "output_type": "execute_result",
          "data": {
            "text/plain": [
              "<matplotlib.axes._subplots.AxesSubplot at 0x7f1acf91f0b8>"
            ]
          },
          "metadata": {
            "tags": []
          },
          "execution_count": 955
        },
        {
          "output_type": "display_data",
          "data": {
            "image/png": "[encoded data removed]",
            "text/plain": [
              "<Figure size 1440x360 with 1 Axes>"
            ]
          },
          "metadata": {
            "tags": []
          }
        }
      ]
    },
    {
      "cell_type": "code",
      "metadata": {
        "id": "uzbpUZLYfW9Z",
        "colab_type": "code",
        "colab": {
          "base_uri": "https://localhost:8080/",
          "height": 0
        },
        "outputId": "d842d15c-5a58-48c4-abc4-287a83bbe375"
      },
      "source": [
        "conditions=medicaldf.groupby('No-show')['Hipertension','Diabetes', 'Alcoholism','Handcap'].sum()\n",
        "print(conditions)"
      ],
      "execution_count": 956,
      "outputs": [
        {
          "output_type": "stream",
          "text": [
            "         Hipertension  Diabetes  Alcoholism  Handcap\n",
            "No-show                                             \n",
            "0               17968      6478        2677     1676\n",
            "1                3748      1422         675      366\n"
          ],
          "name": "stdout"
        }
      ]
    },
    {
      "cell_type": "code",
      "metadata": {
        "id": "476_SJ4PjMrf",
        "colab_type": "code",
        "colab": {
          "base_uri": "https://localhost:8080/",
          "height": 0
        },
        "outputId": "a0a8a66f-bca1-4554-c193-eef04419a781"
      },
      "source": [
        "conditions.plot(kind='bar',figsize=(20,5),title='Relationship between no show and show with conditions')"
      ],
      "execution_count": 957,
      "outputs": [
        {
          "output_type": "execute_result",
          "data": {
            "text/plain": [
              "<matplotlib.axes._subplots.AxesSubplot at 0x7f1acd50e240>"
            ]
          },
          "metadata": {
            "tags": []
          },
          "execution_count": 957
        },
        {
          "output_type": "display_data",
          "data": {
            "image/png": "[encoded data removed]",
            "text/plain": [
              "<Figure size 1440x360 with 1 Axes>"
            ]
          },
          "metadata": {
            "tags": []
          }
        }
      ]
    },
    {
      "cell_type": "markdown",
      "metadata": {
        "id": "fE9Rpj6QUX5K",
        "colab_type": "text"
      },
      "source": [
        "###Contraceptive Dataset"
      ]
    },
    {
      "cell_type": "code",
      "metadata": {
        "id": "9w0MknFfr-k6",
        "colab_type": "code",
        "colab": {
          "base_uri": "https://localhost:8080/",
          "height": 296
        },
        "outputId": "6a73e7ee-b720-4796-d3eb-ec859ee667a6"
      },
      "source": [
        "sns.countplot(x='Contraceptive Method',data=conceptdf,hue=\"Wife religion\")"
      ],
      "execution_count": 970,
      "outputs": [
        {
          "output_type": "execute_result",
          "data": {
            "text/plain": [
              "<matplotlib.axes._subplots.AxesSubplot at 0x7f1acc5d2ac8>"
            ]
          },
          "metadata": {
            "tags": []
          },
          "execution_count": 970
        },
        {
          "output_type": "display_data",
          "data": {
            "image/png": "[encoded data removed]",
            "text/plain": [
              "<Figure size 432x288 with 1 Axes>"
            ]
          },
          "metadata": {
            "tags": []
          }
        }
      ]
    },
    {
      "cell_type": "code",
      "metadata": {
        "id": "Uq_51Jggveu7",
        "colab_type": "code",
        "colab": {
          "base_uri": "https://localhost:8080/",
          "height": 405
        },
        "outputId": "b344c0b0-cb11-4173-98e4-e9ca1f216693"
      },
      "source": [
        "plt.figure(figsize=(14,6))\n",
        "sns.countplot(x='Wife Age',data=conceptdf,hue=\"Contraceptive Method\")"
      ],
      "execution_count": 974,
      "outputs": [
        {
          "output_type": "execute_result",
          "data": {
            "text/plain": [
              "<matplotlib.axes._subplots.AxesSubplot at 0x7f1acc5b0748>"
            ]
          },
          "metadata": {
            "tags": []
          },
          "execution_count": 974
        },
        {
          "output_type": "display_data",
          "data": {
            "image/png": "[encoded data removed]",
            "text/plain": [
              "<Figure size 1008x432 with 1 Axes>"
            ]
          },
          "metadata": {
            "tags": []
          }
        }
      ]
    },
    {
      "cell_type": "code",
      "metadata": {
        "id": "aCr50DZRrNEo",
        "colab_type": "code",
        "colab": {
          "base_uri": "https://localhost:8080/",
          "height": 405
        },
        "outputId": "6b7239bc-915b-4aed-83e5-af3258b3456f"
      },
      "source": [
        "plt.figure(figsize=(10,6)) #distribution of the wifes ages\n",
        "sns.distplot(conceptdf['Wife Age'],bins=50)"
      ],
      "execution_count": 960,
      "outputs": [
        {
          "output_type": "execute_result",
          "data": {
            "text/plain": [
              "<matplotlib.axes._subplots.AxesSubplot at 0x7f1ad14a5048>"
            ]
          },
          "metadata": {
            "tags": []
          },
          "execution_count": 960
        },
        {
          "output_type": "display_data",
          "data": {
            "image/png": "[encoded data removed]",
            "text/plain": [
              "<Figure size 720x432 with 1 Axes>"
            ]
          },
          "metadata": {
            "tags": []
          }
        }
      ]
    },
    {
      "cell_type": "code",
      "metadata": {
        "id": "9bKC1vn3ra7r",
        "colab_type": "code",
        "colab": {
          "base_uri": "https://localhost:8080/",
          "height": 458
        },
        "outputId": "ceeb516d-991d-4168-bf7b-c563f104571d"
      },
      "source": [
        "sns.jointplot(x='Wife Age',y='Number of Children',data=conceptdf)"
      ],
      "execution_count": 962,
      "outputs": [
        {
          "output_type": "execute_result",
          "data": {
            "text/plain": [
              "<seaborn.axisgrid.JointGrid at 0x7f1accc2ff60>"
            ]
          },
          "metadata": {
            "tags": []
          },
          "execution_count": 962
        },
        {
          "output_type": "display_data",
          "data": {
            "image/png": "[encoded data removed]",
            "text/plain": [
              "<Figure size 432x432 with 3 Axes>"
            ]
          },
          "metadata": {
            "tags": []
          }
        }
      ]
    },
    {
      "cell_type": "code",
      "metadata": {
        "id": "XIQVUfflrqU0",
        "colab_type": "code",
        "colab": {
          "base_uri": "https://localhost:8080/",
          "height": 405
        },
        "outputId": "0ec3ee39-7877-4e5d-ad56-ef344d2a02f8"
      },
      "source": [
        "plt.figure(figsize=(10,6))\n",
        "sns.distplot(conceptdf['Number of Children'],bins=30,kde=False)"
      ],
      "execution_count": 963,
      "outputs": [
        {
          "output_type": "execute_result",
          "data": {
            "text/plain": [
              "<matplotlib.axes._subplots.AxesSubplot at 0x7f1acca93be0>"
            ]
          },
          "metadata": {
            "tags": []
          },
          "execution_count": 963
        },
        {
          "output_type": "display_data",
          "data": {
            "image/png": "[encoded data removed]",
            "text/plain": [
              "<Figure size 720x432 with 1 Axes>"
            ]
          },
          "metadata": {
            "tags": []
          }
        }
      ]
    },
    {
      "cell_type": "code",
      "metadata": {
        "id": "SZ2e_EhdUdXB",
        "colab_type": "code",
        "colab": {
          "base_uri": "https://localhost:8080/",
          "height": 330
        },
        "outputId": "175c1bfb-3a77-438b-faec-a539dd97bbb7"
      },
      "source": [
        "plt.title('Wifes religion \\n', fontsize=14)\n",
        "sns.countplot(\"Wife religion\",data=conceptdf)"
      ],
      "execution_count": 971,
      "outputs": [
        {
          "output_type": "execute_result",
          "data": {
            "text/plain": [
              "<matplotlib.axes._subplots.AxesSubplot at 0x7f1acc553be0>"
            ]
          },
          "metadata": {
            "tags": []
          },
          "execution_count": 971
        },
        {
          "output_type": "display_data",
          "data": {
            "image/png": "[encoded data removed]",
            "text/plain": [
              "<Figure size 432x288 with 1 Axes>"
            ]
          },
          "metadata": {
            "tags": []
          }
        }
      ]
    },
    {
      "cell_type": "code",
      "metadata": {
        "id": "KP2_o-RQvMqZ",
        "colab_type": "code",
        "colab": {
          "base_uri": "https://localhost:8080/",
          "height": 405
        },
        "outputId": "37b1fa7d-35bb-453b-9e3d-4e8d09e3398e"
      },
      "source": [
        "plt.figure(figsize=(10,6))\n",
        "sns.countplot(x='Contraceptive Method',data=conceptdf,hue=\"Media Exposure\")"
      ],
      "execution_count": 976,
      "outputs": [
        {
          "output_type": "execute_result",
          "data": {
            "text/plain": [
              "<matplotlib.axes._subplots.AxesSubplot at 0x7f1acc605748>"
            ]
          },
          "metadata": {
            "tags": []
          },
          "execution_count": 976
        },
        {
          "output_type": "display_data",
          "data": {
            "image/png": "[encoded data removed]",
            "text/plain": [
              "<Figure size 720x432 with 1 Axes>"
            ]
          },
          "metadata": {
            "tags": []
          }
        }
      ]
    },
    {
      "cell_type": "code",
      "metadata": {
        "id": "A-DWaffUv1U3",
        "colab_type": "code",
        "colab": {
          "base_uri": "https://localhost:8080/",
          "height": 406
        },
        "outputId": "ad070846-7743-41b9-a01e-2f2b3b5fb0c5"
      },
      "source": [
        "plt.figure(figsize=(10,6))\n",
        "sns.countplot(x='Media Exposure',data=conceptdf,hue=\"Wife religion\")"
      ],
      "execution_count": 982,
      "outputs": [
        {
          "output_type": "execute_result",
          "data": {
            "text/plain": [
              "<matplotlib.axes._subplots.AxesSubplot at 0x7f1acc21de10>"
            ]
          },
          "metadata": {
            "tags": []
          },
          "execution_count": 982
        },
        {
          "output_type": "display_data",
          "data": {
            "image/png": "[encoded data removed]",
            "text/plain": [
              "<Figure size 720x432 with 1 Axes>"
            ]
          },
          "metadata": {
            "tags": []
          }
        }
      ]
    }
  ]
}