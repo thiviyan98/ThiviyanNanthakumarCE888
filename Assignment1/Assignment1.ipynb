{
  "nbformat": 4,
  "nbformat_minor": 0,
  "metadata": {
    "colab": {
      "name": "Assignment1.ipynb",
      "provenance": [],
      "collapsed_sections": [
        "kgq70e15BS8P",
        "p9G0489pBuq8",
        "93scMCrbCXjk",
        "fp8b_jL6CgFr"
      ],
      "authorship_tag": "ABX9TyMtSYws4O6Nw6fH3iJxociH",
      "include_colab_link": true
    },
    "kernelspec": {
      "name": "python3",
      "display_name": "Python 3"
    },
    "accelerator": "GPU"
  },
  "cells": [
    {
      "cell_type": "markdown",
      "metadata": {
        "id": "view-in-github",
        "colab_type": "text"
      },
      "source": [
        "<a href=\"https://colab.research.google.com/github/thiviyan98/ThiviyanNanthakumarCE888/blob/master/Assignment1/Assignment1.ipynb\" target=\"_parent\"><img src=\"https://colab.research.google.com/assets/colab-badge.svg\" alt=\"Open In Colab\"/></a>"
      ]
    },
    {
      "cell_type": "markdown",
      "metadata": {
        "id": "h6SJCZltBNsU",
        "colab_type": "text"
      },
      "source": [
        "#Assignment 1"
      ]
    },
    {
      "cell_type": "code",
      "metadata": {
        "id": "m15NVbHoLPgD",
        "colab_type": "code",
        "colab": {}
      },
      "source": [
        " import seaborn as sns\n",
        " import numpy as np\n",
        " import pandas as pd\n",
        " import matplotlib.pyplot as plt\n"
      ],
      "execution_count": 0,
      "outputs": []
    },
    {
      "cell_type": "markdown",
      "metadata": {
        "id": "xgUA1g_MlH-V",
        "colab_type": "text"
      },
      "source": [
        "##Import and Reading Dataset"
      ]
    },
    {
      "cell_type": "code",
      "metadata": {
        "id": "ilnY5kuDmsnz",
        "colab_type": "code",
        "colab": {}
      },
      "source": [
        "africadf = pd.read_csv('https://raw.githubusercontent.com/thiviyan98/ThiviyanNanthakumarCE888/master/Assignment1/Data/african-country-recession-dataset-2000-to-2017/africa_recession.csv', sep=',', quotechar='\"')\n",
        "\n",
        "medicaldf = pd.read_csv('https://raw.githubusercontent.com/thiviyan98/ThiviyanNanthakumarCE888/master/Assignment1/Data/noshowappointments/KaggleV2-May-2016.csv', sep=',', quotechar='\"')\n",
        "\n",
        "conceptdf = pd.read_csv('https://raw.githubusercontent.com/thiviyan98/ThiviyanNanthakumarCE888/master/Assignment1/Data/Contraceptive%20Method%20Choice%20Data%20Set/ContraceptiveMethodChoiceDataSet.csv', sep=',', quotechar='\"')\n"
      ],
      "execution_count": 0,
      "outputs": []
    },
    {
      "cell_type": "markdown",
      "metadata": {
        "id": "kgq70e15BS8P",
        "colab_type": "text"
      },
      "source": [
        "### Printing and getting info for Africa Dataset"
      ]
    },
    {
      "cell_type": "code",
      "metadata": {
        "id": "WYBiZs-qt6Ve",
        "colab_type": "code",
        "outputId": "cdfef976-8841-4579-8fce-1c81dfc05feb",
        "colab": {
          "base_uri": "https://localhost:8080/",
          "height": 0
        }
      },
      "source": [
        "print(africadf)"
      ],
      "execution_count": 5,
      "outputs": [
        {
          "output_type": "stream",
          "text": [
            "           pop        emp  ...  fish_change  growthbucket\n",
            "0    28.849621   6.914298  ...     0.007576             0\n",
            "1    45.728313  13.623806  ...     0.007576             0\n",
            "2    33.262043  13.323813  ...     0.007576             0\n",
            "3     8.025703   3.869000  ...     0.007576             0\n",
            "4     1.061468   0.243000  ...     0.007576             0\n",
            "..         ...        ...  ...          ...           ...\n",
            "481  12.208407   6.215000  ...     0.026477             0\n",
            "482  29.784193  15.389316  ...     0.026477             1\n",
            "483  55.797787  25.301973  ...     0.026477             0\n",
            "484  15.850567   5.277823  ...     0.026477             0\n",
            "485   7.797694   3.468000  ...     0.026477             0\n",
            "\n",
            "[486 rows x 50 columns]\n"
          ],
          "name": "stdout"
        }
      ]
    },
    {
      "cell_type": "code",
      "metadata": {
        "id": "KGQszXgNttVo",
        "colab_type": "code",
        "outputId": "b3d0320a-610d-4a58-cd5a-c09872805764",
        "colab": {
          "base_uri": "https://localhost:8080/",
          "height": 0
        }
      },
      "source": [
        "africadf.info()\n",
        "\n",
        "#486 entries lot of data, 50 variable coloumns (features)"
      ],
      "execution_count": 6,
      "outputs": [
        {
          "output_type": "stream",
          "text": [
            "<class 'pandas.core.frame.DataFrame'>\n",
            "RangeIndex: 486 entries, 0 to 485\n",
            "Data columns (total 50 columns):\n",
            "pop                       486 non-null float64\n",
            "emp                       486 non-null float64\n",
            "emp_to_pop_ratio          486 non-null float64\n",
            "hc                        486 non-null float64\n",
            "ccon                      486 non-null float64\n",
            "cda                       486 non-null float64\n",
            "cn                        486 non-null float64\n",
            "ck                        486 non-null float64\n",
            "ctfp                      486 non-null float64\n",
            "cwtfp                     486 non-null float64\n",
            "rconna                    486 non-null float64\n",
            "rdana                     486 non-null float64\n",
            "rnna                      486 non-null float64\n",
            "rkna                      486 non-null float64\n",
            "rtfpna                    486 non-null float64\n",
            "rwtfpna                   486 non-null float64\n",
            "labsh                     486 non-null float64\n",
            "irr                       486 non-null float64\n",
            "delta                     486 non-null float64\n",
            "xr                        486 non-null float64\n",
            "pl_con                    486 non-null float64\n",
            "pl_da                     486 non-null float64\n",
            "pl_gdpo                   486 non-null float64\n",
            "csh_c                     486 non-null float64\n",
            "csh_i                     486 non-null float64\n",
            "csh_g                     486 non-null float64\n",
            "csh_x                     486 non-null float64\n",
            "csh_m                     486 non-null float64\n",
            "csh_r                     486 non-null float64\n",
            "pl_c                      486 non-null float64\n",
            "pl_i                      486 non-null float64\n",
            "pl_g                      486 non-null float64\n",
            "pl_x                      486 non-null float64\n",
            "pl_m                      486 non-null float64\n",
            "pl_n                      486 non-null float64\n",
            "total                     486 non-null float64\n",
            "excl_energy               486 non-null float64\n",
            "energy                    486 non-null float64\n",
            "metals_minerals           486 non-null float64\n",
            "forestry                  486 non-null float64\n",
            "agriculture               486 non-null float64\n",
            "fish                      486 non-null float64\n",
            "total_change              486 non-null float64\n",
            "excl_energy_change        486 non-null float64\n",
            "energy_change             486 non-null float64\n",
            "metals_minerals_change    486 non-null float64\n",
            "forestry_change           486 non-null float64\n",
            "agriculture_change        486 non-null float64\n",
            "fish_change               486 non-null float64\n",
            "growthbucket              486 non-null int64\n",
            "dtypes: float64(49), int64(1)\n",
            "memory usage: 190.0 KB\n"
          ],
          "name": "stdout"
        }
      ]
    },
    {
      "cell_type": "code",
      "metadata": {
        "id": "G-8tcCsUxrix",
        "colab_type": "code",
        "outputId": "0b2d853a-ffc0-4ffe-c259-42052a0b3caf",
        "colab": {
          "base_uri": "https://localhost:8080/",
          "height": 0
        }
      },
      "source": [
        "africadf['growthbucket'].value_counts()"
      ],
      "execution_count": 7,
      "outputs": [
        {
          "output_type": "execute_result",
          "data": {
            "text/plain": [
              "0    448\n",
              "1     38\n",
              "Name: growthbucket, dtype: int64"
            ]
          },
          "metadata": {
            "tags": []
          },
          "execution_count": 7
        }
      ]
    },
    {
      "cell_type": "markdown",
      "metadata": {
        "id": "p9G0489pBuq8",
        "colab_type": "text"
      },
      "source": [
        "### Printing and getting info for Medical Dataset"
      ]
    },
    {
      "cell_type": "code",
      "metadata": {
        "id": "BxPf93HOqZC1",
        "colab_type": "code",
        "outputId": "d542ecf3-c82b-4efc-b18c-5f4a739cbf67",
        "colab": {
          "base_uri": "https://localhost:8080/",
          "height": 0
        }
      },
      "source": [
        "print(medicaldf)"
      ],
      "execution_count": 8,
      "outputs": [
        {
          "output_type": "stream",
          "text": [
            "           PatientId  AppointmentID Gender  ... Handcap SMS_received  No-show\n",
            "0       2.987250e+13        5642903      F  ...       0            0       No\n",
            "1       5.589978e+14        5642503      M  ...       0            0       No\n",
            "2       4.262962e+12        5642549      F  ...       0            0       No\n",
            "3       8.679512e+11        5642828      F  ...       0            0       No\n",
            "4       8.841186e+12        5642494      F  ...       0            0       No\n",
            "...              ...            ...    ...  ...     ...          ...      ...\n",
            "110522  2.572134e+12        5651768      F  ...       0            1       No\n",
            "110523  3.596266e+12        5650093      F  ...       0            1       No\n",
            "110524  1.557663e+13        5630692      F  ...       0            1       No\n",
            "110525  9.213493e+13        5630323      F  ...       0            1       No\n",
            "110526  3.775115e+14        5629448      F  ...       0            1       No\n",
            "\n",
            "[110527 rows x 14 columns]\n"
          ],
          "name": "stdout"
        }
      ]
    },
    {
      "cell_type": "code",
      "metadata": {
        "id": "bLlOozUvuCe-",
        "colab_type": "code",
        "outputId": "1819b0ec-4570-4e27-af17-a3ac3e2b4bad",
        "colab": {
          "base_uri": "https://localhost:8080/",
          "height": 0
        }
      },
      "source": [
        "medicaldf.info()\n",
        "#110527 entries lot of data, 14 variable coloumns (features)"
      ],
      "execution_count": 9,
      "outputs": [
        {
          "output_type": "stream",
          "text": [
            "<class 'pandas.core.frame.DataFrame'>\n",
            "RangeIndex: 110527 entries, 0 to 110526\n",
            "Data columns (total 14 columns):\n",
            "PatientId         110527 non-null float64\n",
            "AppointmentID     110527 non-null int64\n",
            "Gender            110527 non-null object\n",
            "ScheduledDay      110527 non-null object\n",
            "AppointmentDay    110527 non-null object\n",
            "Age               110527 non-null int64\n",
            "Neighbourhood     110527 non-null object\n",
            "Scholarship       110527 non-null int64\n",
            "Hipertension      110527 non-null int64\n",
            "Diabetes          110527 non-null int64\n",
            "Alcoholism        110527 non-null int64\n",
            "Handcap           110527 non-null int64\n",
            "SMS_received      110527 non-null int64\n",
            "No-show           110527 non-null object\n",
            "dtypes: float64(1), int64(8), object(5)\n",
            "memory usage: 11.8+ MB\n"
          ],
          "name": "stdout"
        }
      ]
    },
    {
      "cell_type": "code",
      "metadata": {
        "id": "teZULNWPx1Di",
        "colab_type": "code",
        "outputId": "d27c924b-5b4a-4d15-d618-8fb8e2dd0d0f",
        "colab": {
          "base_uri": "https://localhost:8080/",
          "height": 0
        }
      },
      "source": [
        "medicaldf['No-show'].value_counts()"
      ],
      "execution_count": 10,
      "outputs": [
        {
          "output_type": "execute_result",
          "data": {
            "text/plain": [
              "No     88208\n",
              "Yes    22319\n",
              "Name: No-show, dtype: int64"
            ]
          },
          "metadata": {
            "tags": []
          },
          "execution_count": 10
        }
      ]
    },
    {
      "cell_type": "markdown",
      "metadata": {
        "id": "2LXH2eiiCFOT",
        "colab_type": "text"
      },
      "source": [
        "#### Changing the Target Class to Binary Representation"
      ]
    },
    {
      "cell_type": "code",
      "metadata": {
        "id": "husYA1U32w8j",
        "colab_type": "code",
        "outputId": "8306ce6d-785f-4c7c-f94a-b68bf7a2104f",
        "colab": {
          "base_uri": "https://localhost:8080/",
          "height": 0
        }
      },
      "source": [
        "# binary classification 1 is No and 0 is Yes\n",
        "medicaldf['No-show']=[0 if b== 'Yes' else 1 for b in medicaldf['No-show']]\n",
        "medicaldf['No-show'].value_counts()"
      ],
      "execution_count": 11,
      "outputs": [
        {
          "output_type": "execute_result",
          "data": {
            "text/plain": [
              "1    88208\n",
              "0    22319\n",
              "Name: No-show, dtype: int64"
            ]
          },
          "metadata": {
            "tags": []
          },
          "execution_count": 11
        }
      ]
    },
    {
      "cell_type": "code",
      "metadata": {
        "id": "jR58SEDE5P4L",
        "colab_type": "code",
        "outputId": "24a6daaa-1cbb-4a88-8239-aefb9afc11d6",
        "colab": {
          "base_uri": "https://localhost:8080/",
          "height": 0
        }
      },
      "source": [
        "print(medicaldf)"
      ],
      "execution_count": 12,
      "outputs": [
        {
          "output_type": "stream",
          "text": [
            "           PatientId  AppointmentID Gender  ... Handcap SMS_received  No-show\n",
            "0       2.987250e+13        5642903      F  ...       0            0        1\n",
            "1       5.589978e+14        5642503      M  ...       0            0        1\n",
            "2       4.262962e+12        5642549      F  ...       0            0        1\n",
            "3       8.679512e+11        5642828      F  ...       0            0        1\n",
            "4       8.841186e+12        5642494      F  ...       0            0        1\n",
            "...              ...            ...    ...  ...     ...          ...      ...\n",
            "110522  2.572134e+12        5651768      F  ...       0            1        1\n",
            "110523  3.596266e+12        5650093      F  ...       0            1        1\n",
            "110524  1.557663e+13        5630692      F  ...       0            1        1\n",
            "110525  9.213493e+13        5630323      F  ...       0            1        1\n",
            "110526  3.775115e+14        5629448      F  ...       0            1        1\n",
            "\n",
            "[110527 rows x 14 columns]\n"
          ],
          "name": "stdout"
        }
      ]
    },
    {
      "cell_type": "markdown",
      "metadata": {
        "id": "93scMCrbCXjk",
        "colab_type": "text"
      },
      "source": [
        "### Printing and getting info for Contraceptive Dataset"
      ]
    },
    {
      "cell_type": "code",
      "metadata": {
        "id": "57cU2fMGrbQy",
        "colab_type": "code",
        "outputId": "0c9a9861-c9c4-420c-8ff6-43d8ae12970f",
        "colab": {
          "base_uri": "https://localhost:8080/",
          "height": 0
        }
      },
      "source": [
        "print(conceptdf)"
      ],
      "execution_count": 13,
      "outputs": [
        {
          "output_type": "stream",
          "text": [
            "      Wife's Age  Wife's education  ...  Media exposure   Contraceptive method used\n",
            "0             24                 2  ...                0                          1\n",
            "1             45                 1  ...                0                          1\n",
            "2             43                 2  ...                0                          1\n",
            "3             42                 3  ...                0                          1\n",
            "4             36                 3  ...                0                          1\n",
            "...          ...               ...  ...              ...                        ...\n",
            "1468          33                 4  ...                0                          3\n",
            "1469          33                 4  ...                0                          3\n",
            "1470          39                 3  ...                0                          3\n",
            "1471          33                 3  ...                0                          3\n",
            "1472          17                 3  ...                0                          3\n",
            "\n",
            "[1473 rows x 10 columns]\n"
          ],
          "name": "stdout"
        }
      ]
    },
    {
      "cell_type": "code",
      "metadata": {
        "id": "hcU0ql86uO6_",
        "colab_type": "code",
        "outputId": "19e8350f-7860-4526-bbff-214af178b8a6",
        "colab": {
          "base_uri": "https://localhost:8080/",
          "height": 0
        }
      },
      "source": [
        "conceptdf.info()\n",
        "#1473 entries lot of data, 10 variable coloumns (features)"
      ],
      "execution_count": 14,
      "outputs": [
        {
          "output_type": "stream",
          "text": [
            "<class 'pandas.core.frame.DataFrame'>\n",
            "RangeIndex: 1473 entries, 0 to 1472\n",
            "Data columns (total 10 columns):\n",
            "Wife's Age                      1473 non-null int64\n",
            "Wife's education                1473 non-null int64\n",
            "Husband's education             1473 non-null int64\n",
            "Number of children ever born    1473 non-null int64\n",
            "Wife's religion                 1473 non-null int64\n",
            "Wife's now working?             1473 non-null int64\n",
            "Husband's occupation            1473 non-null int64\n",
            "Standard-of-living index        1473 non-null int64\n",
            "Media exposure                  1473 non-null int64\n",
            "Contraceptive method used       1473 non-null int64\n",
            "dtypes: int64(10)\n",
            "memory usage: 115.2 KB\n"
          ],
          "name": "stdout"
        }
      ]
    },
    {
      "cell_type": "code",
      "metadata": {
        "id": "tBoamjiFyH-a",
        "colab_type": "code",
        "outputId": "dd9457e8-079d-4c7d-f6f5-d57ecb891888",
        "colab": {
          "base_uri": "https://localhost:8080/",
          "height": 0
        }
      },
      "source": [
        "conceptdf['Contraceptive method used'].value_counts()"
      ],
      "execution_count": 15,
      "outputs": [
        {
          "output_type": "execute_result",
          "data": {
            "text/plain": [
              "1    629\n",
              "3    511\n",
              "2    333\n",
              "Name: Contraceptive method used, dtype: int64"
            ]
          },
          "metadata": {
            "tags": []
          },
          "execution_count": 15
        }
      ]
    },
    {
      "cell_type": "markdown",
      "metadata": {
        "id": "fp8b_jL6CgFr",
        "colab_type": "text"
      },
      "source": [
        "#### Changing the Target Class to Binary Representation"
      ]
    },
    {
      "cell_type": "code",
      "metadata": {
        "id": "OKw_GHUNyaGR",
        "colab_type": "code",
        "outputId": "99cabe8d-26b6-48b9-9329-f3d0fd028ad0",
        "colab": {
          "base_uri": "https://localhost:8080/",
          "height": 0
        }
      },
      "source": [
        "# binary classification 0 is not used and 1 is used contraceptive\n",
        "conceptdf['Contraceptive method used']=[0 if b== 1 else 1 for b in conceptdf['Contraceptive method used']]\n",
        "conceptdf['Contraceptive method used'].value_counts()\n"
      ],
      "execution_count": 16,
      "outputs": [
        {
          "output_type": "execute_result",
          "data": {
            "text/plain": [
              "1    844\n",
              "0    629\n",
              "Name: Contraceptive method used, dtype: int64"
            ]
          },
          "metadata": {
            "tags": []
          },
          "execution_count": 16
        }
      ]
    },
    {
      "cell_type": "code",
      "metadata": {
        "id": "USeAfBkj0aFj",
        "colab_type": "code",
        "outputId": "91a3a14e-a98e-4e38-96a2-199903d9bbf9",
        "colab": {
          "base_uri": "https://localhost:8080/",
          "height": 0
        }
      },
      "source": [
        "print(conceptdf)"
      ],
      "execution_count": 17,
      "outputs": [
        {
          "output_type": "stream",
          "text": [
            "      Wife's Age  Wife's education  ...  Media exposure   Contraceptive method used\n",
            "0             24                 2  ...                0                          0\n",
            "1             45                 1  ...                0                          0\n",
            "2             43                 2  ...                0                          0\n",
            "3             42                 3  ...                0                          0\n",
            "4             36                 3  ...                0                          0\n",
            "...          ...               ...  ...              ...                        ...\n",
            "1468          33                 4  ...                0                          1\n",
            "1469          33                 4  ...                0                          1\n",
            "1470          39                 3  ...                0                          1\n",
            "1471          33                 3  ...                0                          1\n",
            "1472          17                 3  ...                0                          1\n",
            "\n",
            "[1473 rows x 10 columns]\n"
          ],
          "name": "stdout"
        }
      ]
    },
    {
      "cell_type": "markdown",
      "metadata": {
        "id": "girYkRa_vca4",
        "colab_type": "text"
      },
      "source": [
        "##Checking the imbalance distribution"
      ]
    },
    {
      "cell_type": "markdown",
      "metadata": {
        "id": "ut-Xkr1pvovA",
        "colab_type": "text"
      },
      "source": [
        "###Bar Graph"
      ]
    },
    {
      "cell_type": "code",
      "metadata": {
        "id": "VJh3RcfUvC4Z",
        "colab_type": "code",
        "outputId": "e187288d-860a-47b0-9326-db7345b145ff",
        "colab": {
          "base_uri": "https://localhost:8080/",
          "height": 330
        }
      },
      "source": [
        "plt.title('GrowthBucket Distribution \\n (0: No_Recession || 1: Recession)', fontsize=14)\n",
        "sns.countplot(\"growthbucket\",data=africadf)"
      ],
      "execution_count": 18,
      "outputs": [
        {
          "output_type": "execute_result",
          "data": {
            "text/plain": [
              "<matplotlib.axes._subplots.AxesSubplot at 0x7fcbc590d748>"
            ]
          },
          "metadata": {
            "tags": []
          },
          "execution_count": 18
        },
        {
          "output_type": "display_data",
          "data": {
            "image/png": "[encoded data removed]",
            "text/plain": [
              "<Figure size 432x288 with 1 Axes>"
            ]
          },
          "metadata": {
            "tags": []
          }
        }
      ]
    },
    {
      "cell_type": "code",
      "metadata": {
        "id": "oCqWahhH8Sft",
        "colab_type": "code",
        "outputId": "0ccb7966-a73c-4378-fa9e-1d6427ad9f0e",
        "colab": {
          "base_uri": "https://localhost:8080/",
          "height": 330
        }
      },
      "source": [
        "plt.title('No Show for Appointment \\n (0: No Showed || 1: Showed up)', fontsize=14)\n",
        "sns.countplot(\"No-show\",data=medicaldf)"
      ],
      "execution_count": 19,
      "outputs": [
        {
          "output_type": "execute_result",
          "data": {
            "text/plain": [
              "<matplotlib.axes._subplots.AxesSubplot at 0x7fcbc53912b0>"
            ]
          },
          "metadata": {
            "tags": []
          },
          "execution_count": 19
        },
        {
          "output_type": "display_data",
          "data": {
            "image/png": "[encoded data removed]",
            "text/plain": [
              "<Figure size 432x288 with 1 Axes>"
            ]
          },
          "metadata": {
            "tags": []
          }
        }
      ]
    },
    {
      "cell_type": "code",
      "metadata": {
        "id": "WuGMsgAsvuT4",
        "colab_type": "code",
        "outputId": "d7ff647d-db23-406d-e54f-100d0d744a82",
        "colab": {
          "base_uri": "https://localhost:8080/",
          "height": 330
        }
      },
      "source": [
        "plt.title('Contraceptive Method Used \\n (0: Not Used || 1: Used)', fontsize=14)\n",
        "sns.countplot(\"Contraceptive method used\",data=conceptdf)"
      ],
      "execution_count": 20,
      "outputs": [
        {
          "output_type": "execute_result",
          "data": {
            "text/plain": [
              "<matplotlib.axes._subplots.AxesSubplot at 0x7fcbc5369390>"
            ]
          },
          "metadata": {
            "tags": []
          },
          "execution_count": 20
        },
        {
          "output_type": "display_data",
          "data": {
            "image/png": "[encoded data removed]",
            "text/plain": [
              "<Figure size 432x288 with 1 Axes>"
            ]
          },
          "metadata": {
            "tags": []
          }
        }
      ]
    },
    {
      "cell_type": "markdown",
      "metadata": {
        "id": "hwWK5ngiD2fL",
        "colab_type": "text"
      },
      "source": [
        "###Pie Chart Representing Percentage of Imbalance\n"
      ]
    },
    {
      "cell_type": "code",
      "metadata": {
        "id": "wkWj6zLiD5Cr",
        "colab_type": "code",
        "outputId": "3c709718-84ad-4cc1-8c42-3dd99794ff19",
        "colab": {
          "base_uri": "https://localhost:8080/",
          "height": 51
        }
      },
      "source": [
        "recession= len(africadf[africadf['growthbucket']==1])\n",
        "no_recession=len(africadf[africadf['growthbucket']==0])\n",
        "\n",
        "percentofrecession= recession/(recession+no_recession)\n",
        "percentofnorecession= no_recession/(recession+no_recession)\n",
        "\n",
        "print(\"Percentage of Recession is\", percentofrecession*100)\n",
        "print(\"Percentage of No Recession is\", percentofnorecession*100)\n"
      ],
      "execution_count": 21,
      "outputs": [
        {
          "output_type": "stream",
          "text": [
            "Percentage of Recession is 7.818930041152264\n",
            "Percentage of No Recession is 92.18106995884774\n"
          ],
          "name": "stdout"
        }
      ]
    },
    {
      "cell_type": "code",
      "metadata": {
        "id": "K1CPTQpNIEts",
        "colab_type": "code",
        "outputId": "d00e5365-ef01-417e-8714-e29c629073b9",
        "colab": {
          "base_uri": "https://localhost:8080/",
          "height": 250
        }
      },
      "source": [
        "labels = 'Recession','No Recession'\n",
        "\n",
        "sizes=[percentofrecession,percentofnorecession]\n",
        "\n",
        "explode=(0.2,0)\n",
        "\n",
        "fig1, ax1 =plt.subplots()\n",
        "\n",
        "ax1.pie(sizes,explode=explode,labels=labels,autopct='%1.1f%%', shadow= True, startangle=90)\n",
        "\n",
        "ax1.axis('equal')\n",
        "\n",
        "plt.show()\n",
        "\n",
        "##https://www.kaggle.com/janiobachmann/credit-fraud-dealing-with-imbalanced-datasets\n",
        "##https://towardsdatascience.com/data-pre-processing-techniques-you-should-know-8954662716d6"
      ],
      "execution_count": 23,
      "outputs": [
        {
          "output_type": "display_data",
          "data": {
            "image/png": "[encoded data removed]",
            "text/plain": [
              "<Figure size 432x288 with 1 Axes>"
            ]
          },
          "metadata": {
            "tags": []
          }
        }
      ]
    },
    {
      "cell_type": "code",
      "metadata": {
        "id": "1lCkyuNWtQ6l",
        "colab_type": "code",
        "colab": {
          "base_uri": "https://localhost:8080/",
          "height": 51
        },
        "outputId": "ec404df2-b58f-4e6d-d1f1-0dcd1c7aa133"
      },
      "source": [
        "noshow= len(medicaldf[medicaldf['No-show']==0])\n",
        "show=len(medicaldf[medicaldf['No-show']==1])\n",
        "\n",
        "percentofnoshow= noshow/(show+noshow)\n",
        "percentofshow=show/(show+noshow)\n",
        "\n",
        "print(\"Percentage of No Show is\", percentofnoshow*100)\n",
        "print(\"Percentage of Show is\", percentofshow*100)"
      ],
      "execution_count": 24,
      "outputs": [
        {
          "output_type": "stream",
          "text": [
            "Percentage of No Show is 20.193255946510806\n",
            "Percentage of Show is 79.8067440534892\n"
          ],
          "name": "stdout"
        }
      ]
    },
    {
      "cell_type": "code",
      "metadata": {
        "id": "I4J78DTZuUxF",
        "colab_type": "code",
        "colab": {
          "base_uri": "https://localhost:8080/",
          "height": 248
        },
        "outputId": "56571ff2-d704-47c0-9871-84a5f451f0bd"
      },
      "source": [
        "labels = 'No Show','Show'\n",
        "\n",
        "sizes=[percentofnoshow,percentofshow]\n",
        "\n",
        "explode=(0.1,0)\n",
        "\n",
        "fig1, ax1 =plt.subplots()\n",
        "\n",
        "ax1.pie(sizes,explode=explode,labels=labels,autopct='%1.1f%%', shadow= True, startangle=90)\n",
        "\n",
        "ax1.axis('equal')\n",
        "\n",
        "plt.show()"
      ],
      "execution_count": 26,
      "outputs": [
        {
          "output_type": "display_data",
          "data": {
            "image/png": "[encoded data removed]",
            "text/plain": [
              "<Figure size 432x288 with 1 Axes>"
            ]
          },
          "metadata": {
            "tags": []
          }
        }
      ]
    },
    {
      "cell_type": "code",
      "metadata": {
        "id": "zudCL91_veNF",
        "colab_type": "code",
        "colab": {
          "base_uri": "https://localhost:8080/",
          "height": 51
        },
        "outputId": "fbf0f272-a489-47d7-a1d2-b7befbaab874"
      },
      "source": [
        "noused= len(conceptdf[conceptdf['Contraceptive method used']==0])\n",
        "used=len(conceptdf[conceptdf['Contraceptive method used']==1])\n",
        "\n",
        "percentofnoused= noused/(used+noused)\n",
        "percentofused=used/(used+noused)\n",
        "\n",
        "print(\"Percentage of No Use is\", percentofnoused*100)\n",
        "print(\"Percentage of used is\", percentofused*100)"
      ],
      "execution_count": 30,
      "outputs": [
        {
          "output_type": "stream",
          "text": [
            "Percentage of No Use is 42.701968771215206\n",
            "Percentage of used is 57.298031228784794\n"
          ],
          "name": "stdout"
        }
      ]
    },
    {
      "cell_type": "code",
      "metadata": {
        "id": "CtQ1PrOGzW-O",
        "colab_type": "code",
        "colab": {
          "base_uri": "https://localhost:8080/",
          "height": 248
        },
        "outputId": "780d43d8-d810-41cf-ee36-00de0f2cd0e6"
      },
      "source": [
        "labels = 'No Use','Used'\n",
        "\n",
        "sizes=[percentofnoused,percentofused]\n",
        "\n",
        "explode=(0.1,0)\n",
        "\n",
        "fig1, ax1 =plt.subplots()\n",
        "\n",
        "ax1.pie(sizes,explode=explode,labels=labels,autopct='%1.1f%%', shadow= True, startangle=90)\n",
        "\n",
        "ax1.axis('equal')\n",
        "\n",
        "plt.show()"
      ],
      "execution_count": 31,
      "outputs": [
        {
          "output_type": "display_data",
          "data": {
            "image/png": "[encoded data removed]",
            "text/plain": [
              "<Figure size 432x288 with 1 Axes>"
            ]
          },
          "metadata": {
            "tags": []
          }
        }
      ]
    }
  ]
}