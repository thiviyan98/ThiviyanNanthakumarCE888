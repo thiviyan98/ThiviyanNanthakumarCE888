{
  "nbformat": 4,
  "nbformat_minor": 0,
  "metadata": {
    "colab": {
      "name": "Assignment1.ipynb",
      "provenance": [],
      "collapsed_sections": [
        "p9G0489pBuq8",
        "93scMCrbCXjk",
        "mWEOZn2mNmOg",
        "ugDP5JMeNsc4",
        "tzIJzJt4N1yh"
      ],
      "authorship_tag": "ABX9TyOPoiudeuxFNFS5U57xyxuk",
      "include_colab_link": true
    },
    "kernelspec": {
      "name": "python3",
      "display_name": "Python 3"
    },
    "accelerator": "GPU"
  },
  "cells": [
    {
      "cell_type": "markdown",
      "metadata": {
        "id": "view-in-github",
        "colab_type": "text"
      },
      "source": [
        "<a href=\"https://colab.research.google.com/github/thiviyan98/ThiviyanNanthakumarCE888/blob/master/Assignment1/Assignment1.ipynb\" target=\"_parent\"><img src=\"https://colab.research.google.com/assets/colab-badge.svg\" alt=\"Open In Colab\"/></a>"
      ]
    },
    {
      "cell_type": "markdown",
      "metadata": {
        "id": "h6SJCZltBNsU",
        "colab_type": "text"
      },
      "source": [
        "#Assignment 1"
      ]
    },
    {
      "cell_type": "code",
      "metadata": {
        "id": "m15NVbHoLPgD",
        "colab_type": "code",
        "colab": {}
      },
      "source": [
        "import seaborn as sns\n",
        "import numpy as np\n",
        "import pandas as pd\n",
        "import matplotlib.pyplot as plt\n",
        "from sklearn.preprocessing import LabelEncoder\n"
      ],
      "execution_count": 0,
      "outputs": []
    },
    {
      "cell_type": "markdown",
      "metadata": {
        "id": "xgUA1g_MlH-V",
        "colab_type": "text"
      },
      "source": [
        "##Import and Reading Dataset"
      ]
    },
    {
      "cell_type": "code",
      "metadata": {
        "id": "ilnY5kuDmsnz",
        "colab_type": "code",
        "colab": {}
      },
      "source": [
        "africadf = pd.read_csv('https://raw.githubusercontent.com/thiviyan98/ThiviyanNanthakumarCE888/master/Assignment1/Data/african-country-recession-dataset-2000-to-2017/africa_recession.csv', sep=',', quotechar='\"')\n",
        "\n",
        "medicaldf = pd.read_csv('https://raw.githubusercontent.com/thiviyan98/ThiviyanNanthakumarCE888/master/Assignment1/Data/noshowappointments/KaggleV2-May-2016.csv', sep=',', quotechar='\"')\n",
        "\n",
        "conceptdf = pd.read_csv('https://raw.githubusercontent.com/thiviyan98/ThiviyanNanthakumarCE888/master/Assignment1/Data/Contraceptive%20Method%20Choice%20Data%20Set/ContraceptiveMethodChoiceDataSet.csv', sep=',', quotechar='\"')\n"
      ],
      "execution_count": 0,
      "outputs": []
    },
    {
      "cell_type": "markdown",
      "metadata": {
        "id": "kgq70e15BS8P",
        "colab_type": "text"
      },
      "source": [
        "### Printing and getting info for Africa Dataset"
      ]
    },
    {
      "cell_type": "code",
      "metadata": {
        "id": "WYBiZs-qt6Ve",
        "colab_type": "code",
        "outputId": "51a2eb70-9fd1-443f-b2c3-cb93030db7d6",
        "colab": {
          "base_uri": "https://localhost:8080/",
          "height": 255
        }
      },
      "source": [
        "print(africadf)"
      ],
      "execution_count": 201,
      "outputs": [
        {
          "output_type": "stream",
          "text": [
            "           pop        emp  ...  fish_change  growthbucket\n",
            "0    28.849621   6.914298  ...     0.007576             0\n",
            "1    45.728313  13.623806  ...     0.007576             0\n",
            "2    33.262043  13.323813  ...     0.007576             0\n",
            "3     8.025703   3.869000  ...     0.007576             0\n",
            "4     1.061468   0.243000  ...     0.007576             0\n",
            "..         ...        ...  ...          ...           ...\n",
            "481  12.208407   6.215000  ...     0.026477             0\n",
            "482  29.784193  15.389316  ...     0.026477             1\n",
            "483  55.797787  25.301973  ...     0.026477             0\n",
            "484  15.850567   5.277823  ...     0.026477             0\n",
            "485   7.797694   3.468000  ...     0.026477             0\n",
            "\n",
            "[486 rows x 50 columns]\n"
          ],
          "name": "stdout"
        }
      ]
    },
    {
      "cell_type": "code",
      "metadata": {
        "id": "KGQszXgNttVo",
        "colab_type": "code",
        "outputId": "49b27105-3391-459d-b9d4-bbe9653976b0",
        "colab": {
          "base_uri": "https://localhost:8080/",
          "height": 952
        }
      },
      "source": [
        "africadf.info()\n",
        "#checked if there is missing values from the coloumn\n",
        "#486 entries lot of data, 50 variable coloumns (features)"
      ],
      "execution_count": 202,
      "outputs": [
        {
          "output_type": "stream",
          "text": [
            "<class 'pandas.core.frame.DataFrame'>\n",
            "RangeIndex: 486 entries, 0 to 485\n",
            "Data columns (total 50 columns):\n",
            "pop                       486 non-null float64\n",
            "emp                       486 non-null float64\n",
            "emp_to_pop_ratio          486 non-null float64\n",
            "hc                        486 non-null float64\n",
            "ccon                      486 non-null float64\n",
            "cda                       486 non-null float64\n",
            "cn                        486 non-null float64\n",
            "ck                        486 non-null float64\n",
            "ctfp                      486 non-null float64\n",
            "cwtfp                     486 non-null float64\n",
            "rconna                    486 non-null float64\n",
            "rdana                     486 non-null float64\n",
            "rnna                      486 non-null float64\n",
            "rkna                      486 non-null float64\n",
            "rtfpna                    486 non-null float64\n",
            "rwtfpna                   486 non-null float64\n",
            "labsh                     486 non-null float64\n",
            "irr                       486 non-null float64\n",
            "delta                     486 non-null float64\n",
            "xr                        486 non-null float64\n",
            "pl_con                    486 non-null float64\n",
            "pl_da                     486 non-null float64\n",
            "pl_gdpo                   486 non-null float64\n",
            "csh_c                     486 non-null float64\n",
            "csh_i                     486 non-null float64\n",
            "csh_g                     486 non-null float64\n",
            "csh_x                     486 non-null float64\n",
            "csh_m                     486 non-null float64\n",
            "csh_r                     486 non-null float64\n",
            "pl_c                      486 non-null float64\n",
            "pl_i                      486 non-null float64\n",
            "pl_g                      486 non-null float64\n",
            "pl_x                      486 non-null float64\n",
            "pl_m                      486 non-null float64\n",
            "pl_n                      486 non-null float64\n",
            "total                     486 non-null float64\n",
            "excl_energy               486 non-null float64\n",
            "energy                    486 non-null float64\n",
            "metals_minerals           486 non-null float64\n",
            "forestry                  486 non-null float64\n",
            "agriculture               486 non-null float64\n",
            "fish                      486 non-null float64\n",
            "total_change              486 non-null float64\n",
            "excl_energy_change        486 non-null float64\n",
            "energy_change             486 non-null float64\n",
            "metals_minerals_change    486 non-null float64\n",
            "forestry_change           486 non-null float64\n",
            "agriculture_change        486 non-null float64\n",
            "fish_change               486 non-null float64\n",
            "growthbucket              486 non-null int64\n",
            "dtypes: float64(49), int64(1)\n",
            "memory usage: 190.0 KB\n"
          ],
          "name": "stdout"
        }
      ]
    },
    {
      "cell_type": "code",
      "metadata": {
        "id": "_-ArHv59AnQi",
        "colab_type": "code",
        "colab": {
          "base_uri": "https://localhost:8080/",
          "height": 34
        },
        "outputId": "24f12439-22bc-4d3c-9074-79f9f5c8b647"
      },
      "source": [
        "#Double check if there is missing values\n",
        "africadf.isnull().any().sum()>0"
      ],
      "execution_count": 203,
      "outputs": [
        {
          "output_type": "execute_result",
          "data": {
            "text/plain": [
              "False"
            ]
          },
          "metadata": {
            "tags": []
          },
          "execution_count": 203
        }
      ]
    },
    {
      "cell_type": "markdown",
      "metadata": {
        "id": "gv3-TRZUSpwy",
        "colab_type": "text"
      },
      "source": [
        "Adding ID"
      ]
    },
    {
      "cell_type": "code",
      "metadata": {
        "id": "DXY5WeywSsjb",
        "colab_type": "code",
        "colab": {
          "base_uri": "https://localhost:8080/",
          "height": 255
        },
        "outputId": "a4f6335d-4197-4595-e3a8-24b94f4985c5"
      },
      "source": [
        "countryID=np.array(range(len(africadf)))\n",
        "\n",
        "africadf['CountryID']=countryID\n",
        "\n",
        "print(africadf)"
      ],
      "execution_count": 204,
      "outputs": [
        {
          "output_type": "stream",
          "text": [
            "           pop        emp  ...  growthbucket  CountryID\n",
            "0    28.849621   6.914298  ...             0          0\n",
            "1    45.728313  13.623806  ...             0          1\n",
            "2    33.262043  13.323813  ...             0          2\n",
            "3     8.025703   3.869000  ...             0          3\n",
            "4     1.061468   0.243000  ...             0          4\n",
            "..         ...        ...  ...           ...        ...\n",
            "481  12.208407   6.215000  ...             0        481\n",
            "482  29.784193  15.389316  ...             1        482\n",
            "483  55.797787  25.301973  ...             0        483\n",
            "484  15.850567   5.277823  ...             0        484\n",
            "485   7.797694   3.468000  ...             0        485\n",
            "\n",
            "[486 rows x 51 columns]\n"
          ],
          "name": "stdout"
        }
      ]
    },
    {
      "cell_type": "code",
      "metadata": {
        "id": "G-8tcCsUxrix",
        "colab_type": "code",
        "outputId": "d4c27cf0-48e6-4b70-9229-950721242d54",
        "colab": {
          "base_uri": "https://localhost:8080/",
          "height": 68
        }
      },
      "source": [
        "africadf['growthbucket'].value_counts() ##finding the target variable "
      ],
      "execution_count": 205,
      "outputs": [
        {
          "output_type": "execute_result",
          "data": {
            "text/plain": [
              "0    448\n",
              "1     38\n",
              "Name: growthbucket, dtype: int64"
            ]
          },
          "metadata": {
            "tags": []
          },
          "execution_count": 205
        }
      ]
    },
    {
      "cell_type": "markdown",
      "metadata": {
        "id": "p9G0489pBuq8",
        "colab_type": "text"
      },
      "source": [
        "### Printing and getting info for Medical Dataset"
      ]
    },
    {
      "cell_type": "code",
      "metadata": {
        "id": "BxPf93HOqZC1",
        "colab_type": "code",
        "outputId": "8bd1ce0d-76b0-458c-c9a2-d89e92f69cc8",
        "colab": {
          "base_uri": "https://localhost:8080/",
          "height": 255
        }
      },
      "source": [
        "print(medicaldf)"
      ],
      "execution_count": 206,
      "outputs": [
        {
          "output_type": "stream",
          "text": [
            "           PatientId  AppointmentID Gender  ... Handcap SMS_received  No-show\n",
            "0       2.987250e+13        5642903      F  ...       0            0       No\n",
            "1       5.589978e+14        5642503      M  ...       0            0       No\n",
            "2       4.262962e+12        5642549      F  ...       0            0       No\n",
            "3       8.679512e+11        5642828      F  ...       0            0       No\n",
            "4       8.841186e+12        5642494      F  ...       0            0       No\n",
            "...              ...            ...    ...  ...     ...          ...      ...\n",
            "110522  2.572134e+12        5651768      F  ...       0            1       No\n",
            "110523  3.596266e+12        5650093      F  ...       0            1       No\n",
            "110524  1.557663e+13        5630692      F  ...       0            1       No\n",
            "110525  9.213493e+13        5630323      F  ...       0            1       No\n",
            "110526  3.775115e+14        5629448      F  ...       0            1       No\n",
            "\n",
            "[110527 rows x 14 columns]\n"
          ],
          "name": "stdout"
        }
      ]
    },
    {
      "cell_type": "code",
      "metadata": {
        "id": "bLlOozUvuCe-",
        "colab_type": "code",
        "outputId": "92f9ffd1-d73d-48b8-f9e3-30c8f495463f",
        "colab": {
          "base_uri": "https://localhost:8080/",
          "height": 340
        }
      },
      "source": [
        "medicaldf.info()\n",
        "#checked if there is missing values from the coloumn\n",
        "#110527 entries lot of data, 14 variable coloumns (features)"
      ],
      "execution_count": 207,
      "outputs": [
        {
          "output_type": "stream",
          "text": [
            "<class 'pandas.core.frame.DataFrame'>\n",
            "RangeIndex: 110527 entries, 0 to 110526\n",
            "Data columns (total 14 columns):\n",
            "PatientId         110527 non-null float64\n",
            "AppointmentID     110527 non-null int64\n",
            "Gender            110527 non-null object\n",
            "ScheduledDay      110527 non-null object\n",
            "AppointmentDay    110527 non-null object\n",
            "Age               110527 non-null int64\n",
            "Neighbourhood     110527 non-null object\n",
            "Scholarship       110527 non-null int64\n",
            "Hipertension      110527 non-null int64\n",
            "Diabetes          110527 non-null int64\n",
            "Alcoholism        110527 non-null int64\n",
            "Handcap           110527 non-null int64\n",
            "SMS_received      110527 non-null int64\n",
            "No-show           110527 non-null object\n",
            "dtypes: float64(1), int64(8), object(5)\n",
            "memory usage: 11.8+ MB\n"
          ],
          "name": "stdout"
        }
      ]
    },
    {
      "cell_type": "code",
      "metadata": {
        "id": "EZlT6W-jEtLx",
        "colab_type": "code",
        "colab": {
          "base_uri": "https://localhost:8080/",
          "height": 34
        },
        "outputId": "2f0c47af-836b-4bd8-f8d1-7a03df30a2d0"
      },
      "source": [
        "#Double check if there is missing values\n",
        "medicaldf.isnull().any().sum()>0"
      ],
      "execution_count": 208,
      "outputs": [
        {
          "output_type": "execute_result",
          "data": {
            "text/plain": [
              "False"
            ]
          },
          "metadata": {
            "tags": []
          },
          "execution_count": 208
        }
      ]
    },
    {
      "cell_type": "markdown",
      "metadata": {
        "id": "1SEc8pkEMgeY",
        "colab_type": "text"
      },
      "source": [
        "####Cleaning up the data"
      ]
    },
    {
      "cell_type": "code",
      "metadata": {
        "id": "htTfxK6AJb_3",
        "colab_type": "code",
        "colab": {
          "base_uri": "https://localhost:8080/",
          "height": 340
        },
        "outputId": "3e6e2cda-443d-43fb-b5f1-693337d9e3fe"
      },
      "source": [
        "medicaldf[[\"Gender\"]]=medicaldf[[\"Gender\"]].apply(LabelEncoder().fit_transform) # 0 is female 1 is male\n",
        "\n",
        "medicaldf[['Neighbourhood']]=medicaldf[['Neighbourhood']].apply(LabelEncoder().fit_transform) # see which neighbourhood missed most\n",
        "\n",
        "medicaldf.info()"
      ],
      "execution_count": 209,
      "outputs": [
        {
          "output_type": "stream",
          "text": [
            "<class 'pandas.core.frame.DataFrame'>\n",
            "RangeIndex: 110527 entries, 0 to 110526\n",
            "Data columns (total 14 columns):\n",
            "PatientId         110527 non-null float64\n",
            "AppointmentID     110527 non-null int64\n",
            "Gender            110527 non-null int64\n",
            "ScheduledDay      110527 non-null object\n",
            "AppointmentDay    110527 non-null object\n",
            "Age               110527 non-null int64\n",
            "Neighbourhood     110527 non-null int64\n",
            "Scholarship       110527 non-null int64\n",
            "Hipertension      110527 non-null int64\n",
            "Diabetes          110527 non-null int64\n",
            "Alcoholism        110527 non-null int64\n",
            "Handcap           110527 non-null int64\n",
            "SMS_received      110527 non-null int64\n",
            "No-show           110527 non-null object\n",
            "dtypes: float64(1), int64(10), object(3)\n",
            "memory usage: 11.8+ MB\n"
          ],
          "name": "stdout"
        }
      ]
    },
    {
      "cell_type": "markdown",
      "metadata": {
        "id": "2LXH2eiiCFOT",
        "colab_type": "text"
      },
      "source": [
        "#### Changing the Target Class to Binary Representation"
      ]
    },
    {
      "cell_type": "code",
      "metadata": {
        "id": "teZULNWPx1Di",
        "colab_type": "code",
        "outputId": "d6ed879b-4337-4532-f31f-f09c0fd88d80",
        "colab": {
          "base_uri": "https://localhost:8080/",
          "height": 68
        }
      },
      "source": [
        "medicaldf['No-show'].value_counts()"
      ],
      "execution_count": 210,
      "outputs": [
        {
          "output_type": "execute_result",
          "data": {
            "text/plain": [
              "No     88208\n",
              "Yes    22319\n",
              "Name: No-show, dtype: int64"
            ]
          },
          "metadata": {
            "tags": []
          },
          "execution_count": 210
        }
      ]
    },
    {
      "cell_type": "code",
      "metadata": {
        "id": "husYA1U32w8j",
        "colab_type": "code",
        "outputId": "5d58ded0-040d-492e-f397-a38af6974907",
        "colab": {
          "base_uri": "https://localhost:8080/",
          "height": 68
        }
      },
      "source": [
        "# binary classification 1 is No and 0 is Yes\n",
        "medicaldf['No-show']=[0 if b== 'Yes' else 1 for b in medicaldf['No-show']]\n",
        "medicaldf['No-show'].value_counts()"
      ],
      "execution_count": 211,
      "outputs": [
        {
          "output_type": "execute_result",
          "data": {
            "text/plain": [
              "1    88208\n",
              "0    22319\n",
              "Name: No-show, dtype: int64"
            ]
          },
          "metadata": {
            "tags": []
          },
          "execution_count": 211
        }
      ]
    },
    {
      "cell_type": "code",
      "metadata": {
        "id": "jR58SEDE5P4L",
        "colab_type": "code",
        "outputId": "d944a1b4-897d-4fbf-9845-ae585376fb7a",
        "colab": {
          "base_uri": "https://localhost:8080/",
          "height": 255
        }
      },
      "source": [
        "print(medicaldf)"
      ],
      "execution_count": 212,
      "outputs": [
        {
          "output_type": "stream",
          "text": [
            "           PatientId  AppointmentID  Gender  ... Handcap SMS_received  No-show\n",
            "0       2.987250e+13        5642903       0  ...       0            0        1\n",
            "1       5.589978e+14        5642503       1  ...       0            0        1\n",
            "2       4.262962e+12        5642549       0  ...       0            0        1\n",
            "3       8.679512e+11        5642828       0  ...       0            0        1\n",
            "4       8.841186e+12        5642494       0  ...       0            0        1\n",
            "...              ...            ...     ...  ...     ...          ...      ...\n",
            "110522  2.572134e+12        5651768       0  ...       0            1        1\n",
            "110523  3.596266e+12        5650093       0  ...       0            1        1\n",
            "110524  1.557663e+13        5630692       0  ...       0            1        1\n",
            "110525  9.213493e+13        5630323       0  ...       0            1        1\n",
            "110526  3.775115e+14        5629448       0  ...       0            1        1\n",
            "\n",
            "[110527 rows x 14 columns]\n"
          ],
          "name": "stdout"
        }
      ]
    },
    {
      "cell_type": "markdown",
      "metadata": {
        "id": "93scMCrbCXjk",
        "colab_type": "text"
      },
      "source": [
        "### Printing and getting info for Contraceptive Dataset"
      ]
    },
    {
      "cell_type": "code",
      "metadata": {
        "id": "57cU2fMGrbQy",
        "colab_type": "code",
        "outputId": "c7558bf4-2df3-4922-cad7-ee5eb66fd48e",
        "colab": {
          "base_uri": "https://localhost:8080/",
          "height": 255
        }
      },
      "source": [
        "print(conceptdf)"
      ],
      "execution_count": 213,
      "outputs": [
        {
          "output_type": "stream",
          "text": [
            "      Wife's Age  Wife's education  ...  Media exposure   Contraceptive method used\n",
            "0             24                 2  ...                0                          1\n",
            "1             45                 1  ...                0                          1\n",
            "2             43                 2  ...                0                          1\n",
            "3             42                 3  ...                0                          1\n",
            "4             36                 3  ...                0                          1\n",
            "...          ...               ...  ...              ...                        ...\n",
            "1468          33                 4  ...                0                          3\n",
            "1469          33                 4  ...                0                          3\n",
            "1470          39                 3  ...                0                          3\n",
            "1471          33                 3  ...                0                          3\n",
            "1472          17                 3  ...                0                          3\n",
            "\n",
            "[1473 rows x 10 columns]\n"
          ],
          "name": "stdout"
        }
      ]
    },
    {
      "cell_type": "code",
      "metadata": {
        "id": "hcU0ql86uO6_",
        "colab_type": "code",
        "outputId": "6af7a7e0-5358-4a44-8218-fcf3d7661a70",
        "colab": {
          "base_uri": "https://localhost:8080/",
          "height": 272
        }
      },
      "source": [
        "conceptdf.info()\n",
        "#checked if there is missing values from the coloumn\n",
        "#1473 entries lot of data, 10 variable coloumns (features)"
      ],
      "execution_count": 214,
      "outputs": [
        {
          "output_type": "stream",
          "text": [
            "<class 'pandas.core.frame.DataFrame'>\n",
            "RangeIndex: 1473 entries, 0 to 1472\n",
            "Data columns (total 10 columns):\n",
            "Wife's Age                      1473 non-null int64\n",
            "Wife's education                1473 non-null int64\n",
            "Husband's education             1473 non-null int64\n",
            "Number of children ever born    1473 non-null int64\n",
            "Wife's religion                 1473 non-null int64\n",
            "Wife's now working?             1473 non-null int64\n",
            "Husband's occupation            1473 non-null int64\n",
            "Standard-of-living index        1473 non-null int64\n",
            "Media exposure                  1473 non-null int64\n",
            "Contraceptive method used       1473 non-null int64\n",
            "dtypes: int64(10)\n",
            "memory usage: 115.2 KB\n"
          ],
          "name": "stdout"
        }
      ]
    },
    {
      "cell_type": "code",
      "metadata": {
        "id": "wDh3ljCzE5vo",
        "colab_type": "code",
        "colab": {
          "base_uri": "https://localhost:8080/",
          "height": 34
        },
        "outputId": "3dc33412-4009-4581-b28d-98cbc48bd57c"
      },
      "source": [
        "#Double check if there is missing values\n",
        "conceptdf.isnull().any().sum()>0"
      ],
      "execution_count": 215,
      "outputs": [
        {
          "output_type": "execute_result",
          "data": {
            "text/plain": [
              "False"
            ]
          },
          "metadata": {
            "tags": []
          },
          "execution_count": 215
        }
      ]
    },
    {
      "cell_type": "markdown",
      "metadata": {
        "id": "jnmH5U7JQ7-h",
        "colab_type": "text"
      },
      "source": [
        "####Adding ID for each wife\n",
        "\n"
      ]
    },
    {
      "cell_type": "code",
      "metadata": {
        "id": "KvyuQhIiQ7Y6",
        "colab_type": "code",
        "colab": {
          "base_uri": "https://localhost:8080/",
          "height": 255
        },
        "outputId": "d13859d9-d675-4149-defd-76a508bf452e"
      },
      "source": [
        "ID=np.array(range(len(conceptdf)))\n",
        "\n",
        "conceptdf['ID']=ID\n",
        "\n",
        "print(conceptdf)"
      ],
      "execution_count": 216,
      "outputs": [
        {
          "output_type": "stream",
          "text": [
            "      Wife's Age  Wife's education  ...  Contraceptive method used    ID\n",
            "0             24                 2  ...                          1     0\n",
            "1             45                 1  ...                          1     1\n",
            "2             43                 2  ...                          1     2\n",
            "3             42                 3  ...                          1     3\n",
            "4             36                 3  ...                          1     4\n",
            "...          ...               ...  ...                        ...   ...\n",
            "1468          33                 4  ...                          3  1468\n",
            "1469          33                 4  ...                          3  1469\n",
            "1470          39                 3  ...                          3  1470\n",
            "1471          33                 3  ...                          3  1471\n",
            "1472          17                 3  ...                          3  1472\n",
            "\n",
            "[1473 rows x 11 columns]\n"
          ],
          "name": "stdout"
        }
      ]
    },
    {
      "cell_type": "markdown",
      "metadata": {
        "id": "fp8b_jL6CgFr",
        "colab_type": "text"
      },
      "source": [
        "#### Changing the Target Class to Binary Representation"
      ]
    },
    {
      "cell_type": "code",
      "metadata": {
        "id": "tBoamjiFyH-a",
        "colab_type": "code",
        "outputId": "e2ab8dcd-11b0-45f5-e29c-d40796bd29a9",
        "colab": {
          "base_uri": "https://localhost:8080/",
          "height": 85
        }
      },
      "source": [
        "conceptdf['Contraceptive method used'].value_counts()"
      ],
      "execution_count": 217,
      "outputs": [
        {
          "output_type": "execute_result",
          "data": {
            "text/plain": [
              "1    629\n",
              "3    511\n",
              "2    333\n",
              "Name: Contraceptive method used, dtype: int64"
            ]
          },
          "metadata": {
            "tags": []
          },
          "execution_count": 217
        }
      ]
    },
    {
      "cell_type": "code",
      "metadata": {
        "id": "OKw_GHUNyaGR",
        "colab_type": "code",
        "outputId": "8d3e35a1-0839-4b21-b6a4-22ec5e9dbc57",
        "colab": {
          "base_uri": "https://localhost:8080/",
          "height": 68
        }
      },
      "source": [
        "# binary classification 0 is not used and 1 is used contraceptive\n",
        "conceptdf['Contraceptive method used']=[0 if b== 1 else 1 for b in conceptdf['Contraceptive method used']]\n",
        "conceptdf['Contraceptive method used'].value_counts()\n"
      ],
      "execution_count": 218,
      "outputs": [
        {
          "output_type": "execute_result",
          "data": {
            "text/plain": [
              "1    844\n",
              "0    629\n",
              "Name: Contraceptive method used, dtype: int64"
            ]
          },
          "metadata": {
            "tags": []
          },
          "execution_count": 218
        }
      ]
    },
    {
      "cell_type": "code",
      "metadata": {
        "id": "USeAfBkj0aFj",
        "colab_type": "code",
        "outputId": "30563613-6a4a-443c-ba61-4d018806df6d",
        "colab": {
          "base_uri": "https://localhost:8080/",
          "height": 255
        }
      },
      "source": [
        "print(conceptdf)"
      ],
      "execution_count": 219,
      "outputs": [
        {
          "output_type": "stream",
          "text": [
            "      Wife's Age  Wife's education  ...  Contraceptive method used    ID\n",
            "0             24                 2  ...                          0     0\n",
            "1             45                 1  ...                          0     1\n",
            "2             43                 2  ...                          0     2\n",
            "3             42                 3  ...                          0     3\n",
            "4             36                 3  ...                          0     4\n",
            "...          ...               ...  ...                        ...   ...\n",
            "1468          33                 4  ...                          1  1468\n",
            "1469          33                 4  ...                          1  1469\n",
            "1470          39                 3  ...                          1  1470\n",
            "1471          33                 3  ...                          1  1471\n",
            "1472          17                 3  ...                          1  1472\n",
            "\n",
            "[1473 rows x 11 columns]\n"
          ],
          "name": "stdout"
        }
      ]
    },
    {
      "cell_type": "markdown",
      "metadata": {
        "id": "girYkRa_vca4",
        "colab_type": "text"
      },
      "source": [
        "##Checking the imbalance"
      ]
    },
    {
      "cell_type": "markdown",
      "metadata": {
        "id": "ut-Xkr1pvovA",
        "colab_type": "text"
      },
      "source": [
        "###Bar Graph for distribution"
      ]
    },
    {
      "cell_type": "markdown",
      "metadata": {
        "id": "RxzpAlZWDE7U",
        "colab_type": "text"
      },
      "source": [
        "The distributions shows how skewed these features are. "
      ]
    },
    {
      "cell_type": "markdown",
      "metadata": {
        "id": "xS1dV3qdNcBB",
        "colab_type": "text"
      },
      "source": [
        "#####Africa Dataset"
      ]
    },
    {
      "cell_type": "code",
      "metadata": {
        "id": "VJh3RcfUvC4Z",
        "colab_type": "code",
        "outputId": "218e56f1-f074-40d4-fc33-b172e5291f0d",
        "colab": {
          "base_uri": "https://localhost:8080/",
          "height": 330
        }
      },
      "source": [
        "plt.title('GrowthBucket Distribution \\n (0: No_Recession || 1: Recession)', fontsize=14)\n",
        "sns.countplot(\"growthbucket\",data=africadf)"
      ],
      "execution_count": 220,
      "outputs": [
        {
          "output_type": "execute_result",
          "data": {
            "text/plain": [
              "<matplotlib.axes._subplots.AxesSubplot at 0x7fb55a82d358>"
            ]
          },
          "metadata": {
            "tags": []
          },
          "execution_count": 220
        },
        {
          "output_type": "display_data",
          "data": {
            "image/png": "[encoded data removed]",
            "text/plain": [
              "<Figure size 432x288 with 1 Axes>"
            ]
          },
          "metadata": {
            "tags": []
          }
        }
      ]
    },
    {
      "cell_type": "markdown",
      "metadata": {
        "id": "vS5EZZRUNhuY",
        "colab_type": "text"
      },
      "source": [
        "#####Medical Dataset"
      ]
    },
    {
      "cell_type": "code",
      "metadata": {
        "id": "oCqWahhH8Sft",
        "colab_type": "code",
        "outputId": "db9663aa-ad86-4ee9-8b17-e21d687f2a8c",
        "colab": {
          "base_uri": "https://localhost:8080/",
          "height": 330
        }
      },
      "source": [
        "plt.title('No Show for Appointment \\n (0: No Showed || 1: Showed up)', fontsize=14)\n",
        "sns.countplot(\"No-show\",data=medicaldf)"
      ],
      "execution_count": 221,
      "outputs": [
        {
          "output_type": "execute_result",
          "data": {
            "text/plain": [
              "<matplotlib.axes._subplots.AxesSubplot at 0x7fb55ae5d0b8>"
            ]
          },
          "metadata": {
            "tags": []
          },
          "execution_count": 221
        },
        {
          "output_type": "display_data",
          "data": {
            "image/png": "[encoded data removed]",
            "text/plain": [
              "<Figure size 432x288 with 1 Axes>"
            ]
          },
          "metadata": {
            "tags": []
          }
        }
      ]
    },
    {
      "cell_type": "markdown",
      "metadata": {
        "id": "mWEOZn2mNmOg",
        "colab_type": "text"
      },
      "source": [
        "#####Contraceptive Dataset"
      ]
    },
    {
      "cell_type": "code",
      "metadata": {
        "id": "WuGMsgAsvuT4",
        "colab_type": "code",
        "outputId": "62a749bf-9132-4444-9832-8e1d85dfc852",
        "colab": {
          "base_uri": "https://localhost:8080/",
          "height": 0
        }
      },
      "source": [
        "plt.title('Contraceptive Method Used \\n (0: Not Used || 1: Used)', fontsize=14)\n",
        "sns.countplot(\"Contraceptive method used\",data=conceptdf)"
      ],
      "execution_count": 222,
      "outputs": [
        {
          "output_type": "execute_result",
          "data": {
            "text/plain": [
              "<matplotlib.axes._subplots.AxesSubplot at 0x7fb55af00da0>"
            ]
          },
          "metadata": {
            "tags": []
          },
          "execution_count": 222
        },
        {
          "output_type": "display_data",
          "data": {
            "image/png": "[encoded data removed]",
            "text/plain": [
              "<Figure size 432x288 with 1 Axes>"
            ]
          },
          "metadata": {
            "tags": []
          }
        }
      ]
    },
    {
      "cell_type": "markdown",
      "metadata": {
        "id": "hwWK5ngiD2fL",
        "colab_type": "text"
      },
      "source": [
        "###Pie Chart Representing Percentage of Imbalance\n"
      ]
    },
    {
      "cell_type": "markdown",
      "metadata": {
        "id": "ugDP5JMeNsc4",
        "colab_type": "text"
      },
      "source": [
        "####Africa Dataset\n"
      ]
    },
    {
      "cell_type": "code",
      "metadata": {
        "id": "wkWj6zLiD5Cr",
        "colab_type": "code",
        "outputId": "f44b078e-3506-48e2-835f-8e45286a01fb",
        "colab": {
          "base_uri": "https://localhost:8080/",
          "height": 0
        }
      },
      "source": [
        "recession= len(africadf[africadf['growthbucket']==1])\n",
        "no_recession=len(africadf[africadf['growthbucket']==0])\n",
        "\n",
        "percentofrecession= recession/(recession+no_recession)\n",
        "percentofnorecession= no_recession/(recession+no_recession)\n",
        "\n",
        "print(\"Percentage of Recession is\", percentofrecession*100)\n",
        "print(\"Percentage of No Recession is\", percentofnorecession*100)\n"
      ],
      "execution_count": 223,
      "outputs": [
        {
          "output_type": "stream",
          "text": [
            "Percentage of Recession is 7.818930041152264\n",
            "Percentage of No Recession is 92.18106995884774\n"
          ],
          "name": "stdout"
        }
      ]
    },
    {
      "cell_type": "code",
      "metadata": {
        "id": "K1CPTQpNIEts",
        "colab_type": "code",
        "outputId": "a4c3887b-65d9-4f56-d9f5-c5d3f2c872b1",
        "colab": {
          "base_uri": "https://localhost:8080/",
          "height": 0
        }
      },
      "source": [
        "\n",
        "labels = 'Recession','No Recession'\n",
        "\n",
        "sizes=[percentofrecession,percentofnorecession]\n",
        "\n",
        "explode=(0.2,0)\n",
        "\n",
        "fig1, ax1 =plt.subplots()\n",
        "\n",
        "ax1.pie(sizes,explode=explode,labels=labels,autopct='%1.1f%%', shadow= True, startangle=90)\n",
        "\n",
        "ax1.axis('equal')\n",
        "\n",
        "plt.show()"
      ],
      "execution_count": 224,
      "outputs": [
        {
          "output_type": "display_data",
          "data": {
            "image/png": "[encoded data removed]",
            "text/plain": [
              "<Figure size 432x288 with 1 Axes>"
            ]
          },
          "metadata": {
            "tags": []
          }
        }
      ]
    },
    {
      "cell_type": "markdown",
      "metadata": {
        "id": "tzIJzJt4N1yh",
        "colab_type": "text"
      },
      "source": [
        "####Medical Dataset"
      ]
    },
    {
      "cell_type": "code",
      "metadata": {
        "id": "1lCkyuNWtQ6l",
        "colab_type": "code",
        "outputId": "c1cf2de4-09be-4355-8f28-b8c541877586",
        "colab": {
          "base_uri": "https://localhost:8080/",
          "height": 0
        }
      },
      "source": [
        "noshow= len(medicaldf[medicaldf['No-show']==0])\n",
        "show=len(medicaldf[medicaldf['No-show']==1])\n",
        "\n",
        "percentofnoshow= noshow/(show+noshow)\n",
        "percentofshow=show/(show+noshow)\n",
        "\n",
        "print(\"Percentage of No Show is\", percentofnoshow*100)\n",
        "print(\"Percentage of Show is\", percentofshow*100)"
      ],
      "execution_count": 225,
      "outputs": [
        {
          "output_type": "stream",
          "text": [
            "Percentage of No Show is 20.193255946510806\n",
            "Percentage of Show is 79.8067440534892\n"
          ],
          "name": "stdout"
        }
      ]
    },
    {
      "cell_type": "code",
      "metadata": {
        "id": "I4J78DTZuUxF",
        "colab_type": "code",
        "outputId": "22d86b7d-168b-4525-c2ee-2f5d4f3f2b77",
        "colab": {
          "base_uri": "https://localhost:8080/",
          "height": 0
        }
      },
      "source": [
        "labels = 'No Show','Show'\n",
        "\n",
        "sizes=[percentofnoshow,percentofshow]\n",
        "\n",
        "explode=(0.1,0)\n",
        "\n",
        "fig1, ax1 =plt.subplots()\n",
        "\n",
        "ax1.pie(sizes,explode=explode,labels=labels,autopct='%1.1f%%', shadow= True, startangle=90)\n",
        "\n",
        "ax1.axis('equal')\n",
        "\n",
        "plt.show()"
      ],
      "execution_count": 226,
      "outputs": [
        {
          "output_type": "display_data",
          "data": {
            "image/png": "[encoded data removed]",
            "text/plain": [
              "<Figure size 432x288 with 1 Axes>"
            ]
          },
          "metadata": {
            "tags": []
          }
        }
      ]
    },
    {
      "cell_type": "markdown",
      "metadata": {
        "id": "Zf8bBeg2N7Ag",
        "colab_type": "text"
      },
      "source": [
        "####Contraceptive Dataset"
      ]
    },
    {
      "cell_type": "code",
      "metadata": {
        "id": "zudCL91_veNF",
        "colab_type": "code",
        "outputId": "bb2c90c4-8384-4e7c-f791-d14ab6ec1834",
        "colab": {
          "base_uri": "https://localhost:8080/",
          "height": 51
        }
      },
      "source": [
        "noused= len(conceptdf[conceptdf['Contraceptive method used']==0])\n",
        "used=len(conceptdf[conceptdf['Contraceptive method used']==1])\n",
        "\n",
        "percentofnoused= noused/(used+noused)\n",
        "percentofused=used/(used+noused)\n",
        "\n",
        "print(\"Percentage of No Use is\", percentofnoused*100)\n",
        "print(\"Percentage of used is\", percentofused*100)"
      ],
      "execution_count": 227,
      "outputs": [
        {
          "output_type": "stream",
          "text": [
            "Percentage of No Use is 42.701968771215206\n",
            "Percentage of used is 57.298031228784794\n"
          ],
          "name": "stdout"
        }
      ]
    },
    {
      "cell_type": "code",
      "metadata": {
        "id": "CtQ1PrOGzW-O",
        "colab_type": "code",
        "outputId": "7a90894d-f8ef-4ce4-ac15-3f14a1a34b07",
        "colab": {
          "base_uri": "https://localhost:8080/",
          "height": 248
        }
      },
      "source": [
        "labels = 'No Use','Used'\n",
        "\n",
        "sizes=[percentofnoused,percentofused]\n",
        "\n",
        "explode=(0.1,0)\n",
        "\n",
        "fig1, ax1 =plt.subplots()\n",
        "\n",
        "ax1.pie(sizes,explode=explode,labels=labels,autopct='%1.1f%%', shadow= True, startangle=90)\n",
        "\n",
        "ax1.axis('equal')\n",
        "\n",
        "plt.show()"
      ],
      "execution_count": 228,
      "outputs": [
        {
          "output_type": "display_data",
          "data": {
            "image/png": "[encoded data removed]",
            "text/plain": [
              "<Figure size 432x288 with 1 Axes>"
            ]
          },
          "metadata": {
            "tags": []
          }
        }
      ]
    },
    {
      "cell_type": "markdown",
      "metadata": {
        "id": "fnj2lPWRT9tE",
        "colab_type": "text"
      },
      "source": [
        "##Inspection of Dataset"
      ]
    },
    {
      "cell_type": "markdown",
      "metadata": {
        "id": "u087DbsxUL2y",
        "colab_type": "text"
      },
      "source": [
        "###Africa Dataset"
      ]
    },
    {
      "cell_type": "code",
      "metadata": {
        "id": "ntSfirK7UEAh",
        "colab_type": "code",
        "colab": {
          "base_uri": "https://localhost:8080/",
          "height": 282
        },
        "outputId": "a8c4b96a-b5fd-48b6-c202-fb83af47a102"
      },
      "source": [
        "##Distribution of the population of the countries\n",
        "population=africadf['pop'].values\n",
        "sns.distplot(population)"
      ],
      "execution_count": 254,
      "outputs": [
        {
          "output_type": "execute_result",
          "data": {
            "text/plain": [
              "<matplotlib.axes._subplots.AxesSubplot at 0x7fb559102cc0>"
            ]
          },
          "metadata": {
            "tags": []
          },
          "execution_count": 254
        },
        {
          "output_type": "display_data",
          "data": {
            "image/png": "[encoded data removed]",
            "text/plain": [
              "<Figure size 432x288 with 1 Axes>"
            ]
          },
          "metadata": {
            "tags": []
          }
        }
      ]
    },
    {
      "cell_type": "code",
      "metadata": {
        "id": "lBpXqUmWXHqk",
        "colab_type": "code",
        "colab": {
          "base_uri": "https://localhost:8080/",
          "height": 369
        },
        "outputId": "783b0ec6-1673-4937-83c0-5efbe56f6713"
      },
      "source": [
        "## the population of each country in scatter graph form\n",
        "sns.relplot(x=\"CountryID\", y=\"pop\",data=africadf);\n"
      ],
      "execution_count": 258,
      "outputs": [
        {
          "output_type": "display_data",
          "data": {
            "image/png": "[encoded data removed]",
            "text/plain": [
              "<Figure size 360x360 with 1 Axes>"
            ]
          },
          "metadata": {
            "tags": []
          }
        }
      ]
    },
    {
      "cell_type": "code",
      "metadata": {
        "id": "sTNEZQ1-VVKI",
        "colab_type": "code",
        "colab": {
          "base_uri": "https://localhost:8080/",
          "height": 369
        },
        "outputId": "fabcd6e8-5386-4bcb-a2b1-f96bc7d072cf"
      },
      "source": [
        "# countries currency exchange \n",
        "sns.relplot(x=\"CountryID\", y=\"xr\",data=africadf);\n"
      ],
      "execution_count": 260,
      "outputs": [
        {
          "output_type": "display_data",
          "data": {
            "image/png": "[encoded data removed]",
            "text/plain": [
              "<Figure size 360x360 with 1 Axes>"
            ]
          },
          "metadata": {
            "tags": []
          }
        }
      ]
    },
    {
      "cell_type": "code",
      "metadata": {
        "id": "lC3qaitIcz3C",
        "colab_type": "code",
        "colab": {
          "base_uri": "https://localhost:8080/",
          "height": 282
        },
        "outputId": "9d762d57-70cf-4f94-c4a8-132f810a068b"
      },
      "source": [
        "depreciationofcaptialstock=africadf['delta'].values\n",
        "sns.distplot(depreciationofcaptialstock)"
      ],
      "execution_count": 263,
      "outputs": [
        {
          "output_type": "execute_result",
          "data": {
            "text/plain": [
              "<matplotlib.axes._subplots.AxesSubplot at 0x7fb55a88f7b8>"
            ]
          },
          "metadata": {
            "tags": []
          },
          "execution_count": 263
        },
        {
          "output_type": "display_data",
          "data": {
            "image/png": "[encoded data removed]",
            "text/plain": [
              "<Figure size 432x288 with 1 Axes>"
            ]
          },
          "metadata": {
            "tags": []
          }
        }
      ]
    },
    {
      "cell_type": "code",
      "metadata": {
        "id": "WYVr6tQAdH2a",
        "colab_type": "code",
        "colab": {
          "base_uri": "https://localhost:8080/",
          "height": 282
        },
        "outputId": "e75b81f2-8fa5-436e-9ab5-a72f549b6207"
      },
      "source": [
        "##distribution of the countries employment rate\n",
        "employed=africadf['emp_to_pop_ratio'].values\n",
        "sns.distplot(employed)"
      ],
      "execution_count": 265,
      "outputs": [
        {
          "output_type": "execute_result",
          "data": {
            "text/plain": [
              "<matplotlib.axes._subplots.AxesSubplot at 0x7fb5536b7518>"
            ]
          },
          "metadata": {
            "tags": []
          },
          "execution_count": 265
        },
        {
          "output_type": "display_data",
          "data": {
            "image/png": "[encoded data removed]",
            "text/plain": [
              "<Figure size 432x288 with 1 Axes>"
            ]
          },
          "metadata": {
            "tags": []
          }
        }
      ]
    },
    {
      "cell_type": "code",
      "metadata": {
        "id": "5JPo631CdUTT",
        "colab_type": "code",
        "colab": {
          "base_uri": "https://localhost:8080/",
          "height": 369
        },
        "outputId": "2615e926-82ca-4b95-b993-3d97520ba8e7"
      },
      "source": [
        "sns.relplot(x=\"CountryID\", y=\"emp_to_pop_ratio\",data=africadf);"
      ],
      "execution_count": 266,
      "outputs": [
        {
          "output_type": "display_data",
          "data": {
            "image/png": "[encoded data removed]",
            "text/plain": [
              "<Figure size 360x360 with 1 Axes>"
            ]
          },
          "metadata": {
            "tags": []
          }
        }
      ]
    },
    {
      "cell_type": "markdown",
      "metadata": {
        "id": "QUuqeaOJUTjy",
        "colab_type": "text"
      },
      "source": [
        "###Medical Dataset"
      ]
    },
    {
      "cell_type": "code",
      "metadata": {
        "id": "sUr52thRUeR7",
        "colab_type": "code",
        "colab": {
          "base_uri": "https://localhost:8080/",
          "height": 330
        },
        "outputId": "5ba500a8-b49b-4d0f-a820-a97a16af0afa"
      },
      "source": [
        "plt.title('Gender of patients \\n (0: Female || 1: Male)', fontsize=14)\n",
        "sns.countplot(\"Gender\",data=medicaldf)"
      ],
      "execution_count": 268,
      "outputs": [
        {
          "output_type": "execute_result",
          "data": {
            "text/plain": [
              "<matplotlib.axes._subplots.AxesSubplot at 0x7fb5535f3080>"
            ]
          },
          "metadata": {
            "tags": []
          },
          "execution_count": 268
        },
        {
          "output_type": "display_data",
          "data": {
            "image/png": "[encoded data removed]",
            "text/plain": [
              "<Figure size 432x288 with 1 Axes>"
            ]
          },
          "metadata": {
            "tags": []
          }
        }
      ]
    },
    {
      "cell_type": "code",
      "metadata": {
        "id": "5pmrgvf1eQtu",
        "colab_type": "code",
        "colab": {
          "base_uri": "https://localhost:8080/",
          "height": 331
        },
        "outputId": "6b2f5b53-31e1-47d4-fc19-129a9d9a24aa"
      },
      "source": [
        "plt.title('Sms_Recieved \\n (0: Yes || 1: No)', fontsize=14)\n",
        "sns.countplot(\"SMS_received\",data=medicaldf)"
      ],
      "execution_count": 276,
      "outputs": [
        {
          "output_type": "execute_result",
          "data": {
            "text/plain": [
              "<matplotlib.axes._subplots.AxesSubplot at 0x7fb553455470>"
            ]
          },
          "metadata": {
            "tags": []
          },
          "execution_count": 276
        },
        {
          "output_type": "display_data",
          "data": {
            "image/png": "[encoded data removed]",
            "text/plain": [
              "<Figure size 432x288 with 1 Axes>"
            ]
          },
          "metadata": {
            "tags": []
          }
        }
      ]
    },
    {
      "cell_type": "markdown",
      "metadata": {
        "id": "fE9Rpj6QUX5K",
        "colab_type": "text"
      },
      "source": [
        "###Contraceptive Dataset"
      ]
    },
    {
      "cell_type": "code",
      "metadata": {
        "id": "SZ2e_EhdUdXB",
        "colab_type": "code",
        "colab": {}
      },
      "source": [
        ""
      ],
      "execution_count": 0,
      "outputs": []
    }
  ]
}