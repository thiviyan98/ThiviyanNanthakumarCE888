{
  "nbformat": 4,
  "nbformat_minor": 0,
  "metadata": {
    "colab": {
      "name": "Lab1.ipynb",
      "provenance": [],
      "collapsed_sections": [],
      "authorship_tag": "ABX9TyPIh4YsOSAicBmrn1n/EO2E",
      "include_colab_link": true
    },
    "kernelspec": {
      "name": "python3",
      "display_name": "Python 3"
    },
    "accelerator": "GPU"
  },
  "cells": [
    {
      "cell_type": "markdown",
      "metadata": {
        "id": "view-in-github",
        "colab_type": "text"
      },
      "source": [
        "<a href=\"https://colab.research.google.com/github/thiviyan98/ThiviyanNanthakumarCE888/blob/master/Lab1.ipynb\" target=\"_parent\"><img src=\"https://colab.research.google.com/assets/colab-badge.svg\" alt=\"Open In Colab\"/></a>"
      ]
    },
    {
      "cell_type": "code",
      "metadata": {
        "id": "mFCEWdcrzZO5",
        "colab_type": "code",
        "colab": {}
      },
      "source": [
        ""
      ],
      "execution_count": 0,
      "outputs": []
    },
    {
      "cell_type": "markdown",
      "metadata": {
        "id": "Xm4q1BJC1f7d",
        "colab_type": "text"
      },
      "source": [
        "#Lab 1: Introduction to Numerical Computing with Numpy and Matplotlib"
      ]
    },
    {
      "cell_type": "code",
      "metadata": {
        "id": "xFKa7NRK11Dt",
        "colab_type": "code",
        "colab": {}
      },
      "source": [
        "import matplotlib.pyplot as plt\n",
        "import numpy as np\n",
        "\n",
        "t = np.linspace(0, 2*np.pi, 50)\n",
        "x = np.sin(t)\n",
        "y = np.cos(t)"
      ],
      "execution_count": 0,
      "outputs": []
    },
    {
      "cell_type": "code",
      "metadata": {
        "id": "jF_mSo-A3yFx",
        "colab_type": "code",
        "colab": {
          "base_uri": "https://localhost:8080/",
          "height": 282
        },
        "outputId": "174732bc-5819-4c74-cc47-485b9b538a40"
      },
      "source": [
        "# Now create a figure\n",
        "plt.figure()\n",
        "# and plot x inside it\n",
        "plt.plot(x)"
      ],
      "execution_count": 27,
      "outputs": [
        {
          "output_type": "execute_result",
          "data": {
            "text/plain": [
              "[<matplotlib.lines.Line2D at 0x7fee45af6898>]"
            ]
          },
          "metadata": {
            "tags": []
          },
          "execution_count": 27
        },
        {
          "output_type": "display_data",
          "data": {
            "image/png": "[encoded data removed]",
            "text/plain": [
              "<Figure size 432x288 with 1 Axes>"
            ]
          },
          "metadata": {
            "tags": []
          }
        }
      ]
    },
    {
      "cell_type": "code",
      "metadata": {
        "id": "kEd9Zw3p4rL7",
        "colab_type": "code",
        "colab": {
          "base_uri": "https://localhost:8080/",
          "height": 298
        },
        "outputId": "0b388b9b-1c3b-4a6e-cbbd-26b17394d057"
      },
      "source": [
        "# Now create a new figure\n",
        "plt.figure()\n",
        "# and plot y inside it...\n",
        "plt.plot(y)\n",
        "# Add a title\n",
        "plt.title(\"Cos\")\n"
      ],
      "execution_count": 28,
      "outputs": [
        {
          "output_type": "execute_result",
          "data": {
            "text/plain": [
              "Text(0.5, 1.0, 'Cos')"
            ]
          },
          "metadata": {
            "tags": []
          },
          "execution_count": 28
        },
        {
          "output_type": "display_data",
          "data": {
            "image/png": "[encoded data removed]",
            "text/plain": [
              "<Figure size 432x288 with 1 Axes>"
            ]
          },
          "metadata": {
            "tags": []
          }
        }
      ]
    },
    {
      "cell_type": "markdown",
      "metadata": {
        "id": "4oiDtmlB46u-",
        "colab_type": "text"
      },
      "source": [
        "###Line Plot"
      ]
    },
    {
      "cell_type": "code",
      "metadata": {
        "id": "DRiHCMKp4t0B",
        "colab_type": "code",
        "colab": {
          "base_uri": "https://localhost:8080/",
          "height": 0
        },
        "outputId": "e1e1b1ba-5999-461c-f95f-ae19a046c62d"
      },
      "source": [
        "x = np.linspace(0, 2*np.pi, 50)\n",
        "y1 = np.sin(x)\n",
        "y2 = np.sin(2*x)\n",
        "plt.figure() # Create figure\n",
        "plt.plot(y1)\n",
        "plt.plot(x, y1)\n",
        "\n",
        "# red dot-dash circle\n",
        "plt.plot(x, y1, 'r')\n",
        "\n",
        "# red marker only circle\n",
        "plt.plot(x, y1, 'r-o')\n",
        "\n",
        "# clear figure then plot 2 curves\n",
        "plt.clf()\n",
        "plt.plot(x, y1, 'g-o', x, y2, 'b-+')\n",
        "plt.legend(['sin(x)','sin(2x)'])\n"
      ],
      "execution_count": 29,
      "outputs": [
        {
          "output_type": "execute_result",
          "data": {
            "text/plain": [
              "<matplotlib.legend.Legend at 0x7fee45e0dcf8>"
            ]
          },
          "metadata": {
            "tags": []
          },
          "execution_count": 29
        },
        {
          "output_type": "display_data",
          "data": {
            "image/png": "[encoded data removed]",
            "text/plain": [
              "<Figure size 432x288 with 1 Axes>"
            ]
          },
          "metadata": {
            "tags": []
          }
        }
      ]
    },
    {
      "cell_type": "markdown",
      "metadata": {
        "id": "g9mGgy0s5DNo",
        "colab_type": "text"
      },
      "source": [
        "###Scatter Plot\n"
      ]
    },
    {
      "cell_type": "code",
      "metadata": {
        "id": "ubxWsDue5C0R",
        "colab_type": "code",
        "colab": {
          "base_uri": "https://localhost:8080/",
          "height": 0
        },
        "outputId": "fca2aec9-df4f-4098-8dd9-98734e251c0b"
      },
      "source": [
        "N = 50 # no. of points\n",
        "x = np.linspace(0, 10, N)\n",
        "#print(x)\n",
        "from numpy.random import rand\n",
        "e = rand(N)*5.0 # noise\n",
        "y1 = x + e\n",
        "areas = rand(N)*300\n",
        "plt.scatter(x, y1, s=areas)\n",
        "colors = rand(N)\n",
        "plt.scatter(x, y1, s=areas,c=colors)\n",
        "plt.colorbar()\n",
        "plt.title(\"Random scatter\")\n"
      ],
      "execution_count": 30,
      "outputs": [
        {
          "output_type": "execute_result",
          "data": {
            "text/plain": [
              "Text(0.5, 1.0, 'Random scatter')"
            ]
          },
          "metadata": {
            "tags": []
          },
          "execution_count": 30
        },
        {
          "output_type": "display_data",
          "data": {
            "image/png": "[encoded data removed]",
            "text/plain": [
              "<Figure size 432x288 with 2 Axes>"
            ]
          },
          "metadata": {
            "tags": []
          }
        }
      ]
    },
    {
      "cell_type": "markdown",
      "metadata": {
        "id": "V-NDQd0r5ZHA",
        "colab_type": "text"
      },
      "source": [
        "###Image Plot: Correlation Plot"
      ]
    },
    {
      "cell_type": "code",
      "metadata": {
        "id": "ihcmt-sf401R",
        "colab_type": "code",
        "colab": {
          "base_uri": "https://localhost:8080/",
          "height": 0
        },
        "outputId": "3f8e51ba-3c20-4414-8a08-d4024d475fed"
      },
      "source": [
        "# Create some data\n",
        "e1 = rand(100)\n",
        "e2 = rand(100)*2\n",
        "e3 = rand(100)*50\n",
        "e4 = rand(100)*100\n",
        "corrmatrix = np.corrcoef([e1, e2, e3, e4])\n",
        "print(corrmatrix)\n",
        "# Plot corr matrix as image\n",
        "plt.imshow(corrmatrix, cmap='GnBu')\n",
        "plt.colorbar()"
      ],
      "execution_count": 31,
      "outputs": [
        {
          "output_type": "stream",
          "text": [
            "[[ 1.          0.07576049  0.06329373 -0.11231195]\n",
            " [ 0.07576049  1.         -0.06024529 -0.02457044]\n",
            " [ 0.06329373 -0.06024529  1.          0.00242882]\n",
            " [-0.11231195 -0.02457044  0.00242882  1.        ]]\n"
          ],
          "name": "stdout"
        },
        {
          "output_type": "execute_result",
          "data": {
            "text/plain": [
              "<matplotlib.colorbar.Colorbar at 0x7fee4590cb70>"
            ]
          },
          "metadata": {
            "tags": []
          },
          "execution_count": 31
        },
        {
          "output_type": "display_data",
          "data": {
            "image/png": "[encoded data removed]",
            "text/plain": [
              "<Figure size 432x288 with 2 Axes>"
            ]
          },
          "metadata": {
            "tags": []
          }
        }
      ]
    },
    {
      "cell_type": "markdown",
      "metadata": {
        "id": "6m5ZOmzY5pwn",
        "colab_type": "text"
      },
      "source": [
        "###Multiple plots using subplot"
      ]
    },
    {
      "cell_type": "code",
      "metadata": {
        "id": "Uw2_FgQj5tom",
        "colab_type": "code",
        "colab": {
          "base_uri": "https://localhost:8080/",
          "height": 0
        },
        "outputId": "ff9b36b3-f08b-499c-ce90-eff13c450dc3"
      },
      "source": [
        "t = np.linspace(0, 2*np.pi)\n",
        "x = np.sin(t)\n",
        "y = np.cos(t)\n",
        "# To divide the plotting area\n",
        "plt.subplot(2, 1, 1)\n",
        "plt.plot(x)\n",
        "# Now activate a new plot\n",
        "# area.\n",
        "plt.subplot(2, 1, 2)\n",
        "plt.plot(y)"
      ],
      "execution_count": 32,
      "outputs": [
        {
          "output_type": "execute_result",
          "data": {
            "text/plain": [
              "[<matplotlib.lines.Line2D at 0x7fee45832cf8>]"
            ]
          },
          "metadata": {
            "tags": []
          },
          "execution_count": 32
        },
        {
          "output_type": "display_data",
          "data": {
            "image/png": "[encoded data removed]",
            "text/plain": [
              "<Figure size 432x288 with 2 Axes>"
            ]
          },
          "metadata": {
            "tags": []
          }
        }
      ]
    },
    {
      "cell_type": "markdown",
      "metadata": {
        "id": "a5ahKnTh5yX-",
        "colab_type": "text"
      },
      "source": [
        "###Histogram Plot\n"
      ]
    },
    {
      "cell_type": "code",
      "metadata": {
        "id": "NYQy8TFE6EOt",
        "colab_type": "code",
        "colab": {
          "base_uri": "https://localhost:8080/",
          "height": 0
        },
        "outputId": "81b3621f-e303-4d14-af08-ab459f387ebb"
      },
      "source": [
        "# Create array of data\n",
        "from numpy.random import randint\n",
        "data = randint(10000, size=(10,1000))\n",
        "# Approx norm distribution\n",
        "x = np.sum(data, axis=0)\n",
        "# Set up for stacked plots\n",
        "plt.subplot(2,1,1)\n",
        "plt.hist(x, color='r')\n",
        "# Plot cumulative dist\n",
        "plt.subplot(2,1,2)\n",
        "plt.hist(x, cumulative=True)\n"
      ],
      "execution_count": 33,
      "outputs": [
        {
          "output_type": "execute_result",
          "data": {
            "text/plain": [
              "(array([  15.,   63.,  153.,  311.,  553.,  781.,  913.,  964.,  992.,\n",
              "        1000.]),\n",
              " array([23874., 29359., 34844., 40329., 45814., 51299., 56784., 62269.,\n",
              "        67754., 73239., 78724.]),\n",
              " <a list of 10 Patch objects>)"
            ]
          },
          "metadata": {
            "tags": []
          },
          "execution_count": 33
        },
        {
          "output_type": "display_data",
          "data": {
            "image/png": "[encoded data removed]",
            "text/plain": [
              "<Figure size 432x288 with 2 Axes>"
            ]
          },
          "metadata": {
            "tags": []
          }
        }
      ]
    },
    {
      "cell_type": "markdown",
      "metadata": {
        "id": "F9Xs7DzD6M3U",
        "colab_type": "text"
      },
      "source": [
        "###Legend, Title, and Label Axis"
      ]
    },
    {
      "cell_type": "code",
      "metadata": {
        "id": "p7Hfu0Cn6S8y",
        "colab_type": "code",
        "colab": {
          "base_uri": "https://localhost:8080/",
          "height": 0
        },
        "outputId": "ac24ab03-31ed-4b11-93ec-fbe9056cbdb0"
      },
      "source": [
        "# Add labels in plot command.\n",
        "plt.plot(np.sin(t), label='sin')\n",
        "plt.plot(np.cos(t), label='cos')\n",
        "plt.legend()\n"
      ],
      "execution_count": 34,
      "outputs": [
        {
          "output_type": "execute_result",
          "data": {
            "text/plain": [
              "<matplotlib.legend.Legend at 0x7fee456ffa20>"
            ]
          },
          "metadata": {
            "tags": []
          },
          "execution_count": 34
        },
        {
          "output_type": "display_data",
          "data": {
            "image/png": "[encoded data removed]",
            "text/plain": [
              "<Figure size 432x288 with 1 Axes>"
            ]
          },
          "metadata": {
            "tags": []
          }
        }
      ]
    },
    {
      "cell_type": "code",
      "metadata": {
        "id": "Jaf6Mpey7huo",
        "colab_type": "code",
        "colab": {
          "base_uri": "https://localhost:8080/",
          "height": 0
        },
        "outputId": "f3a4fe5b-cd04-470a-dbd7-0341422b0e55"
      },
      "source": [
        "plt.plot(t, np.sin(t))\n",
        "plt.xlabel('radians')\n",
        "# Keywords set text properties.\n",
        "plt.ylabel('amplitude',fontsize='large')\n",
        "plt.title('Sin(x)')"
      ],
      "execution_count": 35,
      "outputs": [
        {
          "output_type": "execute_result",
          "data": {
            "text/plain": [
              "Text(0.5, 1.0, 'Sin(x)')"
            ]
          },
          "metadata": {
            "tags": []
          },
          "execution_count": 35
        },
        {
          "output_type": "display_data",
          "data": {
            "image/png": "[encoded data removed]",
            "text/plain": [
              "<Figure size 432x288 with 1 Axes>"
            ]
          },
          "metadata": {
            "tags": []
          }
        }
      ]
    },
    {
      "cell_type": "markdown",
      "metadata": {
        "id": "ISl0A9YH7qBv",
        "colab_type": "text"
      },
      "source": [
        "##NumPy Array\n"
      ]
    },
    {
      "cell_type": "markdown",
      "metadata": {
        "id": "vM1kc6wg8BKv",
        "colab_type": "text"
      },
      "source": [
        "Numpy is the core library for scientific computing in Python. It provides a high-performance multidimensional array object, and tools for working with these arrays. A numpy array is a grid of values, all of the same type, and is indexed by a tuple of nonnegative integers. The number of dimensions is the rank of the array; the shape of an array is a tuple of integers giving the size of the array along each dimension.\n",
        "\n",
        "The Python core library provided Lists. A list is the Python equivalent of an array, but is resizeable and can contain elements of different types.\n",
        "\n",
        "Why NumPy array?\n",
        "\n",
        "Size - Numpy data structures take up less space Performance - they have a need for speed and are faster than lists Functionality - SciPy and NumPy have optimized functions such as linear algebra operations built in."
      ]
    },
    {
      "cell_type": "markdown",
      "metadata": {
        "id": "hepU83GN8EAA",
        "colab_type": "text"
      },
      "source": [
        "###Introducing NumPy Array"
      ]
    },
    {
      "cell_type": "code",
      "metadata": {
        "id": "7vEB0NGa8Lh_",
        "colab_type": "code",
        "colab": {
          "base_uri": "https://localhost:8080/",
          "height": 34
        },
        "outputId": "087b7375-3430-4454-b9d7-f0b23ce97880"
      },
      "source": [
        "import numpy as np\n",
        "\n",
        "# Simple array creation\n",
        "a = np.array([0, 1, 2, 3, 4, 5])\n",
        "print(a)"
      ],
      "execution_count": 36,
      "outputs": [
        {
          "output_type": "stream",
          "text": [
            "[0 1 2 3 4 5]\n"
          ],
          "name": "stdout"
        }
      ]
    },
    {
      "cell_type": "code",
      "metadata": {
        "id": "vDjEOEy18cAf",
        "colab_type": "code",
        "colab": {
          "base_uri": "https://localhost:8080/",
          "height": 51
        },
        "outputId": "7900ada3-212e-44ed-c5fe-7c2ef3355506"
      },
      "source": [
        "# Checking the type and type of elements\n",
        "print(type(a))\n",
        "print(a.dtype)"
      ],
      "execution_count": 37,
      "outputs": [
        {
          "output_type": "stream",
          "text": [
            "<class 'numpy.ndarray'>\n",
            "int64\n"
          ],
          "name": "stdout"
        }
      ]
    },
    {
      "cell_type": "code",
      "metadata": {
        "id": "oW4ZWwU38r-P",
        "colab_type": "code",
        "colab": {
          "base_uri": "https://localhost:8080/",
          "height": 51
        },
        "outputId": "7de760a4-9504-4acf-e887-4ac581de9a2b"
      },
      "source": [
        "# Check dimensions and shape\n",
        "print(a.ndim)\n",
        "print(a.shape)"
      ],
      "execution_count": 38,
      "outputs": [
        {
          "output_type": "stream",
          "text": [
            "1\n",
            "(6,)\n"
          ],
          "name": "stdout"
        }
      ]
    },
    {
      "cell_type": "code",
      "metadata": {
        "id": "GAAcTXuf8ylX",
        "colab_type": "code",
        "colab": {
          "base_uri": "https://localhost:8080/",
          "height": 51
        },
        "outputId": "f6948c94-2e88-4620-e7eb-1acc8f6bf2c5"
      },
      "source": [
        "# Check Bytes per element and Bytes of memory use\n",
        "print(a.itemsize)\n",
        "print(a.nbytes)"
      ],
      "execution_count": 39,
      "outputs": [
        {
          "output_type": "stream",
          "text": [
            "8\n",
            "48\n"
          ],
          "name": "stdout"
        }
      ]
    },
    {
      "cell_type": "markdown",
      "metadata": {
        "id": "RxogbBoE9V2b",
        "colab_type": "text"
      },
      "source": [
        "##Array Operations"
      ]
    },
    {
      "cell_type": "code",
      "metadata": {
        "id": "pZlWGRkK9Ug-",
        "colab_type": "code",
        "colab": {
          "base_uri": "https://localhost:8080/",
          "height": 0
        },
        "outputId": "4e850d98-167d-40c6-9171-e89d6b481000"
      },
      "source": [
        "a = np.array([1, 2, 3, 4])\n",
        "b = np.array([2, 3, 4, 5])\n",
        "\n",
        "print(a*b)\n",
        "print(a**b)\n",
        "print(a+b)\n",
        "print(a/b)"
      ],
      "execution_count": 40,
      "outputs": [
        {
          "output_type": "stream",
          "text": [
            "[ 2  6 12 20]\n",
            "[   1    8   81 1024]\n",
            "[3 5 7 9]\n",
            "[0.5        0.66666667 0.75       0.8       ]\n"
          ],
          "name": "stdout"
        }
      ]
    },
    {
      "cell_type": "code",
      "metadata": {
        "id": "-TYmwb0Q9khm",
        "colab_type": "code",
        "colab": {
          "base_uri": "https://localhost:8080/",
          "height": 0
        },
        "outputId": "bc648b34-1c86-4633-cc92-0852387dd96d"
      },
      "source": [
        "# Setting array elements\n",
        "print(a[0])\n",
        "a[0] = 10\n",
        "print(a[0])\n",
        "print(a)"
      ],
      "execution_count": 41,
      "outputs": [
        {
          "output_type": "stream",
          "text": [
            "1\n",
            "10\n",
            "[10  2  3  4]\n"
          ],
          "name": "stdout"
        }
      ]
    },
    {
      "cell_type": "code",
      "metadata": {
        "id": "V-UXBh-89sQ0",
        "colab_type": "code",
        "colab": {
          "base_uri": "https://localhost:8080/",
          "height": 0
        },
        "outputId": "9f1c3de8-8926-4046-8020-ca7555a19515"
      },
      "source": [
        "# Multi-dimensional array\n",
        "\n",
        "a = np.array([[ 0, 1, 2, 3],\n",
        "              [10,11,12,13]])\n",
        "print(a)"
      ],
      "execution_count": 42,
      "outputs": [
        {
          "output_type": "stream",
          "text": [
            "[[ 0  1  2  3]\n",
            " [10 11 12 13]]\n"
          ],
          "name": "stdout"
        }
      ]
    },
    {
      "cell_type": "code",
      "metadata": {
        "id": "m3eIXOuc9vEk",
        "colab_type": "code",
        "colab": {
          "base_uri": "https://localhost:8080/",
          "height": 0
        },
        "outputId": "11cbd00f-6407-40f8-ee78-2ab8dd88eba5"
      },
      "source": [
        "print(a.shape)\n",
        "print(a.size)\n",
        "print(a.ndim)"
      ],
      "execution_count": 43,
      "outputs": [
        {
          "output_type": "stream",
          "text": [
            "(2, 4)\n",
            "8\n",
            "2\n"
          ],
          "name": "stdout"
        }
      ]
    },
    {
      "cell_type": "code",
      "metadata": {
        "id": "DbrJceHU9_NT",
        "colab_type": "code",
        "colab": {
          "base_uri": "https://localhost:8080/",
          "height": 0
        },
        "outputId": "16d46d14-d812-47e2-932a-080459f20297"
      },
      "source": [
        "# Get and set elements in Multi-dimensional array\n",
        "print(a[1, 3])\n",
        "a[1, 3] = -1\n",
        "print(a[1, 3])"
      ],
      "execution_count": 44,
      "outputs": [
        {
          "output_type": "stream",
          "text": [
            "13\n",
            "-1\n"
          ],
          "name": "stdout"
        }
      ]
    },
    {
      "cell_type": "code",
      "metadata": {
        "id": "jIRGYOAm-DS7",
        "colab_type": "code",
        "colab": {
          "base_uri": "https://localhost:8080/",
          "height": 0
        },
        "outputId": "08ffca7b-4ff5-4c7a-a704-9a7824d01432"
      },
      "source": [
        "print(a[1])\n"
      ],
      "execution_count": 45,
      "outputs": [
        {
          "output_type": "stream",
          "text": [
            "[10 11 12 -1]\n"
          ],
          "name": "stdout"
        }
      ]
    },
    {
      "cell_type": "markdown",
      "metadata": {
        "id": "73EC71BD-HDG",
        "colab_type": "text"
      },
      "source": [
        "###Slicing Array"
      ]
    },
    {
      "cell_type": "code",
      "metadata": {
        "id": "W_bKmJ7b-Kro",
        "colab_type": "code",
        "colab": {
          "base_uri": "https://localhost:8080/",
          "height": 0
        },
        "outputId": "8d86f279-dcce-4fa9-8920-4c5dfdbe51aa"
      },
      "source": [
        "# Slicing array\n",
        "print(a)\n",
        "\n",
        "# print all row and 3rd column\n",
        "print(a[:,2])\n",
        "\n",
        "# print first row and all column \n",
        "print(a[0,:])\n",
        "\n",
        "# negative indices work also\n",
        "print(a)\n",
        "print(a[:,:-2])\n"
      ],
      "execution_count": 46,
      "outputs": [
        {
          "output_type": "stream",
          "text": [
            "[[ 0  1  2  3]\n",
            " [10 11 12 -1]]\n",
            "[ 2 12]\n",
            "[0 1 2 3]\n",
            "[[ 0  1  2  3]\n",
            " [10 11 12 -1]]\n",
            "[[ 0  1]\n",
            " [10 11]]\n"
          ],
          "name": "stdout"
        }
      ]
    },
    {
      "cell_type": "markdown",
      "metadata": {
        "id": "VmeR8DAsBSvj",
        "colab_type": "text"
      },
      "source": [
        "##Question 1: \n"
      ]
    },
    {
      "cell_type": "code",
      "metadata": {
        "id": "R_Ntg-XEBW3s",
        "colab_type": "code",
        "colab": {
          "base_uri": "https://localhost:8080/",
          "height": 85
        },
        "outputId": "24743476-e5f9-45c7-ab84-b7c96507bb1d"
      },
      "source": [
        "import numpy as np\n",
        "\n",
        "##creating 4x2 integer array \n",
        "a= np.array([[0,1],[2,3],[4,5],[6,7]])\n",
        "print(a)"
      ],
      "execution_count": 48,
      "outputs": [
        {
          "output_type": "stream",
          "text": [
            "[[0 1]\n",
            " [2 3]\n",
            " [4 5]\n",
            " [6 7]]\n"
          ],
          "name": "stdout"
        }
      ]
    },
    {
      "cell_type": "markdown",
      "metadata": {
        "id": "T2A_NcfbCcgQ",
        "colab_type": "text"
      },
      "source": [
        "#Question 2:"
      ]
    },
    {
      "cell_type": "code",
      "metadata": {
        "id": "fN36_bx9CfrH",
        "colab_type": "code",
        "colab": {
          "base_uri": "https://localhost:8080/",
          "height": 85
        },
        "outputId": "a3db11b2-bc33-4469-e1d8-d634d2772e42"
      },
      "source": [
        "import numpy as np\n",
        "\n",
        "##creating array of dimension (1,10) sort it in ascending and descending order\n",
        "\n",
        "a= np.array([[2, 1, 4, 5, 5, 6, 7, 8, 9, 10]])\n",
        "print(a.shape)\n",
        "print(a.ndim)\n",
        "\n",
        "sorted_array=np.sort(a)\n",
        "\n",
        "print(sorted_array)\n",
        "\n",
        "reverse_array= -np.sort(-a)\n",
        "\n",
        "print(reverse_array)\n",
        "\n"
      ],
      "execution_count": 67,
      "outputs": [
        {
          "output_type": "stream",
          "text": [
            "(1, 10)\n",
            "2\n",
            "[[ 1  2  4  5  5  6  7  8  9 10]]\n",
            "[[10  9  8  7  6  5  5  4  2  1]]\n"
          ],
          "name": "stdout"
        }
      ]
    },
    {
      "cell_type": "markdown",
      "metadata": {
        "id": "Gre53_7zJSKY",
        "colab_type": "text"
      },
      "source": [
        "##Question 3:"
      ]
    },
    {
      "cell_type": "code",
      "metadata": {
        "id": "2A3NfgoLJXIu",
        "colab_type": "code",
        "colab": {
          "base_uri": "https://localhost:8080/",
          "height": 68
        },
        "outputId": "aefc1f12-3838-4c99-8e49-335524fbbe78"
      },
      "source": [
        "import numpy as np\n",
        "\n",
        "##converting 1d array to 2d array\n",
        "\n",
        "a=np.array([1,2,3,4,5,6,7,8,9])\n",
        "\n",
        "b= np.reshape(a,(3, 3))\n",
        "\n",
        "print(b)"
      ],
      "execution_count": 84,
      "outputs": [
        {
          "output_type": "stream",
          "text": [
            "[[1 2 3]\n",
            " [4 5 6]\n",
            " [7 8 9]]\n"
          ],
          "name": "stdout"
        }
      ]
    },
    {
      "cell_type": "markdown",
      "metadata": {
        "id": "YwjhDvAIL50m",
        "colab_type": "text"
      },
      "source": [
        "##Question 4\n"
      ]
    },
    {
      "cell_type": "code",
      "metadata": {
        "id": "5Puqq9cKL9Qc",
        "colab_type": "code",
        "colab": {
          "base_uri": "https://localhost:8080/",
          "height": 68
        },
        "outputId": "7987dfa8-7bac-4678-ac5e-8a7a38256138"
      },
      "source": [
        "import numpy as np \n",
        "\n",
        "a=np.array([1,2,3])\n",
        "b=np.array([4,5,6])\n",
        "\n",
        "c=np.vstack((a,b))\n",
        "d=np.hstack((a,b))\n",
        "print(c)\n",
        "\n",
        "print(d)"
      ],
      "execution_count": 86,
      "outputs": [
        {
          "output_type": "stream",
          "text": [
            "[[1 2 3]\n",
            " [4 5 6]]\n",
            "[1 2 3 4 5 6]\n"
          ],
          "name": "stdout"
        }
      ]
    },
    {
      "cell_type": "markdown",
      "metadata": {
        "id": "luq1jtV8M0mm",
        "colab_type": "text"
      },
      "source": [
        "##Question 5"
      ]
    },
    {
      "cell_type": "code",
      "metadata": {
        "id": "KRmdvrqJM33c",
        "colab_type": "code",
        "colab": {
          "base_uri": "https://localhost:8080/",
          "height": 34
        },
        "outputId": "6fd7bf19-e3da-467f-929c-1ddf2246ccbe"
      },
      "source": [
        "import numpy as np \n",
        "\n",
        "a=np.array([1,2,3,5])\n",
        "\n",
        "b=np.array([4,2,6,5])\n",
        "\n",
        "print(np.intersect1d(a,b))\n",
        "\n",
        "\n"
      ],
      "execution_count": 89,
      "outputs": [
        {
          "output_type": "stream",
          "text": [
            "[2 5]\n"
          ],
          "name": "stdout"
        }
      ]
    },
    {
      "cell_type": "markdown",
      "metadata": {
        "id": "GLosdysuNq2q",
        "colab_type": "text"
      },
      "source": [
        "##Question 6"
      ]
    },
    {
      "cell_type": "code",
      "metadata": {
        "id": "MD3UmshXNvrq",
        "colab_type": "code",
        "colab": {
          "base_uri": "https://localhost:8080/",
          "height": 170
        },
        "outputId": "537750a0-daa0-4510-9200-c38390e6192d"
      },
      "source": [
        "import numpy as np\n",
        "\n",
        "a=np.array([[1,2,3,4,5],[6,7,8,9,10],[11,12,13,14,15],[16,17,18,19,20],[21,22,23,24,25]])\n",
        "\n",
        "print(a)\n",
        "print(np.amin(a,0))\n",
        "print(np.amax(a,0))\n",
        "print(np.amin(a,1))\n",
        "print(np.amax(a,1))\n",
        "  "
      ],
      "execution_count": 106,
      "outputs": [
        {
          "output_type": "stream",
          "text": [
            "[[ 1  2  3  4  5]\n",
            " [ 6  7  8  9 10]\n",
            " [11 12 13 14 15]\n",
            " [16 17 18 19 20]\n",
            " [21 22 23 24 25]]\n",
            "[1 2 3 4 5]\n",
            "[21 22 23 24 25]\n",
            "[ 1  6 11 16 21]\n",
            "[ 5 10 15 20 25]\n"
          ],
          "name": "stdout"
        }
      ]
    },
    {
      "cell_type": "markdown",
      "metadata": {
        "id": "RXzLWNhKRaWr",
        "colab_type": "text"
      },
      "source": [
        "##Question 7"
      ]
    },
    {
      "cell_type": "code",
      "metadata": {
        "id": "Q0h7f2gkRcFa",
        "colab_type": "code",
        "colab": {
          "base_uri": "https://localhost:8080/",
          "height": 170
        },
        "outputId": "507d7fbc-5cf1-4ac1-87e4-314386a521de"
      },
      "source": [
        "import numpy as np\n",
        "\n",
        "array=np.arange(100)\n",
        "\n",
        "print(array)\n",
        "\n",
        "print(np.mean(array))\n",
        "\n",
        "print(np.median(array))\n",
        "\n",
        "print(np.mean(array))\n",
        "\n",
        "print(np.std(array))\n",
        "\n"
      ],
      "execution_count": 111,
      "outputs": [
        {
          "output_type": "stream",
          "text": [
            "[ 0  1  2  3  4  5  6  7  8  9 10 11 12 13 14 15 16 17 18 19 20 21 22 23\n",
            " 24 25 26 27 28 29 30 31 32 33 34 35 36 37 38 39 40 41 42 43 44 45 46 47\n",
            " 48 49 50 51 52 53 54 55 56 57 58 59 60 61 62 63 64 65 66 67 68 69 70 71\n",
            " 72 73 74 75 76 77 78 79 80 81 82 83 84 85 86 87 88 89 90 91 92 93 94 95\n",
            " 96 97 98 99]\n",
            "49.5\n",
            "49.5\n",
            "49.5\n",
            "28.86607004772212\n"
          ],
          "name": "stdout"
        }
      ]
    },
    {
      "cell_type": "markdown",
      "metadata": {
        "id": "y9lQ1G3TSnqy",
        "colab_type": "text"
      },
      "source": [
        "##Question 8"
      ]
    },
    {
      "cell_type": "code",
      "metadata": {
        "id": "PS4BTzJ-Srnp",
        "colab_type": "code",
        "colab": {
          "base_uri": "https://localhost:8080/",
          "height": 204
        },
        "outputId": "069549a9-316f-451d-db32-9a95c8252b95"
      },
      "source": [
        "import numpy as np \n",
        "\n",
        "x=np.random.random((5,5))\n",
        "\n",
        "print(x)\n",
        "\n",
        "xmax = x.max() \n",
        "xmin=x.min()\n",
        "\n",
        "x=(x-xmin)/(xmax-xmin)\n",
        "print(\"after normalisation\")\n",
        "print(x)\n"
      ],
      "execution_count": 114,
      "outputs": [
        {
          "output_type": "stream",
          "text": [
            "[[0.15645732 0.58612905 0.76320356 0.18563576 0.46026191]\n",
            " [0.43317318 0.31150011 0.66825806 0.17737697 0.74390138]\n",
            " [0.52503376 0.13167324 0.15185877 0.29898329 0.02897551]\n",
            " [0.06580603 0.78574324 0.16552361 0.8713551  0.44963372]\n",
            " [0.30213969 0.44774325 0.93390172 0.58046809 0.5781401 ]]\n",
            "after normalisation\n",
            "[[0.14087537 0.61568947 0.81136787 0.17311936 0.47659841]\n",
            " [0.44666367 0.31220733 0.70644716 0.16399288 0.79003775]\n",
            " [0.54817535 0.11348741 0.13579367 0.29837547 0.        ]\n",
            " [0.04070002 0.83627562 0.15089417 0.93088207 0.4648536 ]\n",
            " [0.30186349 0.46276451 1.         0.60943375 0.60686119]]\n"
          ],
          "name": "stdout"
        }
      ]
    },
    {
      "cell_type": "markdown",
      "metadata": {
        "id": "TpjdF5ZWT8LB",
        "colab_type": "text"
      },
      "source": [
        "##Question 9"
      ]
    },
    {
      "cell_type": "code",
      "metadata": {
        "id": "ZvSiJoGBT-84",
        "colab_type": "code",
        "colab": {
          "base_uri": "https://localhost:8080/",
          "height": 340
        },
        "outputId": "337bd8de-c7f9-4455-90ae-f2dbdb3bb7ce"
      },
      "source": [
        "import numpy as np\n",
        "\n",
        "a=np.arange(48).reshape(4,4,3)\n",
        "\n",
        "\n",
        "b=np.arange(16).reshape(4,4,1)\n",
        "\n",
        "mul=a*b\n",
        "\n",
        "print(mul)"
      ],
      "execution_count": 124,
      "outputs": [
        {
          "output_type": "stream",
          "text": [
            "[[[  0   0   0]\n",
            "  [  3   4   5]\n",
            "  [ 12  14  16]\n",
            "  [ 27  30  33]]\n",
            "\n",
            " [[ 48  52  56]\n",
            "  [ 75  80  85]\n",
            "  [108 114 120]\n",
            "  [147 154 161]]\n",
            "\n",
            " [[192 200 208]\n",
            "  [243 252 261]\n",
            "  [300 310 320]\n",
            "  [363 374 385]]\n",
            "\n",
            " [[432 444 456]\n",
            "  [507 520 533]\n",
            "  [588 602 616]\n",
            "  [675 690 705]]]\n"
          ],
          "name": "stdout"
        }
      ]
    }
  ]
}